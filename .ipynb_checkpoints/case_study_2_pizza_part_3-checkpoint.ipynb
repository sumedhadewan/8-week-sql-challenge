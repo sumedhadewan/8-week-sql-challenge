{
 "cells": [
  {
   "cell_type": "markdown",
   "metadata": {},
   "source": [
    "### Case Study 2\n",
    "### 🍕 Pizza Runner Part 3\n",
    "\n",
    "Source : <a href='https://8weeksqlchallenge.com/case-study-2/'>8 Weel SQL Challenge</a>\n",
    "***"
   ]
  },
  {
   "cell_type": "code",
   "execution_count": 1,
   "metadata": {},
   "outputs": [],
   "source": [
    "%load_ext sql"
   ]
  },
  {
   "cell_type": "code",
   "execution_count": 2,
   "metadata": {},
   "outputs": [],
   "source": [
    "%sql sqlite:///datasets/pizza_runner.sqlite"
   ]
  },
  {
   "cell_type": "markdown",
   "metadata": {},
   "source": [
    "### <font color='green'>Pizza Metrics</font>"
   ]
  },
  {
   "cell_type": "markdown",
   "metadata": {},
   "source": [
    "#### 1.  How many pizzas were ordered?"
   ]
  },
  {
   "cell_type": "markdown",
   "metadata": {},
   "source": [
    "Checking data types in **customer_orders**"
   ]
  },
  {
   "cell_type": "code",
   "execution_count": 7,
   "metadata": {},
   "outputs": [
    {
     "name": "stdout",
     "output_type": "stream",
     "text": [
      " * sqlite:///datasets/pizza_runner.sqlite\n",
      "Done.\n"
     ]
    },
    {
     "data": {
      "text/html": [
       "<table>\n",
       "    <tr>\n",
       "        <th>cid</th>\n",
       "        <th>name</th>\n",
       "        <th>type</th>\n",
       "        <th>notnull</th>\n",
       "        <th>dflt_value</th>\n",
       "        <th>pk</th>\n",
       "    </tr>\n",
       "    <tr>\n",
       "        <td>0</td>\n",
       "        <td>order_id</td>\n",
       "        <td>INTEGER</td>\n",
       "        <td>0</td>\n",
       "        <td>None</td>\n",
       "        <td>0</td>\n",
       "    </tr>\n",
       "    <tr>\n",
       "        <td>1</td>\n",
       "        <td>customer_id</td>\n",
       "        <td>INTEGER</td>\n",
       "        <td>0</td>\n",
       "        <td>None</td>\n",
       "        <td>0</td>\n",
       "    </tr>\n",
       "    <tr>\n",
       "        <td>2</td>\n",
       "        <td>pizza_id</td>\n",
       "        <td>INTEGER</td>\n",
       "        <td>0</td>\n",
       "        <td>None</td>\n",
       "        <td>0</td>\n",
       "    </tr>\n",
       "    <tr>\n",
       "        <td>3</td>\n",
       "        <td>exclusions</td>\n",
       "        <td>VARCHAR(4)</td>\n",
       "        <td>0</td>\n",
       "        <td>None</td>\n",
       "        <td>0</td>\n",
       "    </tr>\n",
       "    <tr>\n",
       "        <td>4</td>\n",
       "        <td>extras</td>\n",
       "        <td>VARCHAR(4)</td>\n",
       "        <td>0</td>\n",
       "        <td>None</td>\n",
       "        <td>0</td>\n",
       "    </tr>\n",
       "    <tr>\n",
       "        <td>5</td>\n",
       "        <td>order_time</td>\n",
       "        <td>TIMESTAMP</td>\n",
       "        <td>0</td>\n",
       "        <td>None</td>\n",
       "        <td>0</td>\n",
       "    </tr>\n",
       "</table>"
      ],
      "text/plain": [
       "[(0, 'order_id', 'INTEGER', 0, None, 0),\n",
       " (1, 'customer_id', 'INTEGER', 0, None, 0),\n",
       " (2, 'pizza_id', 'INTEGER', 0, None, 0),\n",
       " (3, 'exclusions', 'VARCHAR(4)', 0, None, 0),\n",
       " (4, 'extras', 'VARCHAR(4)', 0, None, 0),\n",
       " (5, 'order_time', 'TIMESTAMP', 0, None, 0)]"
      ]
     },
     "execution_count": 7,
     "metadata": {},
     "output_type": "execute_result"
    }
   ],
   "source": [
    "%%sql\n",
    "PRAGMA TABLE_INFO(customer_orders)"
   ]
  },
  {
   "cell_type": "code",
   "execution_count": 34,
   "metadata": {},
   "outputs": [
    {
     "name": "stdout",
     "output_type": "stream",
     "text": [
      " * sqlite:///datasets/pizza_runner.sqlite\n",
      "Done.\n"
     ]
    },
    {
     "data": {
      "text/html": [
       "<table>\n",
       "    <tr>\n",
       "        <th>pizza_ordered</th>\n",
       "    </tr>\n",
       "    <tr>\n",
       "        <td>14</td>\n",
       "    </tr>\n",
       "</table>"
      ],
      "text/plain": [
       "[(14,)]"
      ]
     },
     "execution_count": 34,
     "metadata": {},
     "output_type": "execute_result"
    }
   ],
   "source": [
    "%%sql\n",
    "\n",
    "SELECT COUNT(pizza_id) AS pizza_ordered\n",
    "FROM customer_orders"
   ]
  },
  {
   "cell_type": "markdown",
   "metadata": {},
   "source": [
    "#### 2. How many unique customer orders were made?"
   ]
  },
  {
   "cell_type": "code",
   "execution_count": 24,
   "metadata": {},
   "outputs": [
    {
     "name": "stdout",
     "output_type": "stream",
     "text": [
      " * sqlite:///datasets/pizza_runner.sqlite\n",
      "Done.\n"
     ]
    },
    {
     "data": {
      "text/html": [
       "<table>\n",
       "    <tr>\n",
       "        <th>unique_order</th>\n",
       "    </tr>\n",
       "    <tr>\n",
       "        <td>10</td>\n",
       "    </tr>\n",
       "</table>"
      ],
      "text/plain": [
       "[(10,)]"
      ]
     },
     "execution_count": 24,
     "metadata": {},
     "output_type": "execute_result"
    }
   ],
   "source": [
    "%%sql\n",
    "SELECT COUNT(DISTINCT order_id) AS unique_order\n",
    "FROM customer_orders\n"
   ]
  },
  {
   "cell_type": "markdown",
   "metadata": {},
   "source": [
    "#### 3. How many successful orders were delivered by each runner?"
   ]
  },
  {
   "cell_type": "code",
   "execution_count": 29,
   "metadata": {},
   "outputs": [
    {
     "name": "stdout",
     "output_type": "stream",
     "text": [
      " * sqlite:///datasets/pizza_runner.sqlite\n",
      "Done.\n"
     ]
    },
    {
     "data": {
      "text/html": [
       "<table>\n",
       "    <tr>\n",
       "        <th>unique_orders_delivered_by_runner</th>\n",
       "    </tr>\n",
       "    <tr>\n",
       "        <td>8</td>\n",
       "    </tr>\n",
       "</table>"
      ],
      "text/plain": [
       "[(8,)]"
      ]
     },
     "execution_count": 29,
     "metadata": {},
     "output_type": "execute_result"
    }
   ],
   "source": [
    "%%sql\n",
    "SELECT COUNT(DISTINCT order_id) AS unique_orders_delivered_by_runner\n",
    "FROM runner_orders\n",
    "WHERE cancellation = ''\n"
   ]
  },
  {
   "cell_type": "markdown",
   "metadata": {},
   "source": [
    "#### 4.  How many of each type of pizza was delivered?"
   ]
  },
  {
   "cell_type": "markdown",
   "metadata": {},
   "source": [
    "#### Creating temp table of `customer_orders` with only pizza delivered"
   ]
  },
  {
   "cell_type": "code",
   "execution_count": 3,
   "metadata": {},
   "outputs": [
    {
     "name": "stdout",
     "output_type": "stream",
     "text": [
      " * sqlite:///datasets/pizza_runner.sqlite\n",
      "Done.\n"
     ]
    },
    {
     "data": {
      "text/plain": [
       "[]"
      ]
     },
     "execution_count": 3,
     "metadata": {},
     "output_type": "execute_result"
    }
   ],
   "source": [
    "%%sql\n",
    "CREATE TEMP TABLE customer_orders_delivered AS\n",
    "SELECT *\n",
    "FROM customer_orders\n",
    "WHERE order_id IN (\n",
    "    SELECT DISTINCT order_id\n",
    "    FROM runner_orders\n",
    "    WHERE cancellation = ''\n",
    ")"
   ]
  },
  {
   "cell_type": "code",
   "execution_count": 8,
   "metadata": {},
   "outputs": [
    {
     "name": "stdout",
     "output_type": "stream",
     "text": [
      " * sqlite:///datasets/pizza_runner.sqlite\n",
      "Done.\n"
     ]
    },
    {
     "data": {
      "text/html": [
       "<table>\n",
       "    <tr>\n",
       "        <th>pizza_name</th>\n",
       "        <th>num_ordered</th>\n",
       "    </tr>\n",
       "    <tr>\n",
       "        <td>Meatlovers</td>\n",
       "        <td>9</td>\n",
       "    </tr>\n",
       "    <tr>\n",
       "        <td>Vegetarian</td>\n",
       "        <td>3</td>\n",
       "    </tr>\n",
       "</table>"
      ],
      "text/plain": [
       "[('Meatlovers', 9), ('Vegetarian', 3)]"
      ]
     },
     "execution_count": 8,
     "metadata": {},
     "output_type": "execute_result"
    }
   ],
   "source": [
    "%%sql\n",
    "SELECT\n",
    "    pizza_name,\n",
    "    num_ordered\n",
    "FROM(\n",
    "    SELECT pizza_id AS pizza_id,\n",
    "           COUNT(pizza_id) AS num_ordered\n",
    "    FROM customer_orders_delivered\n",
    "    GROUP BY pizza_id\n",
    ") AS t1\n",
    "JOIN pizza_names t2\n",
    "ON t1.pizza_id = t2.pizza_id\n",
    "\n"
   ]
  },
  {
   "cell_type": "markdown",
   "metadata": {},
   "source": [
    "#### 5.  How many Vegetarian and Meatlovers were ordered by each customer?"
   ]
  },
  {
   "cell_type": "code",
   "execution_count": 10,
   "metadata": {},
   "outputs": [
    {
     "name": "stdout",
     "output_type": "stream",
     "text": [
      " * sqlite:///datasets/pizza_runner.sqlite\n",
      "Done.\n"
     ]
    },
    {
     "data": {
      "text/html": [
       "<table>\n",
       "    <tr>\n",
       "        <th>pizza_id</th>\n",
       "        <th>pizza_name</th>\n",
       "    </tr>\n",
       "    <tr>\n",
       "        <td>1</td>\n",
       "        <td>Meatlovers</td>\n",
       "    </tr>\n",
       "    <tr>\n",
       "        <td>2</td>\n",
       "        <td>Vegetarian</td>\n",
       "    </tr>\n",
       "</table>"
      ],
      "text/plain": [
       "[(1, 'Meatlovers'), (2, 'Vegetarian')]"
      ]
     },
     "execution_count": 10,
     "metadata": {},
     "output_type": "execute_result"
    }
   ],
   "source": [
    "%%sql\n",
    "SELECT *\n",
    "FROM pizza_names"
   ]
  },
  {
   "cell_type": "code",
   "execution_count": 12,
   "metadata": {},
   "outputs": [
    {
     "name": "stdout",
     "output_type": "stream",
     "text": [
      " * sqlite:///datasets/pizza_runner.sqlite\n",
      "Done.\n"
     ]
    },
    {
     "data": {
      "text/html": [
       "<table>\n",
       "    <tr>\n",
       "        <th>customer_id</th>\n",
       "        <th>meatlover_ordered</th>\n",
       "        <th>vegetarian_ordered</th>\n",
       "    </tr>\n",
       "    <tr>\n",
       "        <td>101</td>\n",
       "        <td>2</td>\n",
       "        <td>1</td>\n",
       "    </tr>\n",
       "    <tr>\n",
       "        <td>102</td>\n",
       "        <td>2</td>\n",
       "        <td>1</td>\n",
       "    </tr>\n",
       "    <tr>\n",
       "        <td>103</td>\n",
       "        <td>3</td>\n",
       "        <td>1</td>\n",
       "    </tr>\n",
       "    <tr>\n",
       "        <td>104</td>\n",
       "        <td>3</td>\n",
       "        <td>0</td>\n",
       "    </tr>\n",
       "    <tr>\n",
       "        <td>105</td>\n",
       "        <td>0</td>\n",
       "        <td>1</td>\n",
       "    </tr>\n",
       "</table>"
      ],
      "text/plain": [
       "[(101, 2, 1), (102, 2, 1), (103, 3, 1), (104, 3, 0), (105, 0, 1)]"
      ]
     },
     "execution_count": 12,
     "metadata": {},
     "output_type": "execute_result"
    }
   ],
   "source": [
    "%%sql\n",
    "SELECT\n",
    "    customer_id,\n",
    "    SUM(CASE WHEN pizza_id = 1 THEN 1 ELSE 0 END) AS meatlover_ordered,\n",
    "    SUM(CASE WHEN pizza_id = 2 THEN 1 ELSE 0 END) AS vegetarian_ordered\n",
    "FROM customer_orders t1\n",
    "GROUP BY customer_id"
   ]
  },
  {
   "cell_type": "markdown",
   "metadata": {},
   "source": [
    "#### 6.  What was the maximum number of pizzas delivered in a single order?"
   ]
  },
  {
   "cell_type": "code",
   "execution_count": 13,
   "metadata": {},
   "outputs": [
    {
     "name": "stdout",
     "output_type": "stream",
     "text": [
      " * sqlite:///datasets/pizza_runner.sqlite\n",
      "Done.\n"
     ]
    },
    {
     "data": {
      "text/html": [
       "<table>\n",
       "    <tr>\n",
       "        <th>customer_id</th>\n",
       "        <th>order_id</th>\n",
       "        <th>num_pizza</th>\n",
       "    </tr>\n",
       "    <tr>\n",
       "        <td>103</td>\n",
       "        <td>4</td>\n",
       "        <td>3</td>\n",
       "    </tr>\n",
       "</table>"
      ],
      "text/plain": [
       "[(103, 4, 3)]"
      ]
     },
     "execution_count": 13,
     "metadata": {},
     "output_type": "execute_result"
    }
   ],
   "source": [
    "%%sql\n",
    "SELECT\n",
    "    customer_id,\n",
    "    order_id,\n",
    "    COUNT(pizza_id)  AS num_pizza  \n",
    "FROM customer_orders_delivered\n",
    "GROUP BY customer_id,order_id\n",
    "ORDER BY num_pizza DESC\n",
    "LIMIT 1"
   ]
  },
  {
   "cell_type": "markdown",
   "metadata": {},
   "source": [
    "#### 7.  For each customer, how many delivered pizzas had at least 1 change and how many had no changes?"
   ]
  },
  {
   "cell_type": "code",
   "execution_count": 57,
   "metadata": {},
   "outputs": [
    {
     "name": "stdout",
     "output_type": "stream",
     "text": [
      " * sqlite:///datasets/pizza_runner.sqlite\n",
      "Done.\n"
     ]
    },
    {
     "data": {
      "text/html": [
       "<table>\n",
       "    <tr>\n",
       "        <th>customer_id</th>\n",
       "        <th>num_pizza_no_change</th>\n",
       "        <th>num_pizza_change</th>\n",
       "    </tr>\n",
       "    <tr>\n",
       "        <td>101</td>\n",
       "        <td>2</td>\n",
       "        <td>0</td>\n",
       "    </tr>\n",
       "    <tr>\n",
       "        <td>102</td>\n",
       "        <td>3</td>\n",
       "        <td>0</td>\n",
       "    </tr>\n",
       "    <tr>\n",
       "        <td>103</td>\n",
       "        <td>0</td>\n",
       "        <td>3</td>\n",
       "    </tr>\n",
       "    <tr>\n",
       "        <td>104</td>\n",
       "        <td>1</td>\n",
       "        <td>2</td>\n",
       "    </tr>\n",
       "    <tr>\n",
       "        <td>105</td>\n",
       "        <td>0</td>\n",
       "        <td>1</td>\n",
       "    </tr>\n",
       "</table>"
      ],
      "text/plain": [
       "[(101, 2, 0), (102, 3, 0), (103, 0, 3), (104, 1, 2), (105, 0, 1)]"
      ]
     },
     "execution_count": 57,
     "metadata": {},
     "output_type": "execute_result"
    }
   ],
   "source": [
    "%%sql\n",
    "SELECT customer_id,\n",
    "       COUNT(CASE WHEN exclusions = '' AND extras ='' THEN 1 END) AS num_pizza_no_change ,\n",
    "       COUNT(CASE WHEN exclusions <> '' OR extras <> '' THEN 1 END) AS num_pizza_change\n",
    "FROM customer_orders_delivered\n",
    "GROUP BY customer_id"
   ]
  },
  {
   "cell_type": "markdown",
   "metadata": {},
   "source": [
    "#### 8.  How many pizzas were delivered that had both exclusions and extras?"
   ]
  },
  {
   "cell_type": "code",
   "execution_count": 60,
   "metadata": {},
   "outputs": [
    {
     "name": "stdout",
     "output_type": "stream",
     "text": [
      " * sqlite:///datasets/pizza_runner.sqlite\n",
      "Done.\n"
     ]
    },
    {
     "data": {
      "text/html": [
       "<table>\n",
       "    <tr>\n",
       "        <th>pizza_with_exclusion_and_extras</th>\n",
       "    </tr>\n",
       "    <tr>\n",
       "        <td>1</td>\n",
       "    </tr>\n",
       "</table>"
      ],
      "text/plain": [
       "[(1,)]"
      ]
     },
     "execution_count": 60,
     "metadata": {},
     "output_type": "execute_result"
    }
   ],
   "source": [
    "%%sql\n",
    "SELECT COUNT(*) AS pizza_with_exclusion_and_extras\n",
    "FROM customer_orders_delivered\n",
    "WHERE exclusions <> '' AND extras <> ''"
   ]
  },
  {
   "cell_type": "markdown",
   "metadata": {},
   "source": [
    "#### 9. What was the total volume of pizzas ordered for each hour of the day?"
   ]
  },
  {
   "cell_type": "code",
   "execution_count": 65,
   "metadata": {},
   "outputs": [
    {
     "name": "stdout",
     "output_type": "stream",
     "text": [
      " * sqlite:///datasets/pizza_runner.sqlite\n",
      "Done.\n"
     ]
    },
    {
     "data": {
      "text/html": [
       "<table>\n",
       "    <tr>\n",
       "        <th>hr</th>\n",
       "        <th>pizza_ordered</th>\n",
       "    </tr>\n",
       "    <tr>\n",
       "        <td>23</td>\n",
       "        <td>3</td>\n",
       "    </tr>\n",
       "    <tr>\n",
       "        <td>21</td>\n",
       "        <td>3</td>\n",
       "    </tr>\n",
       "    <tr>\n",
       "        <td>18</td>\n",
       "        <td>3</td>\n",
       "    </tr>\n",
       "    <tr>\n",
       "        <td>13</td>\n",
       "        <td>3</td>\n",
       "    </tr>\n",
       "    <tr>\n",
       "        <td>19</td>\n",
       "        <td>1</td>\n",
       "    </tr>\n",
       "    <tr>\n",
       "        <td>11</td>\n",
       "        <td>1</td>\n",
       "    </tr>\n",
       "</table>"
      ],
      "text/plain": [
       "[('23', 3), ('21', 3), ('18', 3), ('13', 3), ('19', 1), ('11', 1)]"
      ]
     },
     "execution_count": 65,
     "metadata": {},
     "output_type": "execute_result"
    }
   ],
   "source": [
    "%%sql\n",
    "SELECT \n",
    "    strftime('%H',order_time) AS hr,\n",
    "    COUNT(pizza_id) AS pizza_ordered\n",
    "FROM customer_orders\n",
    "GROUP BY hr\n",
    "ORDER BY pizza_ordered DESC"
   ]
  },
  {
   "cell_type": "markdown",
   "metadata": {},
   "source": [
    "#### 10. What was the volume of orders for each day of the week?"
   ]
  },
  {
   "cell_type": "code",
   "execution_count": 68,
   "metadata": {},
   "outputs": [
    {
     "name": "stdout",
     "output_type": "stream",
     "text": [
      " * sqlite:///datasets/pizza_runner.sqlite\n",
      "Done.\n"
     ]
    },
    {
     "data": {
      "text/html": [
       "<table>\n",
       "    <tr>\n",
       "        <th>weekday</th>\n",
       "        <th>pizza_ordered</th>\n",
       "    </tr>\n",
       "    <tr>\n",
       "        <td>Wenesday</td>\n",
       "        <td>5</td>\n",
       "    </tr>\n",
       "    <tr>\n",
       "        <td>Saturday</td>\n",
       "        <td>5</td>\n",
       "    </tr>\n",
       "    <tr>\n",
       "        <td>Thursday</td>\n",
       "        <td>3</td>\n",
       "    </tr>\n",
       "    <tr>\n",
       "        <td>Friday</td>\n",
       "        <td>1</td>\n",
       "    </tr>\n",
       "</table>"
      ],
      "text/plain": [
       "[('Wenesday', 5), ('Saturday', 5), ('Thursday', 3), ('Friday', 1)]"
      ]
     },
     "execution_count": 68,
     "metadata": {},
     "output_type": "execute_result"
    }
   ],
   "source": [
    "%%sql\n",
    "SELECT \n",
    "    CASE CAST(strftime('%w',order_time) AS INTEGER)\n",
    "    WHEN 0 THEN 'Sunday'\n",
    "    WHEN 1 THEN 'Monday'\n",
    "    WHEN 2 THEN 'Tuesday'\n",
    "    WHEN 3 THEN 'Wenesday'\n",
    "    WHEN 4 THEN 'Thursday'\n",
    "    WHEN 5 THEN 'Friday'\n",
    "    ELSE 'Saturday' END AS weekday,\n",
    "    COUNT(pizza_id) AS pizza_ordered\n",
    "FROM customer_orders\n",
    "GROUP BY weekday\n",
    "ORDER BY pizza_ordered DESC"
   ]
  },
  {
   "cell_type": "markdown",
   "metadata": {},
   "source": [
    "<a id='experience'></a>\n",
    "### <font color='green'>Runner and Customer Experience </font>"
   ]
  },
  {
   "cell_type": "code",
   "execution_count": 46,
   "metadata": {
    "scrolled": true
   },
   "outputs": [
    {
     "name": "stdout",
     "output_type": "stream",
     "text": [
      " * sqlite:///datasets/pizza_runner.sqlite\n",
      "Done.\n"
     ]
    },
    {
     "data": {
      "text/html": [
       "<table>\n",
       "    <tr>\n",
       "        <th>cid</th>\n",
       "        <th>name</th>\n",
       "        <th>type</th>\n",
       "        <th>notnull</th>\n",
       "        <th>dflt_value</th>\n",
       "        <th>pk</th>\n",
       "    </tr>\n",
       "    <tr>\n",
       "        <td>0</td>\n",
       "        <td>order_id</td>\n",
       "        <td>INTEGER</td>\n",
       "        <td>0</td>\n",
       "        <td>None</td>\n",
       "        <td>0</td>\n",
       "    </tr>\n",
       "    <tr>\n",
       "        <td>1</td>\n",
       "        <td>runner_id</td>\n",
       "        <td>INTEGER</td>\n",
       "        <td>0</td>\n",
       "        <td>None</td>\n",
       "        <td>0</td>\n",
       "    </tr>\n",
       "    <tr>\n",
       "        <td>2</td>\n",
       "        <td>pickup_time</td>\n",
       "        <td>VARCHAR(19)</td>\n",
       "        <td>0</td>\n",
       "        <td>None</td>\n",
       "        <td>0</td>\n",
       "    </tr>\n",
       "    <tr>\n",
       "        <td>3</td>\n",
       "        <td>distance</td>\n",
       "        <td>VARCHAR(7)</td>\n",
       "        <td>0</td>\n",
       "        <td>None</td>\n",
       "        <td>0</td>\n",
       "    </tr>\n",
       "    <tr>\n",
       "        <td>4</td>\n",
       "        <td>duration</td>\n",
       "        <td>VARCHAR(10)</td>\n",
       "        <td>0</td>\n",
       "        <td>None</td>\n",
       "        <td>0</td>\n",
       "    </tr>\n",
       "    <tr>\n",
       "        <td>5</td>\n",
       "        <td>cancellation</td>\n",
       "        <td>VARCHAR(23)</td>\n",
       "        <td>0</td>\n",
       "        <td>None</td>\n",
       "        <td>0</td>\n",
       "    </tr>\n",
       "</table>"
      ],
      "text/plain": [
       "[(0, 'order_id', 'INTEGER', 0, None, 0),\n",
       " (1, 'runner_id', 'INTEGER', 0, None, 0),\n",
       " (2, 'pickup_time', 'VARCHAR(19)', 0, None, 0),\n",
       " (3, 'distance', 'VARCHAR(7)', 0, None, 0),\n",
       " (4, 'duration', 'VARCHAR(10)', 0, None, 0),\n",
       " (5, 'cancellation', 'VARCHAR(23)', 0, None, 0)]"
      ]
     },
     "execution_count": 46,
     "metadata": {},
     "output_type": "execute_result"
    }
   ],
   "source": [
    "%%sql\n",
    "\n",
    "PRAGMA TABLE_INFO(runner_orders)"
   ]
  },
  {
   "cell_type": "code",
   "execution_count": 43,
   "metadata": {},
   "outputs": [
    {
     "name": "stdout",
     "output_type": "stream",
     "text": [
      " * sqlite:///datasets/pizza_runner.sqlite\n",
      "Done.\n",
      "Done.\n"
     ]
    },
    {
     "data": {
      "text/plain": [
       "[]"
      ]
     },
     "execution_count": 43,
     "metadata": {},
     "output_type": "execute_result"
    }
   ],
   "source": [
    "%%sql\n",
    "\n",
    "DROP TABLE IF EXISTS runner_orders_2;\n",
    "CREATE TEMP TABLE runner_orders_2 AS \n",
    "    SELECT \n",
    "        order_id,\n",
    "        runner_id,\n",
    "        pickup_time,\n",
    "        CAST(distance AS DECIMAL) AS distance,\n",
    "        CAST(duration AS INTEGER) AS duration\n",
    "    FROM runner_orders\n"
   ]
  },
  {
   "cell_type": "code",
   "execution_count": 44,
   "metadata": {},
   "outputs": [
    {
     "name": "stdout",
     "output_type": "stream",
     "text": [
      " * sqlite:///datasets/pizza_runner.sqlite\n",
      "Done.\n"
     ]
    },
    {
     "data": {
      "text/html": [
       "<table>\n",
       "    <tr>\n",
       "        <th>order_id</th>\n",
       "        <th>runner_id</th>\n",
       "        <th>pickup_time</th>\n",
       "        <th>distance</th>\n",
       "        <th>duration</th>\n",
       "    </tr>\n",
       "    <tr>\n",
       "        <td>1</td>\n",
       "        <td>1</td>\n",
       "        <td>2020-01-01 18:15:34</td>\n",
       "        <td>20</td>\n",
       "        <td>32</td>\n",
       "    </tr>\n",
       "    <tr>\n",
       "        <td>2</td>\n",
       "        <td>1</td>\n",
       "        <td>2020-01-01 19:10:54</td>\n",
       "        <td>20</td>\n",
       "        <td>27</td>\n",
       "    </tr>\n",
       "    <tr>\n",
       "        <td>3</td>\n",
       "        <td>1</td>\n",
       "        <td>2020-01-03 00:12:37</td>\n",
       "        <td>13.4</td>\n",
       "        <td>20</td>\n",
       "    </tr>\n",
       "    <tr>\n",
       "        <td>4</td>\n",
       "        <td>2</td>\n",
       "        <td>2020-01-04 13:53:03</td>\n",
       "        <td>23.4</td>\n",
       "        <td>40</td>\n",
       "    </tr>\n",
       "    <tr>\n",
       "        <td>5</td>\n",
       "        <td>3</td>\n",
       "        <td>2020-01-08 21:10:57</td>\n",
       "        <td>10</td>\n",
       "        <td>15</td>\n",
       "    </tr>\n",
       "    <tr>\n",
       "        <td>6</td>\n",
       "        <td>3</td>\n",
       "        <td>null</td>\n",
       "        <td>0</td>\n",
       "        <td>0</td>\n",
       "    </tr>\n",
       "    <tr>\n",
       "        <td>7</td>\n",
       "        <td>2</td>\n",
       "        <td>2020-01-08 21:30:45</td>\n",
       "        <td>25</td>\n",
       "        <td>25</td>\n",
       "    </tr>\n",
       "    <tr>\n",
       "        <td>8</td>\n",
       "        <td>2</td>\n",
       "        <td>2020-01-10 00:15:02</td>\n",
       "        <td>23.4</td>\n",
       "        <td>15</td>\n",
       "    </tr>\n",
       "    <tr>\n",
       "        <td>9</td>\n",
       "        <td>2</td>\n",
       "        <td>null</td>\n",
       "        <td>0</td>\n",
       "        <td>0</td>\n",
       "    </tr>\n",
       "    <tr>\n",
       "        <td>10</td>\n",
       "        <td>1</td>\n",
       "        <td>2020-01-11 18:50:20</td>\n",
       "        <td>10</td>\n",
       "        <td>10</td>\n",
       "    </tr>\n",
       "</table>"
      ],
      "text/plain": [
       "[(1, 1, '2020-01-01 18:15:34', 20, 32),\n",
       " (2, 1, '2020-01-01 19:10:54', 20, 27),\n",
       " (3, 1, '2020-01-03 00:12:37', 13.4, 20),\n",
       " (4, 2, '2020-01-04 13:53:03', 23.4, 40),\n",
       " (5, 3, '2020-01-08 21:10:57', 10, 15),\n",
       " (6, 3, 'null', 0, 0),\n",
       " (7, 2, '2020-01-08 21:30:45', 25, 25),\n",
       " (8, 2, '2020-01-10 00:15:02', 23.4, 15),\n",
       " (9, 2, 'null', 0, 0),\n",
       " (10, 1, '2020-01-11 18:50:20', 10, 10)]"
      ]
     },
     "execution_count": 44,
     "metadata": {},
     "output_type": "execute_result"
    }
   ],
   "source": [
    "%%sql\n",
    "SELECT *\n",
    "FROM runner_orders_2"
   ]
  },
  {
   "cell_type": "code",
   "execution_count": 45,
   "metadata": {},
   "outputs": [
    {
     "name": "stdout",
     "output_type": "stream",
     "text": [
      " * sqlite:///datasets/pizza_runner.sqlite\n",
      "Done.\n"
     ]
    },
    {
     "data": {
      "text/html": [
       "<table>\n",
       "    <tr>\n",
       "        <th>cid</th>\n",
       "        <th>name</th>\n",
       "        <th>type</th>\n",
       "        <th>notnull</th>\n",
       "        <th>dflt_value</th>\n",
       "        <th>pk</th>\n",
       "    </tr>\n",
       "    <tr>\n",
       "        <td>0</td>\n",
       "        <td>order_id</td>\n",
       "        <td>INT</td>\n",
       "        <td>0</td>\n",
       "        <td>None</td>\n",
       "        <td>0</td>\n",
       "    </tr>\n",
       "    <tr>\n",
       "        <td>1</td>\n",
       "        <td>runner_id</td>\n",
       "        <td>INT</td>\n",
       "        <td>0</td>\n",
       "        <td>None</td>\n",
       "        <td>0</td>\n",
       "    </tr>\n",
       "    <tr>\n",
       "        <td>2</td>\n",
       "        <td>pickup_time</td>\n",
       "        <td>TEXT</td>\n",
       "        <td>0</td>\n",
       "        <td>None</td>\n",
       "        <td>0</td>\n",
       "    </tr>\n",
       "    <tr>\n",
       "        <td>3</td>\n",
       "        <td>distance</td>\n",
       "        <td>NUM</td>\n",
       "        <td>0</td>\n",
       "        <td>None</td>\n",
       "        <td>0</td>\n",
       "    </tr>\n",
       "    <tr>\n",
       "        <td>4</td>\n",
       "        <td>duration</td>\n",
       "        <td>INT</td>\n",
       "        <td>0</td>\n",
       "        <td>None</td>\n",
       "        <td>0</td>\n",
       "    </tr>\n",
       "</table>"
      ],
      "text/plain": [
       "[(0, 'order_id', 'INT', 0, None, 0),\n",
       " (1, 'runner_id', 'INT', 0, None, 0),\n",
       " (2, 'pickup_time', 'TEXT', 0, None, 0),\n",
       " (3, 'distance', 'NUM', 0, None, 0),\n",
       " (4, 'duration', 'INT', 0, None, 0)]"
      ]
     },
     "execution_count": 45,
     "metadata": {},
     "output_type": "execute_result"
    }
   ],
   "source": [
    "%%sql\n",
    "PRAGMA TABLE_INFO(runner_orders_2)"
   ]
  },
  {
   "cell_type": "markdown",
   "metadata": {},
   "source": [
    "#### 1. How many runners signed up for each 1 week period? (i.e. week starts 2021-01-01)"
   ]
  },
  {
   "cell_type": "code",
   "execution_count": 65,
   "metadata": {},
   "outputs": [
    {
     "name": "stdout",
     "output_type": "stream",
     "text": [
      " * sqlite:///datasets/pizza_runner.sqlite\n",
      "Done.\n"
     ]
    },
    {
     "data": {
      "text/html": [
       "<table>\n",
       "    <tr>\n",
       "        <th>week</th>\n",
       "        <th>runner_registered</th>\n",
       "    </tr>\n",
       "    <tr>\n",
       "        <td>1</td>\n",
       "        <td>2</td>\n",
       "    </tr>\n",
       "    <tr>\n",
       "        <td>2</td>\n",
       "        <td>1</td>\n",
       "    </tr>\n",
       "    <tr>\n",
       "        <td>3</td>\n",
       "        <td>1</td>\n",
       "    </tr>\n",
       "</table>"
      ],
      "text/plain": [
       "[(1, 2), (2, 1), (3, 1)]"
      ]
     },
     "execution_count": 65,
     "metadata": {},
     "output_type": "execute_result"
    }
   ],
   "source": [
    "%%sql\n",
    "SELECT \n",
    "    strftime('%W',registration_date)+1 AS week,\n",
    "    COUNT(DISTINCT runner_id) AS runner_registered\n",
    "FROM runners\n",
    "GROUP BY week"
   ]
  },
  {
   "cell_type": "code",
   "execution_count": 66,
   "metadata": {},
   "outputs": [
    {
     "name": "stdout",
     "output_type": "stream",
     "text": [
      " * sqlite:///datasets/pizza_runner.sqlite\n",
      "Done.\n"
     ]
    },
    {
     "data": {
      "text/html": [
       "<table>\n",
       "    <tr>\n",
       "        <th>COUNT(DISTINCT runner_id)</th>\n",
       "    </tr>\n",
       "    <tr>\n",
       "        <td>4</td>\n",
       "    </tr>\n",
       "</table>"
      ],
      "text/plain": [
       "[(4,)]"
      ]
     },
     "execution_count": 66,
     "metadata": {},
     "output_type": "execute_result"
    }
   ],
   "source": [
    "%%sql\n",
    "SELECT COUNT(DISTINCT runner_id)\n",
    "FROM runners"
   ]
  },
  {
   "cell_type": "markdown",
   "metadata": {},
   "source": [
    "#### 2. What was the average time in minutes it took for each runner to arrive at the Pizza Runner HQ to pickup the order?"
   ]
  },
  {
   "cell_type": "code",
   "execution_count": 16,
   "metadata": {},
   "outputs": [
    {
     "name": "stdout",
     "output_type": "stream",
     "text": [
      " * sqlite:///datasets/pizza_runner.sqlite\n",
      "Done.\n",
      "Done.\n"
     ]
    },
    {
     "data": {
      "text/plain": [
       "[]"
      ]
     },
     "execution_count": 16,
     "metadata": {},
     "output_type": "execute_result"
    }
   ],
   "source": [
    "%%sql\n",
    "DROP TABLE IF EXISTS order_time_table;\n",
    "CREATE TEMP TABLE order_time_table AS \n",
    "SELECT \n",
    "    order_id , \n",
    "    customer_id,\n",
    "    MIN(order_time) AS order_time,\n",
    "    COUNT(pizza_id) AS pizza_count\n",
    "FROM customer_orders\n",
    "GROUP BY order_id"
   ]
  },
  {
   "cell_type": "code",
   "execution_count": 44,
   "metadata": {},
   "outputs": [
    {
     "name": "stdout",
     "output_type": "stream",
     "text": [
      " * sqlite:///datasets/pizza_runner.sqlite\n",
      "Done.\n"
     ]
    },
    {
     "data": {
      "text/html": [
       "<table>\n",
       "    <tr>\n",
       "        <th>runner_id</th>\n",
       "        <th>avg_runner_pickup_time</th>\n",
       "    </tr>\n",
       "    <tr>\n",
       "        <td>1</td>\n",
       "        <td>14.33</td>\n",
       "    </tr>\n",
       "    <tr>\n",
       "        <td>2</td>\n",
       "        <td>20.01</td>\n",
       "    </tr>\n",
       "    <tr>\n",
       "        <td>3</td>\n",
       "        <td>10.47</td>\n",
       "    </tr>\n",
       "</table>"
      ],
      "text/plain": [
       "[(1, 14.33), (2, 20.01), (3, 10.47)]"
      ]
     },
     "execution_count": 44,
     "metadata": {},
     "output_type": "execute_result"
    }
   ],
   "source": [
    "%%sql\n",
    "SELECT \n",
    "    t1.runner_id,\n",
    "    ROUND(AVG((julianday(t1.pickup_time) - julianday(t2.order_time))*24*60),2) AS avg_runner_pickup_time\n",
    "FROM runner_orders t1\n",
    "JOIN order_time_table t2\n",
    "ON t1.order_id = t2.order_id\n",
    "WHERE t1.cancellation = ''\n",
    "GROUP BY runner_id"
   ]
  },
  {
   "cell_type": "markdown",
   "metadata": {},
   "source": [
    "#### 3. Is there any relationship between the number of pizzas and how long the order takes to prepare?"
   ]
  },
  {
   "cell_type": "code",
   "execution_count": 121,
   "metadata": {},
   "outputs": [
    {
     "name": "stdout",
     "output_type": "stream",
     "text": [
      " * sqlite:///datasets/pizza_runner.sqlite\n",
      "Done.\n"
     ]
    },
    {
     "data": {
      "text/html": [
       "<table>\n",
       "    <tr>\n",
       "        <th>pizza_count</th>\n",
       "        <th>avg_prep_time_mins</th>\n",
       "    </tr>\n",
       "    <tr>\n",
       "        <td>3</td>\n",
       "        <td>29.28</td>\n",
       "    </tr>\n",
       "    <tr>\n",
       "        <td>2</td>\n",
       "        <td>18.37</td>\n",
       "    </tr>\n",
       "    <tr>\n",
       "        <td>1</td>\n",
       "        <td>12.36</td>\n",
       "    </tr>\n",
       "</table>"
      ],
      "text/plain": [
       "[(3, 29.28), (2, 18.37), (1, 12.36)]"
      ]
     },
     "execution_count": 121,
     "metadata": {},
     "output_type": "execute_result"
    }
   ],
   "source": [
    "%%sql\n",
    "\n",
    "SELECT \n",
    "    t2.pizza_count,\n",
    "    ROUND(AVG((julianday(t1.pickup_time)- julianday(t2.order_time))*24*60),2) AS avg_prep_time_mins\n",
    "FROM runner_orders t1\n",
    "JOIN order_time_table t2\n",
    "ON t1.order_id = t2.order_id\n",
    "WHERE t1.cancellation = ''\n",
    "GROUP BY t2.pizza_count\n",
    "ORDER BY avg_prep_time_mins DESC"
   ]
  },
  {
   "cell_type": "markdown",
   "metadata": {},
   "source": [
    "#### 4.  What was the average distance travelled for each customer?"
   ]
  },
  {
   "cell_type": "code",
   "execution_count": 21,
   "metadata": {
    "scrolled": true
   },
   "outputs": [
    {
     "name": "stdout",
     "output_type": "stream",
     "text": [
      " * sqlite:///datasets/pizza_runner.sqlite\n",
      "Done.\n",
      "Done.\n"
     ]
    },
    {
     "data": {
      "text/plain": [
       "[]"
      ]
     },
     "execution_count": 21,
     "metadata": {},
     "output_type": "execute_result"
    }
   ],
   "source": [
    "%%sql\n",
    "DROP TABLE IF EXISTS customer_order_table;\n",
    "CREATE TEMP TABLE customer_order_table AS\n",
    "SELECT\n",
    "    t1.*,\n",
    "    t2.*\n",
    "FROM runner_orders t1\n",
    "JOIN order_time_table t2\n",
    "ON t1.order_id = t2.order_id \n"
   ]
  },
  {
   "cell_type": "code",
   "execution_count": null,
   "metadata": {},
   "outputs": [],
   "source": [
    "\n",
    "ORDER BY avg_distance_km DESC\n",
    "_km"
   ]
  },
  {
   "cell_type": "code",
   "execution_count": 55,
   "metadata": {},
   "outputs": [
    {
     "name": "stdout",
     "output_type": "stream",
     "text": [
      " * sqlite:///datasets/pizza_runner.sqlite\n",
      "Done.\n"
     ]
    },
    {
     "data": {
      "text/html": [
       "<table>\n",
       "    <tr>\n",
       "        <th>customer_id</th>\n",
       "        <th>avg_distance_km</th>\n",
       "    </tr>\n",
       "    <tr>\n",
       "        <td>101</td>\n",
       "        <td>20.0</td>\n",
       "    </tr>\n",
       "    <tr>\n",
       "        <td>102</td>\n",
       "        <td>18.4</td>\n",
       "    </tr>\n",
       "    <tr>\n",
       "        <td>103</td>\n",
       "        <td>23.4</td>\n",
       "    </tr>\n",
       "    <tr>\n",
       "        <td>104</td>\n",
       "        <td>10.0</td>\n",
       "    </tr>\n",
       "    <tr>\n",
       "        <td>105</td>\n",
       "        <td>25.0</td>\n",
       "    </tr>\n",
       "</table>"
      ],
      "text/plain": [
       "[(101, 20.0), (102, 18.4), (103, 23.4), (104, 10.0), (105, 25.0)]"
      ]
     },
     "execution_count": 55,
     "metadata": {},
     "output_type": "execute_result"
    }
   ],
   "source": [
    "%%sql\n",
    "SELECT\n",
    "    customer_id,\n",
    "    ROUND(AVG(CAST(distance AS DECIMAL)),2) AS avg_distance_km\n",
    "FROM customer_order_table\n",
    "WHERE cancellation = ''\n",
    "GROUP BY customer_id\n",
    "ORDER BY customer_id\n"
   ]
  },
  {
   "cell_type": "markdown",
   "metadata": {},
   "source": [
    "#### 5. What was the difference between the longest and shortest delivery times for all orders?"
   ]
  },
  {
   "cell_type": "code",
   "execution_count": 23,
   "metadata": {},
   "outputs": [
    {
     "name": "stdout",
     "output_type": "stream",
     "text": [
      " * sqlite:///datasets/pizza_runner.sqlite\n",
      "Done.\n"
     ]
    },
    {
     "data": {
      "text/html": [
       "<table>\n",
       "    <tr>\n",
       "        <th>MIN(duration)</th>\n",
       "        <th>MAX(duration)</th>\n",
       "        <th>diff_mins</th>\n",
       "    </tr>\n",
       "    <tr>\n",
       "        <td>10</td>\n",
       "        <td>40</td>\n",
       "        <td>30</td>\n",
       "    </tr>\n",
       "</table>"
      ],
      "text/plain": [
       "[('10', '40', 30)]"
      ]
     },
     "execution_count": 23,
     "metadata": {},
     "output_type": "execute_result"
    }
   ],
   "source": [
    "%%sql\n",
    "SELECT\n",
    "    MIN(duration),\n",
    "    MAX(duration),\n",
    "    MAX(duration) - MIN(duration) AS diff_mins\n",
    "FROM customer_order_table\n",
    "WHERE cancellation = ''"
   ]
  },
  {
   "cell_type": "markdown",
   "metadata": {},
   "source": [
    "#### 6. What was the average speed for each runner for each delivery and do you notice any trend for these values?"
   ]
  },
  {
   "cell_type": "code",
   "execution_count": 27,
   "metadata": {},
   "outputs": [
    {
     "name": "stdout",
     "output_type": "stream",
     "text": [
      " * sqlite:///datasets/pizza_runner.sqlite\n",
      "Done.\n"
     ]
    },
    {
     "data": {
      "text/html": [
       "<table>\n",
       "    <tr>\n",
       "        <th>runner_id</th>\n",
       "        <th>distance</th>\n",
       "        <th>avg_speed_km_min</th>\n",
       "    </tr>\n",
       "    <tr>\n",
       "        <td>1</td>\n",
       "        <td>20.0</td>\n",
       "        <td>37.5</td>\n",
       "    </tr>\n",
       "    <tr>\n",
       "        <td>1</td>\n",
       "        <td>20.0</td>\n",
       "        <td>44.44</td>\n",
       "    </tr>\n",
       "    <tr>\n",
       "        <td>1</td>\n",
       "        <td>13.4</td>\n",
       "        <td>40.2</td>\n",
       "    </tr>\n",
       "    <tr>\n",
       "        <td>1</td>\n",
       "        <td>10.0</td>\n",
       "        <td>60.0</td>\n",
       "    </tr>\n",
       "    <tr>\n",
       "        <td>2</td>\n",
       "        <td>23.4</td>\n",
       "        <td>35.1</td>\n",
       "    </tr>\n",
       "    <tr>\n",
       "        <td>2</td>\n",
       "        <td>25.0</td>\n",
       "        <td>60.0</td>\n",
       "    </tr>\n",
       "    <tr>\n",
       "        <td>2</td>\n",
       "        <td>23.4</td>\n",
       "        <td>93.6</td>\n",
       "    </tr>\n",
       "    <tr>\n",
       "        <td>3</td>\n",
       "        <td>10.0</td>\n",
       "        <td>40.0</td>\n",
       "    </tr>\n",
       "</table>"
      ],
      "text/plain": [
       "[(1, '20.0', 37.5),\n",
       " (1, '20.0', 44.44),\n",
       " (1, '13.4', 40.2),\n",
       " (1, '10.0', 60.0),\n",
       " (2, '23.4', 35.1),\n",
       " (2, '25.0', 60.0),\n",
       " (2, '23.4', 93.6),\n",
       " (3, '10.0', 40.0)]"
      ]
     },
     "execution_count": 27,
     "metadata": {},
     "output_type": "execute_result"
    }
   ],
   "source": [
    "%%sql\n",
    "\n",
    "SELECT runner_id,\n",
    "       distance, \n",
    "       ROUND(distance/duration*60,2) AS avg_speed_km_min\n",
    "FROM customer_order_table\n",
    "WHERE cancellation = ''\n",
    "ORDER BY 1 "
   ]
  },
  {
   "cell_type": "markdown",
   "metadata": {},
   "source": [
    "#### 7. What is the successful delivery percentage for each runner?"
   ]
  },
  {
   "cell_type": "code",
   "execution_count": 60,
   "metadata": {},
   "outputs": [
    {
     "name": "stdout",
     "output_type": "stream",
     "text": [
      " * sqlite:///datasets/pizza_runner.sqlite\n",
      "Done.\n"
     ]
    },
    {
     "data": {
      "text/html": [
       "<table>\n",
       "    <tr>\n",
       "        <th>runner_id</th>\n",
       "        <th>delivered_order</th>\n",
       "        <th>total_orders</th>\n",
       "        <th>delivery_sucess_perc</th>\n",
       "    </tr>\n",
       "    <tr>\n",
       "        <td>1</td>\n",
       "        <td>4</td>\n",
       "        <td>4</td>\n",
       "        <td>100.0</td>\n",
       "    </tr>\n",
       "    <tr>\n",
       "        <td>2</td>\n",
       "        <td>3</td>\n",
       "        <td>4</td>\n",
       "        <td>75.0</td>\n",
       "    </tr>\n",
       "    <tr>\n",
       "        <td>3</td>\n",
       "        <td>1</td>\n",
       "        <td>2</td>\n",
       "        <td>50.0</td>\n",
       "    </tr>\n",
       "</table>"
      ],
      "text/plain": [
       "[(1, 4, 4, 100.0), (2, 3, 4, 75.0), (3, 1, 2, 50.0)]"
      ]
     },
     "execution_count": 60,
     "metadata": {},
     "output_type": "execute_result"
    }
   ],
   "source": [
    "%%sql\n",
    "\n",
    "SELECT\n",
    "    runner_id,\n",
    "    delivered_order,\n",
    "    total_orders,\n",
    "    delivered_order*1.0/total_orders*100 AS delivery_sucess_perc\n",
    "FROM(\n",
    "    SELECT \n",
    "        runner_id,\n",
    "        COUNT(*) AS delivered_order,\n",
    "        (\n",
    "            SELECT COUNT(order_id) \n",
    "            FROM runner_orders t1\n",
    "            WHERE t1.runner_id = t2.runner_id\n",
    "        ) AS total_orders\n",
    "    FROM runner_orders t2\n",
    "    WHERE pickup_time <> 'null'\n",
    "    GROUP BY runner_id\n",
    ")"
   ]
  },
  {
   "cell_type": "code",
   "execution_count": 62,
   "metadata": {},
   "outputs": [
    {
     "name": "stdout",
     "output_type": "stream",
     "text": [
      " * sqlite:///datasets/pizza_runner.sqlite\n",
      "Done.\n"
     ]
    },
    {
     "data": {
      "text/html": [
       "<table>\n",
       "    <tr>\n",
       "        <th>order_id</th>\n",
       "        <th>customer_id</th>\n",
       "        <th>pizza_id</th>\n",
       "        <th>exclusions</th>\n",
       "        <th>extras</th>\n",
       "        <th>order_time</th>\n",
       "    </tr>\n",
       "    <tr>\n",
       "        <td>1</td>\n",
       "        <td>101</td>\n",
       "        <td>1</td>\n",
       "        <td></td>\n",
       "        <td></td>\n",
       "        <td>2020-01-01 18:05:02</td>\n",
       "    </tr>\n",
       "    <tr>\n",
       "        <td>2</td>\n",
       "        <td>101</td>\n",
       "        <td>1</td>\n",
       "        <td></td>\n",
       "        <td></td>\n",
       "        <td>2020-01-01 19:00:52</td>\n",
       "    </tr>\n",
       "    <tr>\n",
       "        <td>3</td>\n",
       "        <td>102</td>\n",
       "        <td>1</td>\n",
       "        <td></td>\n",
       "        <td></td>\n",
       "        <td>2020-01-02 23:51:23</td>\n",
       "    </tr>\n",
       "    <tr>\n",
       "        <td>3</td>\n",
       "        <td>102</td>\n",
       "        <td>2</td>\n",
       "        <td></td>\n",
       "        <td></td>\n",
       "        <td>2020-01-02 23:51:23</td>\n",
       "    </tr>\n",
       "    <tr>\n",
       "        <td>4</td>\n",
       "        <td>103</td>\n",
       "        <td>1</td>\n",
       "        <td>4</td>\n",
       "        <td></td>\n",
       "        <td>2020-01-04 13:23:46</td>\n",
       "    </tr>\n",
       "    <tr>\n",
       "        <td>4</td>\n",
       "        <td>103</td>\n",
       "        <td>1</td>\n",
       "        <td>4</td>\n",
       "        <td></td>\n",
       "        <td>2020-01-04 13:23:46</td>\n",
       "    </tr>\n",
       "    <tr>\n",
       "        <td>4</td>\n",
       "        <td>103</td>\n",
       "        <td>2</td>\n",
       "        <td>4</td>\n",
       "        <td></td>\n",
       "        <td>2020-01-04 13:23:46</td>\n",
       "    </tr>\n",
       "    <tr>\n",
       "        <td>5</td>\n",
       "        <td>104</td>\n",
       "        <td>1</td>\n",
       "        <td></td>\n",
       "        <td>1</td>\n",
       "        <td>2020-01-08 21:00:29</td>\n",
       "    </tr>\n",
       "    <tr>\n",
       "        <td>6</td>\n",
       "        <td>101</td>\n",
       "        <td>2</td>\n",
       "        <td></td>\n",
       "        <td></td>\n",
       "        <td>2020-01-08 21:03:13</td>\n",
       "    </tr>\n",
       "    <tr>\n",
       "        <td>7</td>\n",
       "        <td>105</td>\n",
       "        <td>2</td>\n",
       "        <td></td>\n",
       "        <td>1</td>\n",
       "        <td>2020-01-08 21:20:29</td>\n",
       "    </tr>\n",
       "    <tr>\n",
       "        <td>8</td>\n",
       "        <td>102</td>\n",
       "        <td>1</td>\n",
       "        <td></td>\n",
       "        <td></td>\n",
       "        <td>2020-01-09 23:54:33</td>\n",
       "    </tr>\n",
       "    <tr>\n",
       "        <td>9</td>\n",
       "        <td>103</td>\n",
       "        <td>1</td>\n",
       "        <td>4</td>\n",
       "        <td>1, 5</td>\n",
       "        <td>2020-01-10 11:22:59</td>\n",
       "    </tr>\n",
       "    <tr>\n",
       "        <td>10</td>\n",
       "        <td>104</td>\n",
       "        <td>1</td>\n",
       "        <td></td>\n",
       "        <td></td>\n",
       "        <td>2020-01-11 18:34:49</td>\n",
       "    </tr>\n",
       "    <tr>\n",
       "        <td>10</td>\n",
       "        <td>104</td>\n",
       "        <td>1</td>\n",
       "        <td>2, 6</td>\n",
       "        <td>1, 4</td>\n",
       "        <td>2020-01-11 18:34:49</td>\n",
       "    </tr>\n",
       "</table>"
      ],
      "text/plain": [
       "[(1, 101, 1, '', '', '2020-01-01 18:05:02'),\n",
       " (2, 101, 1, '', '', '2020-01-01 19:00:52'),\n",
       " (3, 102, 1, '', '', '2020-01-02 23:51:23'),\n",
       " (3, 102, 2, '', '', '2020-01-02 23:51:23'),\n",
       " (4, 103, 1, '4', '', '2020-01-04 13:23:46'),\n",
       " (4, 103, 1, '4', '', '2020-01-04 13:23:46'),\n",
       " (4, 103, 2, '4', '', '2020-01-04 13:23:46'),\n",
       " (5, 104, 1, '', '1', '2020-01-08 21:00:29'),\n",
       " (6, 101, 2, '', '', '2020-01-08 21:03:13'),\n",
       " (7, 105, 2, '', '1', '2020-01-08 21:20:29'),\n",
       " (8, 102, 1, '', '', '2020-01-09 23:54:33'),\n",
       " (9, 103, 1, '4', '1, 5', '2020-01-10 11:22:59'),\n",
       " (10, 104, 1, '', '', '2020-01-11 18:34:49'),\n",
       " (10, 104, 1, '2, 6', '1, 4', '2020-01-11 18:34:49')]"
      ]
     },
     "execution_count": 62,
     "metadata": {},
     "output_type": "execute_result"
    }
   ],
   "source": [
    "%%sql\n",
    "SELECT *\n",
    "FROM customer_orders"
   ]
  },
  {
   "cell_type": "markdown",
   "metadata": {},
   "source": [
    "#### Prev : 🍕 <a href='case_study_2_pizza_part_2.ipynb'> Pizza Runner PART 2 </a>\n",
    "\n",
    "#### Next : 🍕 <a href='case_study_2_pizza_part_4.ipynb'> Pizza Runner PART 4 </a>\n",
    "\n",
    "#### Back to : <a href='https://github.com/sumedhadewan/8-week-sql-challenge' target='_blank'>Project Table of Content</a>"
   ]
  }
 ],
 "metadata": {
  "kernelspec": {
   "display_name": "Python 3",
   "language": "python",
   "name": "python3"
  },
  "language_info": {
   "codemirror_mode": {
    "name": "ipython",
    "version": 3
   },
   "file_extension": ".py",
   "mimetype": "text/x-python",
   "name": "python",
   "nbconvert_exporter": "python",
   "pygments_lexer": "ipython3",
   "version": "3.8.5"
  }
 },
 "nbformat": 4,
 "nbformat_minor": 4
}
