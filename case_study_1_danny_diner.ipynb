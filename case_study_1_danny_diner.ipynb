{
 "cells": [
  {
   "cell_type": "markdown",
   "metadata": {},
   "source": [
    "## Case Study 1\n",
    "### Danny's Dinner\n",
    "\n",
    "Source : <a href='https://8weeksqlchallenge.com/case-study-1/' target='_blank'>8 Week SQL Challenge</a>"
   ]
  },
  {
   "cell_type": "markdown",
   "metadata": {},
   "source": [
    "<img src=\"images/danny.png\" style='width:500px'/> "
   ]
  },
  {
   "cell_type": "markdown",
   "metadata": {},
   "source": [
    "<a id='top'></a>"
   ]
  },
  {
   "cell_type": "markdown",
   "metadata": {},
   "source": [
    "<a id='top'></a>"
   ]
  },
  {
   "cell_type": "markdown",
   "metadata": {},
   "source": [
    "#### Table of Content\n",
    "\n",
    " * [Introduction](#introduction)\n",
    " * [Creating Tables in Database](#creating)\n",
    " * [Entity Relationship Diagram](#diagram)\n",
    " * [Case study questions and solutions](#solution)"
   ]
  },
  {
   "cell_type": "markdown",
   "metadata": {},
   "source": [
    "<a id='introduction'></a>"
   ]
  },
  {
   "cell_type": "markdown",
   "metadata": {},
   "source": [
    "\n",
    "### Introduction\n",
    "\n",
    "\n",
    "Danny love for Japanese food lead him to embark on risky venture opening a little cute resturant serving his 3 favourite foods : sushi , curry , ramen.\n",
    "\n",
    "Danny is in need of assitance to help the restaurant stay afloat. He want to use basic data collected over few months of operation and answer few simple questions about his customer , their visiting pattern, how much money they've spent and which menu items are their favourite. \n",
    "Having this deeper connection with his customers will help him deliver better and more personalized experience for his loyal customers.\n",
    "\n",
    "Further he plans on using these insights to help him decide whether he should expand the existing customer loyalty progran,"
   ]
  },
  {
   "cell_type": "markdown",
   "metadata": {},
   "source": [
    "Load Extension"
   ]
  },
  {
   "cell_type": "code",
   "execution_count": 1,
   "metadata": {},
   "outputs": [],
   "source": [
    "%load_ext sql"
   ]
  },
  {
   "cell_type": "markdown",
   "metadata": {},
   "source": [
    "Initialize connection\n",
    "\n",
    "It will create a database file with the name dannys_diner under datasets directory, it is not existing already else it will simply initialize the connection to existing database.\n",
    "\n",
    "\n",
    "I'm using sqlite for this project"
   ]
  },
  {
   "cell_type": "code",
   "execution_count": 2,
   "metadata": {},
   "outputs": [],
   "source": [
    "%sql sqlite:///datasets/dannys_diner.db"
   ]
  },
  {
   "cell_type": "markdown",
   "metadata": {},
   "source": [
    "<a id=\"creating\"></a>"
   ]
  },
  {
   "cell_type": "markdown",
   "metadata": {},
   "source": [
    "### Creating tables in Database"
   ]
  },
  {
   "cell_type": "markdown",
   "metadata": {},
   "source": [
    "### Table 1 : `sales`"
   ]
  },
  {
   "cell_type": "markdown",
   "metadata": {},
   "source": [
    "The sales table with three columns - customer id, order_date, product_id.\n",
    "\n",
    "capturing all customer_id level purchases with an corresponding order_date and product_id information for when and what menu items were ordered"
   ]
  },
  {
   "cell_type": "code",
   "execution_count": 5,
   "metadata": {},
   "outputs": [
    {
     "name": "stdout",
     "output_type": "stream",
     "text": [
      " * sqlite:///datasets/dannys_diner.db\n",
      "Done.\n",
      "15 rows affected.\n"
     ]
    },
    {
     "data": {
      "text/plain": [
       "[]"
      ]
     },
     "execution_count": 5,
     "metadata": {},
     "output_type": "execute_result"
    }
   ],
   "source": [
    "%%sql \n",
    "\n",
    "CREATE TABLE sales (\n",
    "  \"customer_id\" VARCHAR(1),\n",
    "  \"order_date\" DATE,\n",
    "  \"product_id\" INTEGER\n",
    ");\n",
    "INSERT INTO sales\n",
    "  (\"customer_id\", \"order_date\", \"product_id\")\n",
    "VALUES\n",
    "  ('A', '2021-01-01', '1'),\n",
    "  ('A', '2021-01-01', '2'),\n",
    "  ('A', '2021-01-07', '2'),\n",
    "  ('A', '2021-01-10', '3'),\n",
    "  ('A', '2021-01-11', '3'),\n",
    "  ('A', '2021-01-11', '3'),\n",
    "  ('B', '2021-01-01', '2'),\n",
    "  ('B', '2021-01-02', '2'),\n",
    "  ('B', '2021-01-04', '1'),\n",
    "  ('B', '2021-01-11', '1'),\n",
    "  ('B', '2021-01-16', '3'),\n",
    "  ('B', '2021-02-01', '3'),\n",
    "  ('C', '2021-01-01', '3'),\n",
    "  ('C', '2021-01-01', '3'),\n",
    "  ('C', '2021-01-07', '3');"
   ]
  },
  {
   "cell_type": "markdown",
   "metadata": {},
   "source": [
    "Querying table 'sales' just created"
   ]
  },
  {
   "cell_type": "code",
   "execution_count": 10,
   "metadata": {},
   "outputs": [
    {
     "name": "stdout",
     "output_type": "stream",
     "text": [
      " * sqlite:///datasets/dannys_diner.db\n",
      "Done.\n"
     ]
    },
    {
     "data": {
      "text/html": [
       "<table>\n",
       "    <tr>\n",
       "        <th>customer_id</th>\n",
       "        <th>order_date</th>\n",
       "        <th>product_id</th>\n",
       "    </tr>\n",
       "    <tr>\n",
       "        <td>A</td>\n",
       "        <td>2021-01-01</td>\n",
       "        <td>1</td>\n",
       "    </tr>\n",
       "    <tr>\n",
       "        <td>A</td>\n",
       "        <td>2021-01-01</td>\n",
       "        <td>2</td>\n",
       "    </tr>\n",
       "    <tr>\n",
       "        <td>A</td>\n",
       "        <td>2021-01-07</td>\n",
       "        <td>2</td>\n",
       "    </tr>\n",
       "    <tr>\n",
       "        <td>A</td>\n",
       "        <td>2021-01-10</td>\n",
       "        <td>3</td>\n",
       "    </tr>\n",
       "    <tr>\n",
       "        <td>A</td>\n",
       "        <td>2021-01-11</td>\n",
       "        <td>3</td>\n",
       "    </tr>\n",
       "    <tr>\n",
       "        <td>A</td>\n",
       "        <td>2021-01-11</td>\n",
       "        <td>3</td>\n",
       "    </tr>\n",
       "    <tr>\n",
       "        <td>B</td>\n",
       "        <td>2021-01-01</td>\n",
       "        <td>2</td>\n",
       "    </tr>\n",
       "    <tr>\n",
       "        <td>B</td>\n",
       "        <td>2021-01-02</td>\n",
       "        <td>2</td>\n",
       "    </tr>\n",
       "    <tr>\n",
       "        <td>B</td>\n",
       "        <td>2021-01-04</td>\n",
       "        <td>1</td>\n",
       "    </tr>\n",
       "    <tr>\n",
       "        <td>B</td>\n",
       "        <td>2021-01-11</td>\n",
       "        <td>1</td>\n",
       "    </tr>\n",
       "    <tr>\n",
       "        <td>B</td>\n",
       "        <td>2021-01-16</td>\n",
       "        <td>3</td>\n",
       "    </tr>\n",
       "    <tr>\n",
       "        <td>B</td>\n",
       "        <td>2021-02-01</td>\n",
       "        <td>3</td>\n",
       "    </tr>\n",
       "    <tr>\n",
       "        <td>C</td>\n",
       "        <td>2021-01-01</td>\n",
       "        <td>3</td>\n",
       "    </tr>\n",
       "    <tr>\n",
       "        <td>C</td>\n",
       "        <td>2021-01-01</td>\n",
       "        <td>3</td>\n",
       "    </tr>\n",
       "    <tr>\n",
       "        <td>C</td>\n",
       "        <td>2021-01-07</td>\n",
       "        <td>3</td>\n",
       "    </tr>\n",
       "</table>"
      ],
      "text/plain": [
       "[('A', '2021-01-01', 1),\n",
       " ('A', '2021-01-01', 2),\n",
       " ('A', '2021-01-07', 2),\n",
       " ('A', '2021-01-10', 3),\n",
       " ('A', '2021-01-11', 3),\n",
       " ('A', '2021-01-11', 3),\n",
       " ('B', '2021-01-01', 2),\n",
       " ('B', '2021-01-02', 2),\n",
       " ('B', '2021-01-04', 1),\n",
       " ('B', '2021-01-11', 1),\n",
       " ('B', '2021-01-16', 3),\n",
       " ('B', '2021-02-01', 3),\n",
       " ('C', '2021-01-01', 3),\n",
       " ('C', '2021-01-01', 3),\n",
       " ('C', '2021-01-07', 3)]"
      ]
     },
     "execution_count": 10,
     "metadata": {},
     "output_type": "execute_result"
    }
   ],
   "source": [
    "\n",
    "%%sql\n",
    "SELECT *\n",
    "FROM sales"
   ]
  },
  {
   "cell_type": "markdown",
   "metadata": {},
   "source": [
    "### Table 2 : `menu`\n",
    "\n",
    "The menu table maps the product_id to the actual product_name and price of each menu item."
   ]
  },
  {
   "cell_type": "code",
   "execution_count": 14,
   "metadata": {},
   "outputs": [
    {
     "name": "stdout",
     "output_type": "stream",
     "text": [
      " * sqlite:///datasets/dannys_diner.db\n",
      "Done.\n",
      "3 rows affected.\n"
     ]
    },
    {
     "data": {
      "text/plain": [
       "[]"
      ]
     },
     "execution_count": 14,
     "metadata": {},
     "output_type": "execute_result"
    }
   ],
   "source": [
    "%%sql\n",
    "CREATE TABLE menu(\n",
    "    \"product_id\" INTEGER,\n",
    "    \"product_name\" VARCHAR(5),\n",
    "    \"price\" INTEGER\n",
    ");\n",
    "INSERT INTO menu\n",
    "    (\"product_id\",\"product_name\",\"price\")\n",
    "VALUES\n",
    "    ('1','sushi','10'),\n",
    "    ('2','curry','15'),\n",
    "    ('3','ramen','12');"
   ]
  },
  {
   "cell_type": "code",
   "execution_count": 15,
   "metadata": {},
   "outputs": [
    {
     "name": "stdout",
     "output_type": "stream",
     "text": [
      " * sqlite:///datasets/dannys_diner.db\n",
      "Done.\n"
     ]
    },
    {
     "data": {
      "text/html": [
       "<table>\n",
       "    <tr>\n",
       "        <th>product_id</th>\n",
       "        <th>product_name</th>\n",
       "        <th>price</th>\n",
       "    </tr>\n",
       "    <tr>\n",
       "        <td>1</td>\n",
       "        <td>sushi</td>\n",
       "        <td>10</td>\n",
       "    </tr>\n",
       "    <tr>\n",
       "        <td>2</td>\n",
       "        <td>curry</td>\n",
       "        <td>15</td>\n",
       "    </tr>\n",
       "    <tr>\n",
       "        <td>3</td>\n",
       "        <td>ramen</td>\n",
       "        <td>12</td>\n",
       "    </tr>\n",
       "</table>"
      ],
      "text/plain": [
       "[(1, 'sushi', 10), (2, 'curry', 15), (3, 'ramen', 12)]"
      ]
     },
     "execution_count": 15,
     "metadata": {},
     "output_type": "execute_result"
    }
   ],
   "source": [
    "%%sql\n",
    "SELECT *\n",
    "FROM menu"
   ]
  },
  {
   "cell_type": "markdown",
   "metadata": {},
   "source": [
    "### Table 3: `members`\n",
    "\n",
    "The final members table captures the join_date when a customer_id joined the beta version of the Danny’s Diner loyalty program"
   ]
  },
  {
   "cell_type": "code",
   "execution_count": 35,
   "metadata": {},
   "outputs": [
    {
     "name": "stdout",
     "output_type": "stream",
     "text": [
      " * sqlite:///datasets/dannys_diner.db\n",
      "Done.\n"
     ]
    },
    {
     "data": {
      "text/plain": [
       "[]"
      ]
     },
     "execution_count": 35,
     "metadata": {},
     "output_type": "execute_result"
    }
   ],
   "source": [
    "%%sql\n",
    "DROP TABLE members"
   ]
  },
  {
   "cell_type": "code",
   "execution_count": 36,
   "metadata": {},
   "outputs": [
    {
     "name": "stdout",
     "output_type": "stream",
     "text": [
      " * sqlite:///datasets/dannys_diner.db\n",
      "Done.\n",
      "2 rows affected.\n"
     ]
    },
    {
     "data": {
      "text/plain": [
       "[]"
      ]
     },
     "execution_count": 36,
     "metadata": {},
     "output_type": "execute_result"
    }
   ],
   "source": [
    "%%sql\n",
    "CREATE TABLE members(\n",
    "    \"customer_id\" VARCHAR(1),\n",
    "    \"join_date\" DATE\n",
    ");\n",
    "INSERT INTO members\n",
    "    (\"customer_id\",\"join_date\")\n",
    "VALUES\n",
    "    ('A','2021-01-07'),\n",
    "    ('B','2021-01-09');"
   ]
  },
  {
   "cell_type": "code",
   "execution_count": 37,
   "metadata": {},
   "outputs": [
    {
     "name": "stdout",
     "output_type": "stream",
     "text": [
      " * sqlite:///datasets/dannys_diner.db\n",
      "Done.\n"
     ]
    },
    {
     "data": {
      "text/html": [
       "<table>\n",
       "    <tr>\n",
       "        <th>customer_id</th>\n",
       "        <th>join_date</th>\n",
       "    </tr>\n",
       "    <tr>\n",
       "        <td>A</td>\n",
       "        <td>2021-01-07</td>\n",
       "    </tr>\n",
       "    <tr>\n",
       "        <td>B</td>\n",
       "        <td>2021-01-09</td>\n",
       "    </tr>\n",
       "</table>"
      ],
      "text/plain": [
       "[('A', '2021-01-07'), ('B', '2021-01-09')]"
      ]
     },
     "execution_count": 37,
     "metadata": {},
     "output_type": "execute_result"
    }
   ],
   "source": [
    "%%sql\n",
    "SELECT *\n",
    "FROM members"
   ]
  },
  {
   "cell_type": "code",
   "execution_count": 52,
   "metadata": {},
   "outputs": [
    {
     "name": "stdout",
     "output_type": "stream",
     "text": [
      " * sqlite:///datasets/dannys_diner.db\n",
      "(sqlite3.OperationalError) no such table: INFORMATION_SCHEMA.TABLES\n",
      "[SQL: SELECT column_name, data_type\n",
      "FROM INFORMATION_SCHEMA.TABLES]\n",
      "(Background on this error at: http://sqlalche.me/e/13/e3q8)\n"
     ]
    }
   ],
   "source": [
    "%%sql\n",
    "\n",
    "SELECT column_name, data_type\n",
    "FROM INFORMATION_SCHEMA.TABLES\n"
   ]
  },
  {
   "cell_type": "markdown",
   "metadata": {},
   "source": [
    "### Querying table names"
   ]
  },
  {
   "cell_type": "code",
   "execution_count": 19,
   "metadata": {},
   "outputs": [
    {
     "name": "stdout",
     "output_type": "stream",
     "text": [
      " * sqlite:///datasets/dannys_diner.db\n",
      "Done.\n"
     ]
    },
    {
     "data": {
      "text/html": [
       "<table>\n",
       "    <tr>\n",
       "        <th>name</th>\n",
       "    </tr>\n",
       "    <tr>\n",
       "        <td>sales</td>\n",
       "    </tr>\n",
       "    <tr>\n",
       "        <td>menu</td>\n",
       "    </tr>\n",
       "    <tr>\n",
       "        <td>members</td>\n",
       "    </tr>\n",
       "</table>"
      ],
      "text/plain": [
       "[('sales',), ('menu',), ('members',)]"
      ]
     },
     "execution_count": 19,
     "metadata": {},
     "output_type": "execute_result"
    }
   ],
   "source": [
    "%%sql\n",
    "SELECT name\n",
    "FROM sqlite_master\n",
    "WHERE TYPE ='table'"
   ]
  },
  {
   "cell_type": "markdown",
   "metadata": {},
   "source": [
    "<a id=\"diagram\"></a>"
   ]
  },
  {
   "cell_type": "markdown",
   "metadata": {},
   "source": [
    "\n",
    "## Entity Relationship Diagram"
   ]
  },
  {
   "cell_type": "markdown",
   "metadata": {},
   "source": [
    "<img src=\"images/Danny's Diner.png\">"
   ]
  },
  {
   "cell_type": "markdown",
   "metadata": {},
   "source": [
    "## Join All the Things\n",
    "\n",
    "Generating temp table `basic_table` so Danny and his team can easily inspect the data without needing to use SQL"
   ]
  },
  {
   "cell_type": "code",
   "execution_count": 4,
   "metadata": {},
   "outputs": [
    {
     "name": "stdout",
     "output_type": "stream",
     "text": [
      " * sqlite:///datasets/dannys_diner.db\n",
      "Done.\n"
     ]
    },
    {
     "data": {
      "text/plain": [
       "[]"
      ]
     },
     "execution_count": 4,
     "metadata": {},
     "output_type": "execute_result"
    }
   ],
   "source": [
    "%%sql\n",
    "CREATE TEMP TABLE basic_table AS\n",
    "SELECT\n",
    "    s.customer_id,\n",
    "    s.order_date,\n",
    "    m.product_id,\n",
    "    m.product_name,\n",
    "    m.price,\n",
    "    CASE \n",
    "    WHEN s.customer_id IN \n",
    "        (SELECT customer_id \n",
    "         FROM members mem\n",
    "         WHERE s.order_date >= mem.join_date\n",
    "        )\n",
    "    THEN 'Y'\n",
    "    ELSE 'N' END AS member\n",
    "FROM sales s\n",
    "JOIN menu m\n",
    "ON s.product_id = m.product_id\n",
    "ORDER BY s.customer_id,s.order_date , price DESC\n"
   ]
  },
  {
   "cell_type": "code",
   "execution_count": 56,
   "metadata": {},
   "outputs": [
    {
     "name": "stdout",
     "output_type": "stream",
     "text": [
      " * sqlite:///datasets/dannys_diner.db\n",
      "Done.\n"
     ]
    },
    {
     "data": {
      "text/html": [
       "<table>\n",
       "    <tr>\n",
       "        <th>customer_id</th>\n",
       "        <th>order_date</th>\n",
       "        <th>product_id</th>\n",
       "        <th>product_name</th>\n",
       "        <th>price</th>\n",
       "        <th>member</th>\n",
       "    </tr>\n",
       "    <tr>\n",
       "        <td>A</td>\n",
       "        <td>2021-01-01</td>\n",
       "        <td>2</td>\n",
       "        <td>curry</td>\n",
       "        <td>15</td>\n",
       "        <td>N</td>\n",
       "    </tr>\n",
       "    <tr>\n",
       "        <td>A</td>\n",
       "        <td>2021-01-01</td>\n",
       "        <td>1</td>\n",
       "        <td>sushi</td>\n",
       "        <td>10</td>\n",
       "        <td>N</td>\n",
       "    </tr>\n",
       "    <tr>\n",
       "        <td>A</td>\n",
       "        <td>2021-01-07</td>\n",
       "        <td>2</td>\n",
       "        <td>curry</td>\n",
       "        <td>15</td>\n",
       "        <td>Y</td>\n",
       "    </tr>\n",
       "    <tr>\n",
       "        <td>A</td>\n",
       "        <td>2021-01-10</td>\n",
       "        <td>3</td>\n",
       "        <td>ramen</td>\n",
       "        <td>12</td>\n",
       "        <td>Y</td>\n",
       "    </tr>\n",
       "    <tr>\n",
       "        <td>A</td>\n",
       "        <td>2021-01-11</td>\n",
       "        <td>3</td>\n",
       "        <td>ramen</td>\n",
       "        <td>12</td>\n",
       "        <td>Y</td>\n",
       "    </tr>\n",
       "    <tr>\n",
       "        <td>A</td>\n",
       "        <td>2021-01-11</td>\n",
       "        <td>3</td>\n",
       "        <td>ramen</td>\n",
       "        <td>12</td>\n",
       "        <td>Y</td>\n",
       "    </tr>\n",
       "    <tr>\n",
       "        <td>B</td>\n",
       "        <td>2021-01-01</td>\n",
       "        <td>2</td>\n",
       "        <td>curry</td>\n",
       "        <td>15</td>\n",
       "        <td>N</td>\n",
       "    </tr>\n",
       "    <tr>\n",
       "        <td>B</td>\n",
       "        <td>2021-01-02</td>\n",
       "        <td>2</td>\n",
       "        <td>curry</td>\n",
       "        <td>15</td>\n",
       "        <td>N</td>\n",
       "    </tr>\n",
       "    <tr>\n",
       "        <td>B</td>\n",
       "        <td>2021-01-04</td>\n",
       "        <td>1</td>\n",
       "        <td>sushi</td>\n",
       "        <td>10</td>\n",
       "        <td>N</td>\n",
       "    </tr>\n",
       "    <tr>\n",
       "        <td>B</td>\n",
       "        <td>2021-01-11</td>\n",
       "        <td>1</td>\n",
       "        <td>sushi</td>\n",
       "        <td>10</td>\n",
       "        <td>Y</td>\n",
       "    </tr>\n",
       "    <tr>\n",
       "        <td>B</td>\n",
       "        <td>2021-01-16</td>\n",
       "        <td>3</td>\n",
       "        <td>ramen</td>\n",
       "        <td>12</td>\n",
       "        <td>Y</td>\n",
       "    </tr>\n",
       "    <tr>\n",
       "        <td>B</td>\n",
       "        <td>2021-02-01</td>\n",
       "        <td>3</td>\n",
       "        <td>ramen</td>\n",
       "        <td>12</td>\n",
       "        <td>Y</td>\n",
       "    </tr>\n",
       "    <tr>\n",
       "        <td>C</td>\n",
       "        <td>2021-01-01</td>\n",
       "        <td>3</td>\n",
       "        <td>ramen</td>\n",
       "        <td>12</td>\n",
       "        <td>N</td>\n",
       "    </tr>\n",
       "    <tr>\n",
       "        <td>C</td>\n",
       "        <td>2021-01-01</td>\n",
       "        <td>3</td>\n",
       "        <td>ramen</td>\n",
       "        <td>12</td>\n",
       "        <td>N</td>\n",
       "    </tr>\n",
       "    <tr>\n",
       "        <td>C</td>\n",
       "        <td>2021-01-07</td>\n",
       "        <td>3</td>\n",
       "        <td>ramen</td>\n",
       "        <td>12</td>\n",
       "        <td>N</td>\n",
       "    </tr>\n",
       "</table>"
      ],
      "text/plain": [
       "[('A', '2021-01-01', 2, 'curry', 15, 'N'),\n",
       " ('A', '2021-01-01', 1, 'sushi', 10, 'N'),\n",
       " ('A', '2021-01-07', 2, 'curry', 15, 'Y'),\n",
       " ('A', '2021-01-10', 3, 'ramen', 12, 'Y'),\n",
       " ('A', '2021-01-11', 3, 'ramen', 12, 'Y'),\n",
       " ('A', '2021-01-11', 3, 'ramen', 12, 'Y'),\n",
       " ('B', '2021-01-01', 2, 'curry', 15, 'N'),\n",
       " ('B', '2021-01-02', 2, 'curry', 15, 'N'),\n",
       " ('B', '2021-01-04', 1, 'sushi', 10, 'N'),\n",
       " ('B', '2021-01-11', 1, 'sushi', 10, 'Y'),\n",
       " ('B', '2021-01-16', 3, 'ramen', 12, 'Y'),\n",
       " ('B', '2021-02-01', 3, 'ramen', 12, 'Y'),\n",
       " ('C', '2021-01-01', 3, 'ramen', 12, 'N'),\n",
       " ('C', '2021-01-01', 3, 'ramen', 12, 'N'),\n",
       " ('C', '2021-01-07', 3, 'ramen', 12, 'N')]"
      ]
     },
     "execution_count": 56,
     "metadata": {},
     "output_type": "execute_result"
    }
   ],
   "source": [
    "%%sql\n",
    "SELECT *\n",
    "FROM basic_table\n",
    "\n"
   ]
  },
  {
   "cell_type": "markdown",
   "metadata": {},
   "source": [
    "<a id=\"solution\"></a>"
   ]
  },
  {
   "cell_type": "markdown",
   "metadata": {},
   "source": [
    "\n",
    "# Case study questions"
   ]
  },
  {
   "cell_type": "markdown",
   "metadata": {},
   "source": [
    "### 1.  What is the total amount each customer spent at the restaurant?"
   ]
  },
  {
   "cell_type": "code",
   "execution_count": 58,
   "metadata": {},
   "outputs": [
    {
     "name": "stdout",
     "output_type": "stream",
     "text": [
      " * sqlite:///datasets/dannys_diner.db\n",
      "Done.\n"
     ]
    },
    {
     "data": {
      "text/html": [
       "<table>\n",
       "    <tr>\n",
       "        <th>customer_id</th>\n",
       "        <th>total_spent</th>\n",
       "    </tr>\n",
       "    <tr>\n",
       "        <td>A</td>\n",
       "        <td>76</td>\n",
       "    </tr>\n",
       "    <tr>\n",
       "        <td>B</td>\n",
       "        <td>74</td>\n",
       "    </tr>\n",
       "    <tr>\n",
       "        <td>C</td>\n",
       "        <td>36</td>\n",
       "    </tr>\n",
       "</table>"
      ],
      "text/plain": [
       "[('A', 76), ('B', 74), ('C', 36)]"
      ]
     },
     "execution_count": 58,
     "metadata": {},
     "output_type": "execute_result"
    }
   ],
   "source": [
    "%%sql\n",
    "SELECT customer_id, SUM(price) AS total_spent\n",
    "FROM basic_table\n",
    "GROUP BY customer_id\n",
    "ORDER BY customer_id"
   ]
  },
  {
   "cell_type": "markdown",
   "metadata": {},
   "source": [
    "### 2. How many days has each customer visited the restaurant?"
   ]
  },
  {
   "cell_type": "code",
   "execution_count": 62,
   "metadata": {},
   "outputs": [
    {
     "name": "stdout",
     "output_type": "stream",
     "text": [
      " * sqlite:///datasets/dannys_diner.db\n",
      "Done.\n"
     ]
    },
    {
     "data": {
      "text/html": [
       "<table>\n",
       "    <tr>\n",
       "        <th>customer_id</th>\n",
       "        <th>days_vistied</th>\n",
       "    </tr>\n",
       "    <tr>\n",
       "        <td>A</td>\n",
       "        <td>4</td>\n",
       "    </tr>\n",
       "    <tr>\n",
       "        <td>B</td>\n",
       "        <td>6</td>\n",
       "    </tr>\n",
       "    <tr>\n",
       "        <td>C</td>\n",
       "        <td>2</td>\n",
       "    </tr>\n",
       "</table>"
      ],
      "text/plain": [
       "[('A', 4), ('B', 6), ('C', 2)]"
      ]
     },
     "execution_count": 62,
     "metadata": {},
     "output_type": "execute_result"
    }
   ],
   "source": [
    "%%sql\n",
    "\n",
    "SELECT \n",
    "    customer_id,\n",
    "    COUNT(DISTINCT order_date) AS days_vistied \n",
    "FROM basic_table\n",
    "GROUP BY customer_id\n"
   ]
  },
  {
   "cell_type": "markdown",
   "metadata": {},
   "source": [
    "B visited often more than A and C.\n",
    "But customers may have visited restaurants twice a day."
   ]
  },
  {
   "cell_type": "code",
   "execution_count": 64,
   "metadata": {},
   "outputs": [
    {
     "name": "stdout",
     "output_type": "stream",
     "text": [
      " * sqlite:///datasets/dannys_diner.db\n",
      "Done.\n"
     ]
    },
    {
     "data": {
      "text/html": [
       "<table>\n",
       "    <tr>\n",
       "        <th>customer_id</th>\n",
       "        <th>days_vistied</th>\n",
       "    </tr>\n",
       "    <tr>\n",
       "        <td>A</td>\n",
       "        <td>6</td>\n",
       "    </tr>\n",
       "    <tr>\n",
       "        <td>B</td>\n",
       "        <td>6</td>\n",
       "    </tr>\n",
       "    <tr>\n",
       "        <td>C</td>\n",
       "        <td>3</td>\n",
       "    </tr>\n",
       "</table>"
      ],
      "text/plain": [
       "[('A', 6), ('B', 6), ('C', 3)]"
      ]
     },
     "execution_count": 64,
     "metadata": {},
     "output_type": "execute_result"
    }
   ],
   "source": [
    "%%sql\n",
    "SELECT \n",
    "    customer_id,\n",
    "    COUNT(order_date) AS days_vistied \n",
    "FROM basic_table\n",
    "GROUP BY customer_id"
   ]
  },
  {
   "cell_type": "markdown",
   "metadata": {},
   "source": [
    "### 3. What was the first item from the menu purchased by each customer? "
   ]
  },
  {
   "cell_type": "code",
   "execution_count": 72,
   "metadata": {},
   "outputs": [
    {
     "name": "stdout",
     "output_type": "stream",
     "text": [
      " * sqlite:///datasets/dannys_diner.db\n",
      "Done.\n"
     ]
    },
    {
     "data": {
      "text/html": [
       "<table>\n",
       "    <tr>\n",
       "        <th>customer_id</th>\n",
       "        <th>first_item</th>\n",
       "    </tr>\n",
       "    <tr>\n",
       "        <td>A</td>\n",
       "        <td>curry,sushi</td>\n",
       "    </tr>\n",
       "    <tr>\n",
       "        <td>B</td>\n",
       "        <td>curry</td>\n",
       "    </tr>\n",
       "    <tr>\n",
       "        <td>C</td>\n",
       "        <td>ramen,ramen</td>\n",
       "    </tr>\n",
       "</table>"
      ],
      "text/plain": [
       "[('A', 'curry,sushi'), ('B', 'curry'), ('C', 'ramen,ramen')]"
      ]
     },
     "execution_count": 72,
     "metadata": {},
     "output_type": "execute_result"
    }
   ],
   "source": [
    "%%sql\n",
    "SELECT\n",
    "    customer_id,\n",
    "    GROUP_CONCAT(product_name,',') AS first_item\n",
    "FROM basic_table t2\n",
    "WHERE order_date = (\n",
    "    SELECT MIN(order_date)\n",
    "    FROM basic_table as t1\n",
    "    WHERE t1.customer_id = t2.customer_id \n",
    "    GROUP BY customer_id\n",
    ")\n",
    "GROUP BY customer_id"
   ]
  },
  {
   "cell_type": "markdown",
   "metadata": {},
   "source": [
    "Ramen is popular item from the menu"
   ]
  },
  {
   "cell_type": "markdown",
   "metadata": {},
   "source": [
    "### 4. What is the most purchased item on the menu and how many times was it purchased by all customers?"
   ]
  },
  {
   "cell_type": "code",
   "execution_count": 77,
   "metadata": {},
   "outputs": [
    {
     "name": "stdout",
     "output_type": "stream",
     "text": [
      " * sqlite:///datasets/dannys_diner.db\n",
      "Done.\n"
     ]
    },
    {
     "data": {
      "text/html": [
       "<table>\n",
       "    <tr>\n",
       "        <th>product_name</th>\n",
       "        <th>n_times_purchased</th>\n",
       "    </tr>\n",
       "    <tr>\n",
       "        <td>ramen</td>\n",
       "        <td>8</td>\n",
       "    </tr>\n",
       "    <tr>\n",
       "        <td>curry</td>\n",
       "        <td>4</td>\n",
       "    </tr>\n",
       "    <tr>\n",
       "        <td>sushi</td>\n",
       "        <td>3</td>\n",
       "    </tr>\n",
       "</table>"
      ],
      "text/plain": [
       "[('ramen', 8), ('curry', 4), ('sushi', 3)]"
      ]
     },
     "execution_count": 77,
     "metadata": {},
     "output_type": "execute_result"
    }
   ],
   "source": [
    "%%sql\n",
    "SELECT\n",
    "    product_name,\n",
    "    COUNT(*) AS n_times_purchased\n",
    "FROM basic_table\n",
    "GROUP BY product_name\n",
    "ORDER BY n_times_purchased DESC"
   ]
  },
  {
   "cell_type": "markdown",
   "metadata": {},
   "source": [
    "### 5. Which item was the most popular for each customer?"
   ]
  },
  {
   "cell_type": "code",
   "execution_count": 33,
   "metadata": {},
   "outputs": [
    {
     "name": "stdout",
     "output_type": "stream",
     "text": [
      " * sqlite:///datasets/dannys_diner.db\n",
      "Done.\n"
     ]
    },
    {
     "data": {
      "text/html": [
       "<table>\n",
       "    <tr>\n",
       "        <th>customer_id</th>\n",
       "        <th>product_name</th>\n",
       "        <th>n_times_purchased</th>\n",
       "    </tr>\n",
       "    <tr>\n",
       "        <td>A</td>\n",
       "        <td>ramen</td>\n",
       "        <td>3</td>\n",
       "    </tr>\n",
       "    <tr>\n",
       "        <td>B</td>\n",
       "        <td>curry</td>\n",
       "        <td>2</td>\n",
       "    </tr>\n",
       "    <tr>\n",
       "        <td>B</td>\n",
       "        <td>ramen</td>\n",
       "        <td>2</td>\n",
       "    </tr>\n",
       "    <tr>\n",
       "        <td>B</td>\n",
       "        <td>sushi</td>\n",
       "        <td>2</td>\n",
       "    </tr>\n",
       "    <tr>\n",
       "        <td>C</td>\n",
       "        <td>ramen</td>\n",
       "        <td>3</td>\n",
       "    </tr>\n",
       "</table>"
      ],
      "text/plain": [
       "[('A', 'ramen', 3),\n",
       " ('B', 'curry', 2),\n",
       " ('B', 'ramen', 2),\n",
       " ('B', 'sushi', 2),\n",
       " ('C', 'ramen', 3)]"
      ]
     },
     "execution_count": 33,
     "metadata": {},
     "output_type": "execute_result"
    }
   ],
   "source": [
    "%%sql\n",
    "WITH purchase_table AS(\n",
    "    SELECT\n",
    "        customer_id,\n",
    "        product_name,\n",
    "        COUNT(*) AS n_times_purchased\n",
    "    FROM basic_table\n",
    "    GROUP BY customer_id,product_name\n",
    "),\n",
    "purchase_rank_table AS(\n",
    "    SELECT\n",
    "        customer_id,\n",
    "        product_name,\n",
    "        n_times_purchased,\n",
    "        RANK() OVER (\n",
    "            PARTITION BY customer_id\n",
    "            ORDER BY n_times_purchased DESC) AS rank\n",
    "    FROM purchase_table\n",
    ")\n",
    "\n",
    "SELECT \n",
    "    customer_id,\n",
    "    product_name,\n",
    "    n_times_purchased\n",
    "FROM purchase_rank_table\n",
    "WHERE rank = 1"
   ]
  },
  {
   "cell_type": "markdown",
   "metadata": {},
   "source": [
    "Ramen is still popular among Danny's customers\n"
   ]
  },
  {
   "cell_type": "markdown",
   "metadata": {},
   "source": [
    "### 6. Which item was purchased first by the customer after they became a member?"
   ]
  },
  {
   "cell_type": "code",
   "execution_count": 5,
   "metadata": {},
   "outputs": [
    {
     "name": "stdout",
     "output_type": "stream",
     "text": [
      " * sqlite:///datasets/dannys_diner.db\n",
      "Done.\n"
     ]
    },
    {
     "data": {
      "text/html": [
       "<table>\n",
       "    <tr>\n",
       "        <th>customer_id</th>\n",
       "        <th>product_name</th>\n",
       "        <th>order_date</th>\n",
       "        <th>rank</th>\n",
       "    </tr>\n",
       "    <tr>\n",
       "        <td>A</td>\n",
       "        <td>curry</td>\n",
       "        <td>2021-01-07</td>\n",
       "        <td>1</td>\n",
       "    </tr>\n",
       "    <tr>\n",
       "        <td>B</td>\n",
       "        <td>sushi</td>\n",
       "        <td>2021-01-11</td>\n",
       "        <td>1</td>\n",
       "    </tr>\n",
       "</table>"
      ],
      "text/plain": [
       "[('A', 'curry', '2021-01-07', 1), ('B', 'sushi', '2021-01-11', 1)]"
      ]
     },
     "execution_count": 5,
     "metadata": {},
     "output_type": "execute_result"
    }
   ],
   "source": [
    "%%sql\n",
    "\n",
    "SELECT *\n",
    "FROM\n",
    "(\n",
    "    SELECT\n",
    "        customer_id,\n",
    "        product_name,\n",
    "        order_date,\n",
    "        RANK() OVER(\n",
    "        PARTITION BY customer_id\n",
    "        ORDER BY order_date) AS rank\n",
    "    FROM basic_table\n",
    "    WHERE member = 'Y'\n",
    ")\n",
    "WHERE rank = 1"
   ]
  },
  {
   "cell_type": "code",
   "execution_count": 89,
   "metadata": {},
   "outputs": [
    {
     "name": "stdout",
     "output_type": "stream",
     "text": [
      " * sqlite:///datasets/dannys_diner.db\n",
      "Done.\n"
     ]
    },
    {
     "data": {
      "text/html": [
       "<table>\n",
       "    <tr>\n",
       "        <th>customer_id</th>\n",
       "        <th>join_date</th>\n",
       "    </tr>\n",
       "    <tr>\n",
       "        <td>A</td>\n",
       "        <td>2021-01-07</td>\n",
       "    </tr>\n",
       "    <tr>\n",
       "        <td>B</td>\n",
       "        <td>2021-01-09</td>\n",
       "    </tr>\n",
       "</table>"
      ],
      "text/plain": [
       "[('A', '2021-01-07'), ('B', '2021-01-09')]"
      ]
     },
     "execution_count": 89,
     "metadata": {},
     "output_type": "execute_result"
    }
   ],
   "source": [
    "%%sql\n",
    "SELECT *\n",
    "FROM members"
   ]
  },
  {
   "cell_type": "markdown",
   "metadata": {},
   "source": [
    "### 7. Which item was purchased just before the customer became a member"
   ]
  },
  {
   "cell_type": "markdown",
   "metadata": {},
   "source": [
    "C is still not a member of loyalty program. so we are excluding C for this enquiry"
   ]
  },
  {
   "cell_type": "code",
   "execution_count": 117,
   "metadata": {},
   "outputs": [
    {
     "name": "stdout",
     "output_type": "stream",
     "text": [
      " * sqlite:///datasets/dannys_diner.db\n",
      "Done.\n"
     ]
    },
    {
     "data": {
      "text/html": [
       "<table>\n",
       "    <tr>\n",
       "        <th>customer_id</th>\n",
       "        <th>order_date</th>\n",
       "        <th>product_name</th>\n",
       "        <th>rank</th>\n",
       "    </tr>\n",
       "    <tr>\n",
       "        <td>A</td>\n",
       "        <td>2021-01-01</td>\n",
       "        <td>curry</td>\n",
       "        <td>1</td>\n",
       "    </tr>\n",
       "    <tr>\n",
       "        <td>A</td>\n",
       "        <td>2021-01-01</td>\n",
       "        <td>sushi</td>\n",
       "        <td>1</td>\n",
       "    </tr>\n",
       "    <tr>\n",
       "        <td>B</td>\n",
       "        <td>2021-01-04</td>\n",
       "        <td>sushi</td>\n",
       "        <td>1</td>\n",
       "    </tr>\n",
       "</table>"
      ],
      "text/plain": [
       "[('A', '2021-01-01', 'curry', 1),\n",
       " ('A', '2021-01-01', 'sushi', 1),\n",
       " ('B', '2021-01-04', 'sushi', 1)]"
      ]
     },
     "execution_count": 117,
     "metadata": {},
     "output_type": "execute_result"
    }
   ],
   "source": [
    "%%sql\n",
    "WITH before_membership AS(\n",
    "    SELECT *\n",
    "    FROM basic_table\n",
    "    WHERE member = 'N' AND \n",
    "    customer_id IN (\n",
    "        SELECT \n",
    "            DISTINCT customer_id\n",
    "        FROM members\n",
    "        )\n",
    "),\n",
    "before_membership_rank AS (\n",
    "    SELECT customer_id,\n",
    "        order_date,\n",
    "        product_name,\n",
    "        RANK() OVER(PARTITION BY customer_id\n",
    "        ORDER BY order_date DESC) AS rank\n",
    "    FROM\n",
    "        before_membership\n",
    ")\n",
    "SELECT *\n",
    "FROM before_membership_rank\n",
    "WHERE rank = 1"
   ]
  },
  {
   "cell_type": "markdown",
   "metadata": {},
   "source": [
    "A and B customer last purchased curry and sushi respectively before becoming member of loyalty program.\n",
    "\n",
    "Again A and B customer first purchased curry and sushi respectively after becoming member."
   ]
  },
  {
   "cell_type": "markdown",
   "metadata": {},
   "source": [
    "### 8. a. What is the total items and amount spent for each member before they became a member?"
   ]
  },
  {
   "cell_type": "code",
   "execution_count": 119,
   "metadata": {},
   "outputs": [
    {
     "name": "stdout",
     "output_type": "stream",
     "text": [
      " * sqlite:///datasets/dannys_diner.db\n",
      "Done.\n"
     ]
    },
    {
     "data": {
      "text/html": [
       "<table>\n",
       "    <tr>\n",
       "        <th>customer_id</th>\n",
       "        <th>total_purchased</th>\n",
       "        <th>total_spent</th>\n",
       "    </tr>\n",
       "    <tr>\n",
       "        <td>A</td>\n",
       "        <td>2</td>\n",
       "        <td>25</td>\n",
       "    </tr>\n",
       "    <tr>\n",
       "        <td>B</td>\n",
       "        <td>3</td>\n",
       "        <td>40</td>\n",
       "    </tr>\n",
       "    <tr>\n",
       "        <td>C</td>\n",
       "        <td>3</td>\n",
       "        <td>36</td>\n",
       "    </tr>\n",
       "</table>"
      ],
      "text/plain": [
       "[('A', 2, 25), ('B', 3, 40), ('C', 3, 36)]"
      ]
     },
     "execution_count": 119,
     "metadata": {},
     "output_type": "execute_result"
    }
   ],
   "source": [
    "%%sql\n",
    "SELECT \n",
    "    customer_id,\n",
    "    COUNT(product_name) AS total_purchased,\n",
    "    SUM(price) AS total_spent\n",
    "FROM basic_table\n",
    "WHERE member = 'N'\n",
    "GROUP BY customer_id"
   ]
  },
  {
   "cell_type": "markdown",
   "metadata": {},
   "source": [
    "### 8.b. What is the total items and amount spent for each member after they became a member?"
   ]
  },
  {
   "cell_type": "code",
   "execution_count": 123,
   "metadata": {},
   "outputs": [
    {
     "name": "stdout",
     "output_type": "stream",
     "text": [
      " * sqlite:///datasets/dannys_diner.db\n",
      "Done.\n"
     ]
    },
    {
     "data": {
      "text/html": [
       "<table>\n",
       "    <tr>\n",
       "        <th>customer_id</th>\n",
       "        <th>total_purchased</th>\n",
       "        <th>total_spent</th>\n",
       "    </tr>\n",
       "    <tr>\n",
       "        <td>A</td>\n",
       "        <td>4</td>\n",
       "        <td>51</td>\n",
       "    </tr>\n",
       "    <tr>\n",
       "        <td>B</td>\n",
       "        <td>3</td>\n",
       "        <td>34</td>\n",
       "    </tr>\n",
       "</table>"
      ],
      "text/plain": [
       "[('A', 4, 51), ('B', 3, 34)]"
      ]
     },
     "execution_count": 123,
     "metadata": {},
     "output_type": "execute_result"
    }
   ],
   "source": [
    "%%sql\n",
    "SELECT \n",
    "    customer_id,\n",
    "    COUNT(product_name) AS total_purchased,\n",
    "    SUM(price) AS total_spent\n",
    "FROM basic_table\n",
    "WHERE member = 'Y'\n",
    "GROUP BY customer_id"
   ]
  },
  {
   "cell_type": "markdown",
   "metadata": {},
   "source": [
    "### 9. If each 1dollar spent equates to 10 points and sushi has a 2x points multiplier - how many points would each customer have?"
   ]
  },
  {
   "cell_type": "code",
   "execution_count": 10,
   "metadata": {},
   "outputs": [
    {
     "name": "stdout",
     "output_type": "stream",
     "text": [
      " * sqlite:///datasets/dannys_diner.db\n",
      "Done.\n"
     ]
    },
    {
     "data": {
      "text/html": [
       "<table>\n",
       "    <tr>\n",
       "        <th>customer_id</th>\n",
       "        <th>total_loyalty_points</th>\n",
       "    </tr>\n",
       "    <tr>\n",
       "        <td>A</td>\n",
       "        <td>860</td>\n",
       "    </tr>\n",
       "    <tr>\n",
       "        <td>B</td>\n",
       "        <td>940</td>\n",
       "    </tr>\n",
       "    <tr>\n",
       "        <td>C</td>\n",
       "        <td>360</td>\n",
       "    </tr>\n",
       "</table>"
      ],
      "text/plain": [
       "[('A', 860), ('B', 940), ('C', 360)]"
      ]
     },
     "execution_count": 10,
     "metadata": {},
     "output_type": "execute_result"
    }
   ],
   "source": [
    "%%sql\n",
    "WITH loyalty_point_table AS(\n",
    "    SELECT\n",
    "        *,\n",
    "        CASE \n",
    "        WHEN product_id = 1 THEN price*20\n",
    "        ELSE price*10\n",
    "        END AS points\n",
    "    FROM basic_table\n",
    ")\n",
    "SELECT customer_id,\n",
    "    SUM(points) AS total_loyalty_points\n",
    "FROM loyalty_point_table\n",
    "GROUP BY customer_id"
   ]
  },
  {
   "cell_type": "markdown",
   "metadata": {},
   "source": [
    "### 10. In the first week after a customer joins the program (including their join date) they earn 2x points on all items, not just sushi - how many points do customer A and B have at the end of January? "
   ]
  },
  {
   "cell_type": "markdown",
   "metadata": {},
   "source": [
    "Day 1 - Day 7 (1 week from the 1st day joined as Loyalty member) \n",
    "Each $1 spent on all items is 20 points.\n",
    "\n",
    "Day x to Day 1 (first day as loyalty member) Or Week after Day 1 \n",
    "Each $1 spent on Sushi  is 20 points And on rest item is 10 points\n",
    "\n"
   ]
  },
  {
   "cell_type": "code",
   "execution_count": 15,
   "metadata": {},
   "outputs": [
    {
     "name": "stdout",
     "output_type": "stream",
     "text": [
      " * sqlite:///datasets/dannys_diner.db\n",
      "Done.\n"
     ]
    },
    {
     "data": {
      "text/html": [
       "<table>\n",
       "    <tr>\n",
       "        <th>customer_id</th>\n",
       "        <th>join_date</th>\n",
       "        <th>date(join_date, &#x27;7 days&#x27;)</th>\n",
       "    </tr>\n",
       "    <tr>\n",
       "        <td>A</td>\n",
       "        <td>2021-01-07</td>\n",
       "        <td>2021-01-14</td>\n",
       "    </tr>\n",
       "    <tr>\n",
       "        <td>B</td>\n",
       "        <td>2021-01-09</td>\n",
       "        <td>2021-01-16</td>\n",
       "    </tr>\n",
       "</table>"
      ],
      "text/plain": [
       "[('A', '2021-01-07', '2021-01-14'), ('B', '2021-01-09', '2021-01-16')]"
      ]
     },
     "execution_count": 15,
     "metadata": {},
     "output_type": "execute_result"
    }
   ],
   "source": [
    "%%sql\n",
    "SELECT *,\n",
    "    date(join_date, '7 days')\n",
    "FROM members"
   ]
  },
  {
   "cell_type": "markdown",
   "metadata": {},
   "source": [
    "Cte table **dates_cte** to record 7th day from join_date"
   ]
  },
  {
   "cell_type": "code",
   "execution_count": 31,
   "metadata": {},
   "outputs": [
    {
     "name": "stdout",
     "output_type": "stream",
     "text": [
      " * sqlite:///datasets/dannys_diner.db\n",
      "Done.\n"
     ]
    },
    {
     "data": {
      "text/html": [
       "<table>\n",
       "    <tr>\n",
       "        <th>customer_id</th>\n",
       "        <th>loyalty_points</th>\n",
       "    </tr>\n",
       "    <tr>\n",
       "        <td>A</td>\n",
       "        <td>1370</td>\n",
       "    </tr>\n",
       "    <tr>\n",
       "        <td>B</td>\n",
       "        <td>940</td>\n",
       "    </tr>\n",
       "</table>"
      ],
      "text/plain": [
       "[('A', 1370), ('B', 940)]"
      ]
     },
     "execution_count": 31,
     "metadata": {},
     "output_type": "execute_result"
    }
   ],
   "source": [
    "%%sql\n",
    "WITH dates_cte AS(\n",
    "    SELECT *,\n",
    "        date(join_date, '7 days') AS valid_date\n",
    "    FROM members\n",
    "    \n",
    "),\n",
    "loyalty_point_table AS(\n",
    "    SELECT \n",
    "        t1.customer_id,\n",
    "        t1.order_date, \n",
    "        CASE \n",
    "            WHEN (t1.order_date < t2.join_date)\n",
    "            OR (t1.order_date > t2.valid_date)\n",
    "            THEN\n",
    "                CASE WHEN t1.product_id = 1\n",
    "                        THEN t1.price*10*2\n",
    "                        ELSE t1.price*10\n",
    "                END\n",
    "            WHEN (t1.order_date >= t2.join_date) \n",
    "            AND (t1.order_date <= t2.valid_date)\n",
    "            THEN price * 2*10\n",
    "        END AS points\n",
    "    FROM basic_table t1\n",
    "    JOIN dates_cte t2\n",
    "    ON t1.customer_id = t2.customer_id\n",
    ")\n",
    "\n",
    "SELECT\n",
    "    customer_id,\n",
    "    SUM(points) AS loyalty_points\n",
    "FROM loyalty_point_table\n",
    "WHERE STRFTIME('%m',order_date) = '01'\n",
    "GROUP BY customer_id\n",
    "\n",
    "\n",
    "\n",
    "\n"
   ]
  },
  {
   "cell_type": "markdown",
   "metadata": {},
   "source": [
    "### 11. Calculating days from first purchase till the day they become loyalty member?"
   ]
  },
  {
   "cell_type": "code",
   "execution_count": 190,
   "metadata": {},
   "outputs": [
    {
     "name": "stdout",
     "output_type": "stream",
     "text": [
      " * sqlite:///datasets/dannys_diner.db\n",
      "Done.\n"
     ]
    },
    {
     "data": {
      "text/html": [
       "<table>\n",
       "    <tr>\n",
       "        <th>customer_id</th>\n",
       "        <th>days</th>\n",
       "    </tr>\n",
       "    <tr>\n",
       "        <td>A</td>\n",
       "        <td>6</td>\n",
       "    </tr>\n",
       "    <tr>\n",
       "        <td>B</td>\n",
       "        <td>8</td>\n",
       "    </tr>\n",
       "</table>"
      ],
      "text/plain": [
       "[('A', 6), ('B', 8)]"
      ]
     },
     "execution_count": 190,
     "metadata": {},
     "output_type": "execute_result"
    }
   ],
   "source": [
    "%%sql\n",
    "WITH first_order_table AS (\n",
    "    SELECT\n",
    "        customer_id,\n",
    "        MIN(order_date) AS first_order_date\n",
    "    FROM basic_table t1\n",
    "    WHERE customer_id IN (\n",
    "        SELECT DISTINCT customer_id\n",
    "        FROM members\n",
    "    )\n",
    "    GROUP BY customer_id\n",
    ")\n",
    "\n",
    "SELECT \n",
    "    customer_id,\n",
    "    CAST(JULIANDAY((SELECT join_date\n",
    "        FROM members t2\n",
    "        WHERE t1.customer_id = t2.customer_id)) - JULIANDAY(first_order_date)\n",
    "    AS INTEGER) AS days\n",
    "FROM first_order_table t1"
   ]
  },
  {
   "cell_type": "markdown",
   "metadata": {},
   "source": [
    "### Insights\n",
    "From the analysis, we discover few interesting insights that would be certainly useful for Danny\n",
    "\n",
    "- Danny' Diner's most popular item is Ramen.\n",
    "- The last item Customer A and B order before becoming loyalty members are sushi and curry. Also the first thing they purchased after becoming member are sushi and curry. Apart from popular item as Ramen, other item sushi and curry must be really delicious. \n",
    "- Loyatly customer spend more at restaurant. Customer A & B spend more than customer C.\n",
    "- Loyalty customer visited more often those who are not in loyalty program\n",
    "- Both loyalty member signed up for this program within a week from their first visit."
   ]
  },
  {
   "cell_type": "markdown",
   "metadata": {},
   "source": [
    "[Back to top ](#top)"
   ]
  },
  {
   "cell_type": "markdown",
   "metadata": {},
   "source": [
    "#### <a href='https://github.com/sumedhadewan/8-week-sql-challenge' target='_blank'>This Project </a> (on Github)"
   ]
  },
  {
   "cell_type": "code",
   "execution_count": null,
   "metadata": {},
   "outputs": [],
   "source": []
  }
 ],
 "metadata": {
  "kernelspec": {
   "display_name": "Python 3",
   "language": "python",
   "name": "python3"
  },
  "language_info": {
   "codemirror_mode": {
    "name": "ipython",
    "version": 3
   },
   "file_extension": ".py",
   "mimetype": "text/x-python",
   "name": "python",
   "nbconvert_exporter": "python",
   "pygments_lexer": "ipython3",
   "version": "3.8.5"
  }
 },
 "nbformat": 4,
 "nbformat_minor": 4
}
