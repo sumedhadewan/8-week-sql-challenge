{
 "cells": [
  {
   "cell_type": "markdown",
   "metadata": {},
   "source": [
    "#### Case Study 2 \n",
    "### 🍕 Pizza Runner Part 1\n",
    "\n",
    "Source : <a href='https://8weeksqlchallenge.com/case-study-2/' target='_blank'>8 Week SQL Challenge</a>\n",
    "***"
   ]
  },
  {
   "cell_type": "markdown",
   "metadata": {},
   "source": [
    "<img src='images/pizza.png' style='width:500px'>"
   ]
  },
  {
   "cell_type": "markdown",
   "metadata": {},
   "source": [
    "#### Table of content\n",
    "\n",
    "* [Creating Tables](#tables)\n",
    "* <a href='case_study_2_pizza_part_2.ipynb'>Data Cleaning</a>\n",
    "* Case Questions <br>\n",
    "This case study has LOTS of questions - they are broken up by area of focus including:\n",
    "    - <a href='case_study_2_pizza_part_3.ipynb'> Pizza Metrics </a>\n",
    "    - <a href='case_study_2_pizza_part_3.ipynb#experience'> Runner and Customer Experience </a>\n",
    "    - <a href='case_study_2_pizza_part_4.ipynb#ingredient'> Ingredient Optimisation</a>\n",
    "    - <a href='case_study_2_pizza_part_5.ipynb#price'> Pricing and Ratings </a>\n"
   ]
  },
  {
   "cell_type": "markdown",
   "metadata": {},
   "source": [
    "Load Extension"
   ]
  },
  {
   "cell_type": "code",
   "execution_count": 1,
   "metadata": {},
   "outputs": [],
   "source": [
    "%load_ext sql"
   ]
  },
  {
   "cell_type": "markdown",
   "metadata": {},
   "source": [
    "Creating database file with name **runner.sqlite** "
   ]
  },
  {
   "cell_type": "code",
   "execution_count": 2,
   "metadata": {},
   "outputs": [],
   "source": [
    "%sql sqlite:///datasets/pizza_runner.sqlite"
   ]
  },
  {
   "cell_type": "markdown",
   "metadata": {},
   "source": [
    "<a id='tables'></a>"
   ]
  },
  {
   "cell_type": "markdown",
   "metadata": {},
   "source": [
    "\n",
    "    \n",
    "### Table 1 : runners\n",
    "\n",
    "Listing each runner's registration date"
   ]
  },
  {
   "cell_type": "code",
   "execution_count": 6,
   "metadata": {},
   "outputs": [
    {
     "name": "stdout",
     "output_type": "stream",
     "text": [
      " * sqlite:///datasets/pizza_runner.sqlite\n",
      "Done.\n",
      "Done.\n",
      "4 rows affected.\n"
     ]
    },
    {
     "data": {
      "text/plain": [
       "[]"
      ]
     },
     "execution_count": 6,
     "metadata": {},
     "output_type": "execute_result"
    }
   ],
   "source": [
    "%%sql\n",
    "DROP TABLE IF EXISTS runners;\n",
    "CREATE TABLE runners(\n",
    "    \"runner_id\" INTERGER,\n",
    "    \"registration_date\" DATE\n",
    ");\n",
    "INSERT INTO runners\n",
    "    (\"runner_id\",\"registration_date\")\n",
    "VALUES\n",
    "    (1,'2021-01-01'),\n",
    "    (2,'2021-01-03'),\n",
    "    (3,'2021-01-08'),\n",
    "    (4,'2021-01-15');"
   ]
  },
  {
   "cell_type": "markdown",
   "metadata": {},
   "source": [
    "### Table 2 : customer_orders\n",
    "\n",
    "Customer pizza order is captured in <font color='blue'>customer_orders </font>table with 1 row for each individual pizza that is part of order.\n",
    "\n",
    "Customer can order multiple pizzas in single order with varying **exclusions** and **extras**\n",
    "\n",
    "**exclusions** = list **ingredient_id** values which should be removie from pizza <br>\n",
    "**extras** = list **ingredient_id** values which need to be added to the pizza"
   ]
  },
  {
   "cell_type": "code",
   "execution_count": 10,
   "metadata": {},
   "outputs": [
    {
     "name": "stdout",
     "output_type": "stream",
     "text": [
      " * sqlite:///datasets/pizza_runner.sqlite\n",
      "Done.\n",
      "Done.\n",
      "(sqlite3.OperationalError) near \"INSERT_INTO\": syntax error\n",
      "[SQL: INSERT_INTO customer_orders\n",
      "    (\"order_id\",\"customer_id\",\"pizza_id\",\"exclusions\",\"extras\",\"order_time\")\n",
      "VALUES\n",
      "  ('1', '101', '1', '', '', '2020-01-01 18:05:02'),\n",
      "  ('2', '101', '1', '', '', '2020-01-01 19:00:52'),\n",
      "  ('3', '102', '1', '', '', '2020-01-02 23:51:23'),\n",
      "  ('3', '102', '2', '', NULL, '2020-01-02 23:51:23'),\n",
      "  ('4', '103', '1', '4', '', '2020-01-04 13:23:46'),\n",
      "  ('4', '103', '1', '4', '', '2020-01-04 13:23:46'),\n",
      "  ('4', '103', '2', '4', '', '2020-01-04 13:23:46'),\n",
      "  ('5', '104', '1', 'null', '1', '2020-01-08 21:00:29'),\n",
      "  ('6', '101', '2', 'null', 'null', '2020-01-08 21:03:13'),\n",
      "  ('7', '105', '2', 'null', '1', '2020-01-08 21:20:29'),\n",
      "  ('8', '102', '1', 'null', 'null', '2020-01-09 23:54:33'),\n",
      "  ('9', '103', '1', '4', '1, 5', '2020-01-10 11:22:59'),\n",
      "  ('10', '104', '1', 'null', 'null', '2020-01-11 18:34:49'),\n",
      "  ('10', '104', '1', '2, 6', '1, 4', '2020-01-11 18:34:49');]\n",
      "(Background on this error at: http://sqlalche.me/e/13/e3q8)\n"
     ]
    }
   ],
   "source": [
    "%%sql\n",
    "DROP TABLE IF EXISTS customer_orders;\n",
    "CREATE TABLE customer_orders(\n",
    "    \"order_id\" INTEGER,\n",
    "    \"customer_id\" INTEGER,\n",
    "    \"pizza_id\" INTEGER,\n",
    "    \"exclusions\" VARCHAR(4),\n",
    "    \"extras\" VARCHAR(4),\n",
    "    \"order_time\" TIMESTAMP\n",
    ");\n",
    "INSERT_INTO customer_orders\n",
    "    (\"order_id\",\"customer_id\",\"pizza_id\",\"exclusions\",\"extras\",\"order_time\")\n",
    "VALUES\n",
    "  ('1', '101', '1', '', '', '2020-01-01 18:05:02'),\n",
    "  ('2', '101', '1', '', '', '2020-01-01 19:00:52'),\n",
    "  ('3', '102', '1', '', '', '2020-01-02 23:51:23'),\n",
    "  ('3', '102', '2', '', NULL, '2020-01-02 23:51:23'),\n",
    "  ('4', '103', '1', '4', '', '2020-01-04 13:23:46'),\n",
    "  ('4', '103', '1', '4', '', '2020-01-04 13:23:46'),\n",
    "  ('4', '103', '2', '4', '', '2020-01-04 13:23:46'),\n",
    "  ('5', '104', '1', 'null', '1', '2020-01-08 21:00:29'),\n",
    "  ('6', '101', '2', 'null', 'null', '2020-01-08 21:03:13'),\n",
    "  ('7', '105', '2', 'null', '1', '2020-01-08 21:20:29'),\n",
    "  ('8', '102', '1', 'null', 'null', '2020-01-09 23:54:33'),\n",
    "  ('9', '103', '1', '4', '1, 5', '2020-01-10 11:22:59'),\n",
    "  ('10', '104', '1', 'null', 'null', '2020-01-11 18:34:49'),\n",
    "  ('10', '104', '1', '2, 6', '1, 4', '2020-01-11 18:34:49');\n"
   ]
  },
  {
   "cell_type": "markdown",
   "metadata": {},
   "source": [
    "### Table 3: runner_orders\n",
    "\n",
    "After each orders are received through system- they are assigned to runner. However not all orders are fully completed and can be cancelled by restaurant or the customer.\n",
    "\n",
    "**pickup_time** is the timestamp at which runner arrive at the pizza runner headquarter to pick up freshly cooked pizza. The **distance** and **duration** fields are related to how far and long the runnerr had to travel to deliver the order to the respective customer"
   ]
  },
  {
   "cell_type": "code",
   "execution_count": 13,
   "metadata": {},
   "outputs": [
    {
     "name": "stdout",
     "output_type": "stream",
     "text": [
      " * sqlite:///datasets/pizza_runner.sqlite\n",
      "Done.\n",
      "Done.\n",
      "10 rows affected.\n"
     ]
    },
    {
     "data": {
      "text/plain": [
       "[]"
      ]
     },
     "execution_count": 13,
     "metadata": {},
     "output_type": "execute_result"
    }
   ],
   "source": [
    "%%sql\n",
    "DROP TABLE IF EXISTS runner_orders;\n",
    "\n",
    "CREATE TABLE runner_orders(\n",
    "    \"order_id\" INTEGER,\n",
    "    \"runner_id\" INTEGER,\n",
    "    \"pickup_time\" VARCHAR(19),\n",
    "    \"distance\" VARCHAR(7),\n",
    "    \"duration\" VARCHAR(10),\n",
    "    \"cancellation\" VARCHAR(23)\n",
    ");\n",
    "INSERT INTO runner_orders\n",
    "    (\"order_id\", \"runner_id\", \"pickup_time\", \"distance\", \"duration\", \"cancellation\")\n",
    "VALUES\n",
    "    \n",
    "  ('1', '1', '2020-01-01 18:15:34', '20km', '32 minutes', ''),\n",
    "  ('2', '1', '2020-01-01 19:10:54', '20km', '27 minutes', ''),\n",
    "  ('3', '1', '2020-01-03 00:12:37', '13.4km', '20 mins', NULL),\n",
    "  ('4', '2', '2020-01-04 13:53:03', '23.4', '40', NULL),\n",
    "  ('5', '3', '2020-01-08 21:10:57', '10', '15', NULL),\n",
    "  ('6', '3', 'null', 'null', 'null', 'Restaurant Cancellation'),\n",
    "  ('7', '2', '2020-01-08 21:30:45', '25km', '25mins', 'null'),\n",
    "  ('8', '2', '2020-01-10 00:15:02', '23.4 km', '15 minute', 'null'),\n",
    "  ('9', '2', 'null', 'null', 'null', 'Customer Cancellation'),\n",
    "  ('10', '1', '2020-01-11 18:50:20', '10km', '10minutes', 'null');"
   ]
  },
  {
   "cell_type": "code",
   "execution_count": 11,
   "metadata": {},
   "outputs": [
    {
     "name": "stdout",
     "output_type": "stream",
     "text": [
      " * sqlite:///datasets/pizza_runner.sqlite\n",
      "Done.\n"
     ]
    },
    {
     "data": {
      "text/plain": [
       "[]"
      ]
     },
     "execution_count": 11,
     "metadata": {},
     "output_type": "execute_result"
    }
   ],
   "source": [
    "%%sql\n",
    "DROP TABLE runners_orders"
   ]
  },
  {
   "cell_type": "markdown",
   "metadata": {},
   "source": [
    "### Table 4 : pizza_names\n",
    "\n",
    "Pizza Runner only has 2 pizzas availabel "
   ]
  },
  {
   "cell_type": "code",
   "execution_count": 4,
   "metadata": {},
   "outputs": [
    {
     "name": "stdout",
     "output_type": "stream",
     "text": [
      " * sqlite:///datasets/pizza_runner.sqlite\n",
      "Done.\n",
      "Done.\n",
      "2 rows affected.\n"
     ]
    },
    {
     "data": {
      "text/plain": [
       "[]"
      ]
     },
     "execution_count": 4,
     "metadata": {},
     "output_type": "execute_result"
    }
   ],
   "source": [
    "%%sql\n",
    "DROP TABLE IF EXISTS pizza_names;\n",
    "\n",
    "CREATE TABLE pizza_names(\n",
    "    \"pizza_id\" INTEGER,\n",
    "    \"pizza_name\" TEXT\n",
    ");\n",
    "INSERT INTO pizza_names\n",
    "    (\"pizza_id\",\"pizza_name\")\n",
    "VALUES\n",
    "    (1, 'Meatlovers'),\n",
    "    (2, 'Vegetarian');"
   ]
  },
  {
   "cell_type": "markdown",
   "metadata": {},
   "source": [
    "### Table 5 : pizza_recipes\n",
    "\n",
    "**toppings** list set of ingredient_id"
   ]
  },
  {
   "cell_type": "code",
   "execution_count": 5,
   "metadata": {},
   "outputs": [
    {
     "name": "stdout",
     "output_type": "stream",
     "text": [
      " * sqlite:///datasets/pizza_runner.sqlite\n",
      "Done.\n",
      "Done.\n",
      "2 rows affected.\n"
     ]
    },
    {
     "data": {
      "text/plain": [
       "[]"
      ]
     },
     "execution_count": 5,
     "metadata": {},
     "output_type": "execute_result"
    }
   ],
   "source": [
    "%%sql\n",
    "DROP TABLE IF EXISTS pizza_recipes;\n",
    "CREATE TABLE pizza_recipes(\n",
    "    \"pizza_id\" INTEGER,\n",
    "    \"toppings\" TEXT\n",
    ");\n",
    "INSERT INTO pizza_recipes\n",
    "    (\"pizza_id\",\"toppings\")\n",
    "VALUES\n",
    "    (1, '1, 2, 3, 4, 5, 6, 8, 10'),\n",
    "    (2, '4, 6, 7, 9, 11, 12');\n"
   ]
  },
  {
   "cell_type": "markdown",
   "metadata": {},
   "source": [
    "### Table 6: pizza_toppings\n",
    "This table contains all ingredients name as **topping_name** with their corresponding **topping_id**"
   ]
  },
  {
   "cell_type": "code",
   "execution_count": 6,
   "metadata": {},
   "outputs": [
    {
     "name": "stdout",
     "output_type": "stream",
     "text": [
      " * sqlite:///datasets/pizza_runner.sqlite\n",
      "Done.\n",
      "Done.\n",
      "12 rows affected.\n"
     ]
    },
    {
     "data": {
      "text/plain": [
       "[]"
      ]
     },
     "execution_count": 6,
     "metadata": {},
     "output_type": "execute_result"
    }
   ],
   "source": [
    "%%sql\n",
    "DROP TABLE IF EXISTS pizza_toppings;\n",
    "CREATE TABLE pizza_toppings(\n",
    "    \"topping_id\" INTEGER,\n",
    "    \"topping_name\" TEXT\n",
    ");\n",
    "INSERT INTO pizza_toppings\n",
    "    (\"topping_id\",\"topping_name\")\n",
    "VALUES\n",
    "    (1, 'Bacon'),\n",
    "    (2, 'BBQ Sauce'),\n",
    "    (3, 'Beef'),\n",
    "    (4, 'Cheese'),\n",
    "    (5, 'Chicken'),\n",
    "    (6, 'Mushrooms'),\n",
    "    (7, 'Onions'),\n",
    "    (8, 'Pepperoni'),\n",
    "    (9, 'Peppers'),\n",
    "    (10, 'Salami'),\n",
    "    (11, 'Tomatoes'),\n",
    "    (12, 'Tomato Sauce');"
   ]
  },
  {
   "cell_type": "code",
   "execution_count": 7,
   "metadata": {},
   "outputs": [
    {
     "name": "stdout",
     "output_type": "stream",
     "text": [
      " * sqlite:///datasets/pizza_runner.sqlite\n",
      "Done.\n"
     ]
    },
    {
     "data": {
      "text/html": [
       "<table>\n",
       "    <tr>\n",
       "        <th>name</th>\n",
       "    </tr>\n",
       "    <tr>\n",
       "        <td>runners</td>\n",
       "    </tr>\n",
       "    <tr>\n",
       "        <td>customer_orders</td>\n",
       "    </tr>\n",
       "    <tr>\n",
       "        <td>runners_orders</td>\n",
       "    </tr>\n",
       "    <tr>\n",
       "        <td>pizza_names</td>\n",
       "    </tr>\n",
       "    <tr>\n",
       "        <td>pizza_recipes</td>\n",
       "    </tr>\n",
       "    <tr>\n",
       "        <td>pizza_toppings</td>\n",
       "    </tr>\n",
       "</table>"
      ],
      "text/plain": [
       "[('runners',),\n",
       " ('customer_orders',),\n",
       " ('runners_orders',),\n",
       " ('pizza_names',),\n",
       " ('pizza_recipes',),\n",
       " ('pizza_toppings',)]"
      ]
     },
     "execution_count": 7,
     "metadata": {},
     "output_type": "execute_result"
    }
   ],
   "source": [
    "%%sql\n",
    "SELECT name\n",
    "FROM sqlite_master\n",
    "WHERE TYPE ='table'"
   ]
  },
  {
   "cell_type": "markdown",
   "metadata": {},
   "source": [
    "#### Next : 🍕 <a href='case_study_2_pizza_part_2.ipynb'> Pizza Runner PART 2 </a>\n",
    "\n",
    "#### Back to : <a href='https://github.com/sumedhadewan/test-repo' target='_blank'>Project Table of Content</a>"
   ]
  },
  {
   "cell_type": "code",
   "execution_count": null,
   "metadata": {},
   "outputs": [],
   "source": []
  }
 ],
 "metadata": {
  "kernelspec": {
   "display_name": "Python 3",
   "language": "python",
   "name": "python3"
  },
  "language_info": {
   "codemirror_mode": {
    "name": "ipython",
    "version": 3
   },
   "file_extension": ".py",
   "mimetype": "text/x-python",
   "name": "python",
   "nbconvert_exporter": "python",
   "pygments_lexer": "ipython3",
   "version": "3.8.5"
  }
 },
 "nbformat": 4,
 "nbformat_minor": 4
}
