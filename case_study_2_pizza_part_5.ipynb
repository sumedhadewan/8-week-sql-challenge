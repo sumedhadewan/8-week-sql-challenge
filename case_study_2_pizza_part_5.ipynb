{
 "cells": [
  {
   "cell_type": "markdown",
   "metadata": {},
   "source": [
    "### Case Study 2\n",
    "### 🍕 Pizza Runner Part 5\n",
    "\n",
    "Source : <a href='https://8weeksqlchallenge.com/case-study-2/' style=\"text-decoration:none\">8 Week SQL Challenge</a>\n",
    "***"
   ]
  },
  {
   "cell_type": "code",
   "execution_count": 1,
   "metadata": {},
   "outputs": [],
   "source": [
    "%load_ext sql"
   ]
  },
  {
   "cell_type": "code",
   "execution_count": 2,
   "metadata": {},
   "outputs": [],
   "source": [
    "%sql sqlite:///datasets/pizza_runner.sqlite"
   ]
  },
  {
   "cell_type": "markdown",
   "metadata": {},
   "source": [
    "<a id='top'></a>"
   ]
  },
  {
   "cell_type": "markdown",
   "metadata": {},
   "source": [
    "<a id='price'></a>\n",
    "### <font color='green'> Price and Ratings </font>"
   ]
  },
  {
   "cell_type": "markdown",
   "metadata": {},
   "source": [
    "#### 1. If a Meat Lovers pizza costs 12 dollar and Vegetarian costs 10 dollar and there were no charges for changes - how much money has Pizza Runner made so far if there are no delivery fees?"
   ]
  },
  {
   "cell_type": "code",
   "execution_count": 3,
   "metadata": {},
   "outputs": [
    {
     "name": "stdout",
     "output_type": "stream",
     "text": [
      " * sqlite:///datasets/pizza_runner.sqlite\n",
      "Done.\n",
      "Done.\n"
     ]
    },
    {
     "data": {
      "text/plain": [
       "[]"
      ]
     },
     "execution_count": 3,
     "metadata": {},
     "output_type": "execute_result"
    }
   ],
   "source": [
    "%%sql\n",
    "DROP TABLE IF EXISTS customer_orders_2;\n",
    "CREATE TEMP TABLE customer_orders_2 AS\n",
    "SELECT t1.*\n",
    "FROM customer_orders t1\n",
    "WHERE t1.order_id IN (\n",
    "    SELECT order_id\n",
    "    FROM runner_orders\n",
    "    WHERE cancellation = ''\n",
    ")"
   ]
  },
  {
   "cell_type": "code",
   "execution_count": 12,
   "metadata": {},
   "outputs": [
    {
     "name": "stdout",
     "output_type": "stream",
     "text": [
      " * sqlite:///datasets/pizza_runner.sqlite\n",
      "Done.\n",
      "Done.\n"
     ]
    },
    {
     "data": {
      "text/plain": [
       "[]"
      ]
     },
     "execution_count": 12,
     "metadata": {},
     "output_type": "execute_result"
    }
   ],
   "source": [
    "%%sql\n",
    "DROP TABLE IF EXISTS meat_veggie_count;\n",
    "CREATE TEMP TABLE meat_veggie_count AS\n",
    "SELECT \n",
    "    SUM(CASE WHEN pizza_id = 1 THEN 1 ELSE 0 END) AS meatlover_ordered,\n",
    "    SUM(CASE WHEN pizza_id = 2 THEN 1 ELSE 0 END) AS vegetarian_ordered\n",
    "FROM customer_orders_2\n"
   ]
  },
  {
   "cell_type": "code",
   "execution_count": 13,
   "metadata": {},
   "outputs": [
    {
     "name": "stdout",
     "output_type": "stream",
     "text": [
      " * sqlite:///datasets/pizza_runner.sqlite\n",
      "Done.\n"
     ]
    },
    {
     "data": {
      "text/html": [
       "<table>\n",
       "    <tr>\n",
       "        <th>money_made_by_pizza</th>\n",
       "    </tr>\n",
       "    <tr>\n",
       "        <td>138</td>\n",
       "    </tr>\n",
       "</table>"
      ],
      "text/plain": [
       "[(138,)]"
      ]
     },
     "execution_count": 13,
     "metadata": {},
     "output_type": "execute_result"
    }
   ],
   "source": [
    "%%sql\n",
    "SELECT\n",
    "    meatlover_ordered * 12 + vegetarian_ordered * 10 AS money_made_by_pizza\n",
    "FROM meat_veggie_count"
   ]
  },
  {
   "cell_type": "markdown",
   "metadata": {},
   "source": [
    "#### 2. What if there was an additional 1 dollar charge for any pizza extras?\n",
    "\n",
    "    Add cheese is $1 extra\n"
   ]
  },
  {
   "cell_type": "code",
   "execution_count": 14,
   "metadata": {},
   "outputs": [
    {
     "name": "stdout",
     "output_type": "stream",
     "text": [
      " * sqlite:///datasets/pizza_runner.sqlite\n",
      "Done.\n"
     ]
    },
    {
     "data": {
      "text/html": [
       "<table>\n",
       "    <tr>\n",
       "        <th>money_made_by_pizza</th>\n",
       "    </tr>\n",
       "    <tr>\n",
       "        <td>142</td>\n",
       "    </tr>\n",
       "</table>"
      ],
      "text/plain": [
       "[(142,)]"
      ]
     },
     "execution_count": 14,
     "metadata": {},
     "output_type": "execute_result"
    }
   ],
   "source": [
    "%%sql\n",
    "WITH count_extra_toppings AS(\n",
    "SELECT \n",
    "    SUM(CASE \n",
    "    WHEN LENGTH(extras) >1 \n",
    "    THEN LENGTH(REPLACE(extras,', ',''))\n",
    "    ELSE LENGTH(extras) END) AS extras\n",
    "FROM customer_orders_2\n",
    ")\n",
    "\n",
    "SELECT\n",
    "    meatlover_ordered * 12 + vegetarian_ordered * 10 +\n",
    "    (SELECT extras FROM count_extra_toppings )AS money_made_by_pizza\n",
    "FROM meat_veggie_count"
   ]
  },
  {
   "cell_type": "markdown",
   "metadata": {},
   "source": [
    "### 3. The Pizza Runner team now wants to add an additional ratings system that allows customers to rate their runner, how would you design an additional table for this new dataset - generate a schema for this new table and insert your own data for ratings for each successful customer order between 1 to 5."
   ]
  },
  {
   "cell_type": "code",
   "execution_count": 15,
   "metadata": {},
   "outputs": [
    {
     "name": "stdout",
     "output_type": "stream",
     "text": [
      " * sqlite:///datasets/pizza_runner.sqlite\n",
      "Done.\n",
      "Done.\n",
      "10 rows affected.\n"
     ]
    },
    {
     "data": {
      "text/plain": [
       "[]"
      ]
     },
     "execution_count": 15,
     "metadata": {},
     "output_type": "execute_result"
    }
   ],
   "source": [
    "%%sql\n",
    "DROP TABLE IF EXISTS ratings;\n",
    "CREATE TABLE ratings\n",
    "    (\n",
    "    order_id INTEGER,\n",
    "    rating INTEGER\n",
    "    );\n",
    "INSERT INTO ratings\n",
    "    (order_id, rating)\n",
    "VALUES\n",
    "    (1,4),\n",
    "    (2,3),\n",
    "    (3,5),\n",
    "    (4,3),\n",
    "    (5,3),\n",
    "    (6,2),\n",
    "    (7,4),\n",
    "    (8,2),\n",
    "    (9,3),\n",
    "    (10,4);"
   ]
  },
  {
   "cell_type": "markdown",
   "metadata": {},
   "source": [
    "#### 4.Using your newly generated table - can you join all of the information together to form a table which has the following information for successful deliveries?\n",
    "\n",
    "    customer_id\n",
    "    order_id\n",
    "    runner_id\n",
    "    rating\n",
    "    order_time\n",
    "    pickup_time\n",
    "    Time between order and pickup\n",
    "    Delivery duration\n",
    "    Average speed\n",
    "    Total number of pizzas\n"
   ]
  },
  {
   "cell_type": "code",
   "execution_count": 34,
   "metadata": {},
   "outputs": [
    {
     "name": "stdout",
     "output_type": "stream",
     "text": [
      " * sqlite:///datasets/pizza_runner.sqlite\n",
      "Done.\n"
     ]
    },
    {
     "data": {
      "text/html": [
       "<table>\n",
       "    <tr>\n",
       "        <th>customer_id</th>\n",
       "        <th>order_id</th>\n",
       "        <th>runner_id</th>\n",
       "        <th>rating</th>\n",
       "        <th>order_time</th>\n",
       "        <th>pickup_time</th>\n",
       "        <th>time_between_order_pickup</th>\n",
       "        <th>delivery_duration</th>\n",
       "        <th>avg_speed</th>\n",
       "        <th>num_pizza_ordered</th>\n",
       "    </tr>\n",
       "    <tr>\n",
       "        <td>101</td>\n",
       "        <td>1</td>\n",
       "        <td>1</td>\n",
       "        <td>4</td>\n",
       "        <td>2020-01-01 18:05:02</td>\n",
       "        <td>2020-01-01 18:15:34</td>\n",
       "        <td>11.0</td>\n",
       "        <td>32</td>\n",
       "        <td>0.63</td>\n",
       "        <td>1</td>\n",
       "    </tr>\n",
       "    <tr>\n",
       "        <td>101</td>\n",
       "        <td>2</td>\n",
       "        <td>1</td>\n",
       "        <td>3</td>\n",
       "        <td>2020-01-01 19:00:52</td>\n",
       "        <td>2020-01-01 19:10:54</td>\n",
       "        <td>10.0</td>\n",
       "        <td>27</td>\n",
       "        <td>0.74</td>\n",
       "        <td>1</td>\n",
       "    </tr>\n",
       "    <tr>\n",
       "        <td>102</td>\n",
       "        <td>3</td>\n",
       "        <td>1</td>\n",
       "        <td>5</td>\n",
       "        <td>2020-01-02 23:51:23</td>\n",
       "        <td>2020-01-03 00:12:37</td>\n",
       "        <td>21.0</td>\n",
       "        <td>20</td>\n",
       "        <td>0.67</td>\n",
       "        <td>1</td>\n",
       "    </tr>\n",
       "    <tr>\n",
       "        <td>102</td>\n",
       "        <td>3</td>\n",
       "        <td>1</td>\n",
       "        <td>5</td>\n",
       "        <td>2020-01-02 23:51:23</td>\n",
       "        <td>2020-01-03 00:12:37</td>\n",
       "        <td>21.0</td>\n",
       "        <td>20</td>\n",
       "        <td>0.67</td>\n",
       "        <td>1</td>\n",
       "    </tr>\n",
       "    <tr>\n",
       "        <td>103</td>\n",
       "        <td>4</td>\n",
       "        <td>2</td>\n",
       "        <td>3</td>\n",
       "        <td>2020-01-04 13:23:46</td>\n",
       "        <td>2020-01-04 13:53:03</td>\n",
       "        <td>29.0</td>\n",
       "        <td>40</td>\n",
       "        <td>0.59</td>\n",
       "        <td>1</td>\n",
       "    </tr>\n",
       "    <tr>\n",
       "        <td>103</td>\n",
       "        <td>4</td>\n",
       "        <td>2</td>\n",
       "        <td>3</td>\n",
       "        <td>2020-01-04 13:23:46</td>\n",
       "        <td>2020-01-04 13:53:03</td>\n",
       "        <td>29.0</td>\n",
       "        <td>40</td>\n",
       "        <td>0.59</td>\n",
       "        <td>2</td>\n",
       "    </tr>\n",
       "    <tr>\n",
       "        <td>104</td>\n",
       "        <td>5</td>\n",
       "        <td>3</td>\n",
       "        <td>3</td>\n",
       "        <td>2020-01-08 21:00:29</td>\n",
       "        <td>2020-01-08 21:10:57</td>\n",
       "        <td>10.0</td>\n",
       "        <td>15</td>\n",
       "        <td>0.67</td>\n",
       "        <td>1</td>\n",
       "    </tr>\n",
       "    <tr>\n",
       "        <td>105</td>\n",
       "        <td>7</td>\n",
       "        <td>2</td>\n",
       "        <td>4</td>\n",
       "        <td>2020-01-08 21:20:29</td>\n",
       "        <td>2020-01-08 21:30:45</td>\n",
       "        <td>10.0</td>\n",
       "        <td>25</td>\n",
       "        <td>1.0</td>\n",
       "        <td>1</td>\n",
       "    </tr>\n",
       "    <tr>\n",
       "        <td>102</td>\n",
       "        <td>8</td>\n",
       "        <td>2</td>\n",
       "        <td>2</td>\n",
       "        <td>2020-01-09 23:54:33</td>\n",
       "        <td>2020-01-10 00:15:02</td>\n",
       "        <td>20.0</td>\n",
       "        <td>15</td>\n",
       "        <td>1.56</td>\n",
       "        <td>1</td>\n",
       "    </tr>\n",
       "    <tr>\n",
       "        <td>104</td>\n",
       "        <td>10</td>\n",
       "        <td>1</td>\n",
       "        <td>4</td>\n",
       "        <td>2020-01-11 18:34:49</td>\n",
       "        <td>2020-01-11 18:50:20</td>\n",
       "        <td>16.0</td>\n",
       "        <td>10</td>\n",
       "        <td>1.0</td>\n",
       "        <td>2</td>\n",
       "    </tr>\n",
       "</table>"
      ],
      "text/plain": [
       "[(101, 1, 1, 4, '2020-01-01 18:05:02', '2020-01-01 18:15:34', 11.0, '32', 0.63, 1),\n",
       " (101, 2, 1, 3, '2020-01-01 19:00:52', '2020-01-01 19:10:54', 10.0, '27', 0.74, 1),\n",
       " (102, 3, 1, 5, '2020-01-02 23:51:23', '2020-01-03 00:12:37', 21.0, '20', 0.67, 1),\n",
       " (102, 3, 1, 5, '2020-01-02 23:51:23', '2020-01-03 00:12:37', 21.0, '20', 0.67, 1),\n",
       " (103, 4, 2, 3, '2020-01-04 13:23:46', '2020-01-04 13:53:03', 29.0, '40', 0.59, 1),\n",
       " (103, 4, 2, 3, '2020-01-04 13:23:46', '2020-01-04 13:53:03', 29.0, '40', 0.59, 2),\n",
       " (104, 5, 3, 3, '2020-01-08 21:00:29', '2020-01-08 21:10:57', 10.0, '15', 0.67, 1),\n",
       " (105, 7, 2, 4, '2020-01-08 21:20:29', '2020-01-08 21:30:45', 10.0, '25', 1.0, 1),\n",
       " (102, 8, 2, 2, '2020-01-09 23:54:33', '2020-01-10 00:15:02', 20.0, '15', 1.56, 1),\n",
       " (104, 10, 1, 4, '2020-01-11 18:34:49', '2020-01-11 18:50:20', 16.0, '10', 1.0, 2)]"
      ]
     },
     "execution_count": 34,
     "metadata": {},
     "output_type": "execute_result"
    }
   ],
   "source": [
    "%%sql\n",
    "SELECT t1.customer_id,\n",
    "       t1.order_id,\n",
    "       t2.runner_id,\n",
    "       t3.rating, \n",
    "       t1.order_time,\n",
    "       t2.pickup_time,\n",
    "       Round((julianday(pickup_time) - julianday(order_time))*24*60) AS time_between_order_pickup ,\n",
    "       t2.duration AS delivery_duration,\n",
    "       ROUND(t2.distance / t2.duration ,2) AS avg_speed,\n",
    "       t1.num_pizza_ordered \n",
    "    \n",
    "FROM(\n",
    "    SELECT order_id,customer_id,pizza_id,order_time, count(pizza_id) AS num_pizza_ordered\n",
    "    FROM customer_orders_2\n",
    "    GROUP BY 1,2,3,4\n",
    ") t1\n",
    "JOIN runner_orders t2\n",
    "ON t1.order_id = t2.order_id\n",
    "JOIN ratings t3\n",
    "ON t3.order_id = t1.order_id"
   ]
  },
  {
   "cell_type": "markdown",
   "metadata": {},
   "source": [
    "####  5. If a Meat Lovers pizza was 12 DOLLARS and Vegetarian 10 dollars fixed prices with no cost for extras and each runner is paid $0.30 per kilometre traveled - how much money does Pizza Runner have left over after these deliveries?"
   ]
  },
  {
   "cell_type": "code",
   "execution_count": 56,
   "metadata": {},
   "outputs": [
    {
     "name": "stdout",
     "output_type": "stream",
     "text": [
      " * sqlite:///datasets/pizza_runner.sqlite\n",
      "Done.\n"
     ]
    },
    {
     "data": {
      "text/html": [
       "<table>\n",
       "    <tr>\n",
       "        <th>leftover_money</th>\n",
       "    </tr>\n",
       "    <tr>\n",
       "        <td>94.44</td>\n",
       "    </tr>\n",
       "</table>"
      ],
      "text/plain": [
       "[(94.44,)]"
      ]
     },
     "execution_count": 56,
     "metadata": {},
     "output_type": "execute_result"
    }
   ],
   "source": [
    "%%sql\n",
    "WITH paid_to_runners AS(\n",
    "    SELECT SUM((distance+0)*0.3) AS paid_to_runners\n",
    "    FROM runner_orders\n",
    "),\n",
    "earned AS(\n",
    "    SELECT meatlover_ordered *12 + vegetarian_ordered * 10 AS earned\n",
    "    FROM meat_veggie_count\n",
    ")\n",
    "\n",
    "SELECT earned - (SELECT * FROM paid_to_runners) AS leftover_money\n",
    "FROM earned"
   ]
  },
  {
   "cell_type": "markdown",
   "metadata": {},
   "source": [
    "#### Prev : 🍕 <a href='case_study_2_pizza_part_4.ipynb'> Pizza Runner PART 4 </a>\n",
    "\n",
    "#### Part 1 : 🍕 <a href='case_study_2_pizza_part_1.ipynb'> Pizza Runner PART 1 </a>\n",
    "\n",
    "#### Back to : [Top](#top) ▲\n",
    "\n",
    "<a href='https://github.com/sumedhadewan/8-week-sql-challenge' target='_blank'>See this Project on Github</a>"
   ]
  },
  {
   "cell_type": "code",
   "execution_count": null,
   "metadata": {},
   "outputs": [],
   "source": []
  }
 ],
 "metadata": {
  "kernelspec": {
   "display_name": "Python 3",
   "language": "python",
   "name": "python3"
  },
  "language_info": {
   "codemirror_mode": {
    "name": "ipython",
    "version": 3
   },
   "file_extension": ".py",
   "mimetype": "text/x-python",
   "name": "python",
   "nbconvert_exporter": "python",
   "pygments_lexer": "ipython3",
   "version": "3.8.5"
  }
 },
 "nbformat": 4,
 "nbformat_minor": 4
}
