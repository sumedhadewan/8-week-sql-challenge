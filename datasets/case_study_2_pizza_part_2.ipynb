{
 "cells": [
  {
   "cell_type": "markdown",
   "metadata": {},
   "source": [
    "#### Case Study 2\n",
    "### 🍕 Pizza Runner PART 2 (Data cleaning)\n",
    "\n",
    "Source : <a href='https://8weeksqlchallenge.com/case-study-2/'>8 Week SQL Challenge</a>"
   ]
  },
  {
   "cell_type": "markdown",
   "metadata": {},
   "source": [
    "Load extension"
   ]
  },
  {
   "cell_type": "code",
   "execution_count": 1,
   "metadata": {},
   "outputs": [],
   "source": [
    "%load_ext sql"
   ]
  },
  {
   "cell_type": "markdown",
   "metadata": {},
   "source": [
    "Initialize the connection to existing **pizza_runner** database"
   ]
  },
  {
   "cell_type": "code",
   "execution_count": 134,
   "metadata": {},
   "outputs": [],
   "source": [
    "%sql sqlite:///datasets/pizza_runner.sqlite"
   ]
  },
  {
   "cell_type": "markdown",
   "metadata": {},
   "source": [
    "There are 6 tables with **pizza_runner**"
   ]
  },
  {
   "cell_type": "code",
   "execution_count": 135,
   "metadata": {
    "scrolled": true
   },
   "outputs": [
    {
     "name": "stdout",
     "output_type": "stream",
     "text": [
      " * sqlite:///datasets/pizza_runner.sqlite\n",
      "Done.\n"
     ]
    },
    {
     "data": {
      "text/html": [
       "<table>\n",
       "    <tr>\n",
       "        <th>name</th>\n",
       "    </tr>\n",
       "    <tr>\n",
       "        <td>runners</td>\n",
       "    </tr>\n",
       "    <tr>\n",
       "        <td>customer_orders</td>\n",
       "    </tr>\n",
       "    <tr>\n",
       "        <td>pizza_names</td>\n",
       "    </tr>\n",
       "    <tr>\n",
       "        <td>pizza_recipes</td>\n",
       "    </tr>\n",
       "    <tr>\n",
       "        <td>pizza_toppings</td>\n",
       "    </tr>\n",
       "    <tr>\n",
       "        <td>runner_orders</td>\n",
       "    </tr>\n",
       "</table>"
      ],
      "text/plain": [
       "[('runners',),\n",
       " ('customer_orders',),\n",
       " ('pizza_names',),\n",
       " ('pizza_recipes',),\n",
       " ('pizza_toppings',),\n",
       " ('runner_orders',)]"
      ]
     },
     "execution_count": 135,
     "metadata": {},
     "output_type": "execute_result"
    }
   ],
   "source": [
    "%%sql\n",
    "SELECT name\n",
    "FROM sqlite_master\n",
    "WHERE TYPE ='table'"
   ]
  },
  {
   "cell_type": "markdown",
   "metadata": {},
   "source": [
    "#### Entity Relationship Diagram"
   ]
  },
  {
   "cell_type": "markdown",
   "metadata": {},
   "source": [
    "<img src = 'images/Pizza Runner.png'>"
   ]
  },
  {
   "cell_type": "markdown",
   "metadata": {},
   "source": [
    "####  Data types  And Data Cleaning"
   ]
  },
  {
   "cell_type": "markdown",
   "metadata": {},
   "source": [
    "**runners** has no null values and Data type is correct"
   ]
  },
  {
   "cell_type": "code",
   "execution_count": 136,
   "metadata": {},
   "outputs": [
    {
     "name": "stdout",
     "output_type": "stream",
     "text": [
      " * sqlite:///datasets/pizza_runner.sqlite\n",
      "Done.\n"
     ]
    },
    {
     "data": {
      "text/html": [
       "<table>\n",
       "    <tr>\n",
       "        <th>cid</th>\n",
       "        <th>name</th>\n",
       "        <th>type</th>\n",
       "        <th>notnull</th>\n",
       "        <th>dflt_value</th>\n",
       "        <th>pk</th>\n",
       "    </tr>\n",
       "    <tr>\n",
       "        <td>0</td>\n",
       "        <td>runner_id</td>\n",
       "        <td>INTERGER</td>\n",
       "        <td>0</td>\n",
       "        <td>None</td>\n",
       "        <td>0</td>\n",
       "    </tr>\n",
       "    <tr>\n",
       "        <td>1</td>\n",
       "        <td>registration_date</td>\n",
       "        <td>DATE</td>\n",
       "        <td>0</td>\n",
       "        <td>None</td>\n",
       "        <td>0</td>\n",
       "    </tr>\n",
       "</table>"
      ],
      "text/plain": [
       "[(0, 'runner_id', 'INTERGER', 0, None, 0),\n",
       " (1, 'registration_date', 'DATE', 0, None, 0)]"
      ]
     },
     "execution_count": 136,
     "metadata": {},
     "output_type": "execute_result"
    }
   ],
   "source": [
    "%%sql\n",
    "PRAGMA table_info(runners)"
   ]
  },
  {
   "cell_type": "code",
   "execution_count": 137,
   "metadata": {},
   "outputs": [
    {
     "name": "stdout",
     "output_type": "stream",
     "text": [
      " * sqlite:///datasets/pizza_runner.sqlite\n",
      "Done.\n"
     ]
    },
    {
     "data": {
      "text/html": [
       "<table>\n",
       "    <tr>\n",
       "        <th>runner_id</th>\n",
       "        <th>registration_date</th>\n",
       "    </tr>\n",
       "    <tr>\n",
       "        <td>1</td>\n",
       "        <td>2021-01-01</td>\n",
       "    </tr>\n",
       "    <tr>\n",
       "        <td>2</td>\n",
       "        <td>2021-01-03</td>\n",
       "    </tr>\n",
       "    <tr>\n",
       "        <td>3</td>\n",
       "        <td>2021-01-08</td>\n",
       "    </tr>\n",
       "    <tr>\n",
       "        <td>4</td>\n",
       "        <td>2021-01-15</td>\n",
       "    </tr>\n",
       "</table>"
      ],
      "text/plain": [
       "[(1, '2021-01-01'), (2, '2021-01-03'), (3, '2021-01-08'), (4, '2021-01-15')]"
      ]
     },
     "execution_count": 137,
     "metadata": {},
     "output_type": "execute_result"
    }
   ],
   "source": [
    "%%sql\n",
    "SELECT *\n",
    "FROM runners"
   ]
  },
  {
   "cell_type": "markdown",
   "metadata": {},
   "source": [
    "There are NULL and STRING 'null' values in columns *extras* and *exclusions* of **customer_orders**. Replacing with empty string."
   ]
  },
  {
   "cell_type": "code",
   "execution_count": 138,
   "metadata": {
    "scrolled": true
   },
   "outputs": [
    {
     "name": "stdout",
     "output_type": "stream",
     "text": [
      " * sqlite:///datasets/pizza_runner.sqlite\n",
      "Done.\n"
     ]
    },
    {
     "data": {
      "text/html": [
       "<table>\n",
       "    <tr>\n",
       "        <th>cid</th>\n",
       "        <th>name</th>\n",
       "        <th>type</th>\n",
       "        <th>notnull</th>\n",
       "        <th>dflt_value</th>\n",
       "        <th>pk</th>\n",
       "    </tr>\n",
       "    <tr>\n",
       "        <td>0</td>\n",
       "        <td>order_id</td>\n",
       "        <td>INTEGER</td>\n",
       "        <td>0</td>\n",
       "        <td>None</td>\n",
       "        <td>0</td>\n",
       "    </tr>\n",
       "    <tr>\n",
       "        <td>1</td>\n",
       "        <td>customer_id</td>\n",
       "        <td>INTEGER</td>\n",
       "        <td>0</td>\n",
       "        <td>None</td>\n",
       "        <td>0</td>\n",
       "    </tr>\n",
       "    <tr>\n",
       "        <td>2</td>\n",
       "        <td>pizza_id</td>\n",
       "        <td>INTEGER</td>\n",
       "        <td>0</td>\n",
       "        <td>None</td>\n",
       "        <td>0</td>\n",
       "    </tr>\n",
       "    <tr>\n",
       "        <td>3</td>\n",
       "        <td>exclusions</td>\n",
       "        <td>VARCHAR(4)</td>\n",
       "        <td>0</td>\n",
       "        <td>None</td>\n",
       "        <td>0</td>\n",
       "    </tr>\n",
       "    <tr>\n",
       "        <td>4</td>\n",
       "        <td>extras</td>\n",
       "        <td>VARCHAR(4)</td>\n",
       "        <td>0</td>\n",
       "        <td>None</td>\n",
       "        <td>0</td>\n",
       "    </tr>\n",
       "    <tr>\n",
       "        <td>5</td>\n",
       "        <td>order_time</td>\n",
       "        <td>TIMESTAMP</td>\n",
       "        <td>0</td>\n",
       "        <td>None</td>\n",
       "        <td>0</td>\n",
       "    </tr>\n",
       "</table>"
      ],
      "text/plain": [
       "[(0, 'order_id', 'INTEGER', 0, None, 0),\n",
       " (1, 'customer_id', 'INTEGER', 0, None, 0),\n",
       " (2, 'pizza_id', 'INTEGER', 0, None, 0),\n",
       " (3, 'exclusions', 'VARCHAR(4)', 0, None, 0),\n",
       " (4, 'extras', 'VARCHAR(4)', 0, None, 0),\n",
       " (5, 'order_time', 'TIMESTAMP', 0, None, 0)]"
      ]
     },
     "execution_count": 138,
     "metadata": {},
     "output_type": "execute_result"
    }
   ],
   "source": [
    "%%sql\n",
    "PRAGMA table_info(customer_orders)"
   ]
  },
  {
   "cell_type": "code",
   "execution_count": 7,
   "metadata": {},
   "outputs": [
    {
     "name": "stdout",
     "output_type": "stream",
     "text": [
      " * sqlite:///datasets/pizza_runner.sqlite\n",
      "Done.\n"
     ]
    },
    {
     "data": {
      "text/html": [
       "<table>\n",
       "    <tr>\n",
       "        <th>order_id</th>\n",
       "        <th>customer_id</th>\n",
       "        <th>pizza_id</th>\n",
       "        <th>exclusions</th>\n",
       "        <th>extras</th>\n",
       "        <th>order_time</th>\n",
       "    </tr>\n",
       "    <tr>\n",
       "        <td>1</td>\n",
       "        <td>101</td>\n",
       "        <td>1</td>\n",
       "        <td></td>\n",
       "        <td></td>\n",
       "        <td>2020-01-01 18:05:02</td>\n",
       "    </tr>\n",
       "    <tr>\n",
       "        <td>2</td>\n",
       "        <td>101</td>\n",
       "        <td>1</td>\n",
       "        <td></td>\n",
       "        <td></td>\n",
       "        <td>2020-01-01 19:00:52</td>\n",
       "    </tr>\n",
       "    <tr>\n",
       "        <td>3</td>\n",
       "        <td>102</td>\n",
       "        <td>1</td>\n",
       "        <td></td>\n",
       "        <td></td>\n",
       "        <td>2020-01-02 23:51:23</td>\n",
       "    </tr>\n",
       "    <tr>\n",
       "        <td>3</td>\n",
       "        <td>102</td>\n",
       "        <td>2</td>\n",
       "        <td></td>\n",
       "        <td>None</td>\n",
       "        <td>2020-01-02 23:51:23</td>\n",
       "    </tr>\n",
       "    <tr>\n",
       "        <td>4</td>\n",
       "        <td>103</td>\n",
       "        <td>1</td>\n",
       "        <td>4</td>\n",
       "        <td></td>\n",
       "        <td>2020-01-04 13:23:46</td>\n",
       "    </tr>\n",
       "    <tr>\n",
       "        <td>4</td>\n",
       "        <td>103</td>\n",
       "        <td>1</td>\n",
       "        <td>4</td>\n",
       "        <td></td>\n",
       "        <td>2020-01-04 13:23:46</td>\n",
       "    </tr>\n",
       "    <tr>\n",
       "        <td>4</td>\n",
       "        <td>103</td>\n",
       "        <td>2</td>\n",
       "        <td>4</td>\n",
       "        <td></td>\n",
       "        <td>2020-01-04 13:23:46</td>\n",
       "    </tr>\n",
       "    <tr>\n",
       "        <td>5</td>\n",
       "        <td>104</td>\n",
       "        <td>1</td>\n",
       "        <td>null</td>\n",
       "        <td>1</td>\n",
       "        <td>2020-01-08 21:00:29</td>\n",
       "    </tr>\n",
       "    <tr>\n",
       "        <td>6</td>\n",
       "        <td>101</td>\n",
       "        <td>2</td>\n",
       "        <td>null</td>\n",
       "        <td>null</td>\n",
       "        <td>2020-01-08 21:03:13</td>\n",
       "    </tr>\n",
       "    <tr>\n",
       "        <td>7</td>\n",
       "        <td>105</td>\n",
       "        <td>2</td>\n",
       "        <td>null</td>\n",
       "        <td>1</td>\n",
       "        <td>2020-01-08 21:20:29</td>\n",
       "    </tr>\n",
       "    <tr>\n",
       "        <td>8</td>\n",
       "        <td>102</td>\n",
       "        <td>1</td>\n",
       "        <td>null</td>\n",
       "        <td>null</td>\n",
       "        <td>2020-01-09 23:54:33</td>\n",
       "    </tr>\n",
       "    <tr>\n",
       "        <td>9</td>\n",
       "        <td>103</td>\n",
       "        <td>1</td>\n",
       "        <td>4</td>\n",
       "        <td>1, 5</td>\n",
       "        <td>2020-01-10 11:22:59</td>\n",
       "    </tr>\n",
       "    <tr>\n",
       "        <td>10</td>\n",
       "        <td>104</td>\n",
       "        <td>1</td>\n",
       "        <td>null</td>\n",
       "        <td>null</td>\n",
       "        <td>2020-01-11 18:34:49</td>\n",
       "    </tr>\n",
       "    <tr>\n",
       "        <td>10</td>\n",
       "        <td>104</td>\n",
       "        <td>1</td>\n",
       "        <td>2, 6</td>\n",
       "        <td>1, 4</td>\n",
       "        <td>2020-01-11 18:34:49</td>\n",
       "    </tr>\n",
       "</table>"
      ],
      "text/plain": [
       "[(1, 101, 1, '', '', '2020-01-01 18:05:02'),\n",
       " (2, 101, 1, '', '', '2020-01-01 19:00:52'),\n",
       " (3, 102, 1, '', '', '2020-01-02 23:51:23'),\n",
       " (3, 102, 2, '', None, '2020-01-02 23:51:23'),\n",
       " (4, 103, 1, '4', '', '2020-01-04 13:23:46'),\n",
       " (4, 103, 1, '4', '', '2020-01-04 13:23:46'),\n",
       " (4, 103, 2, '4', '', '2020-01-04 13:23:46'),\n",
       " (5, 104, 1, 'null', '1', '2020-01-08 21:00:29'),\n",
       " (6, 101, 2, 'null', 'null', '2020-01-08 21:03:13'),\n",
       " (7, 105, 2, 'null', '1', '2020-01-08 21:20:29'),\n",
       " (8, 102, 1, 'null', 'null', '2020-01-09 23:54:33'),\n",
       " (9, 103, 1, '4', '1, 5', '2020-01-10 11:22:59'),\n",
       " (10, 104, 1, 'null', 'null', '2020-01-11 18:34:49'),\n",
       " (10, 104, 1, '2, 6', '1, 4', '2020-01-11 18:34:49')]"
      ]
     },
     "execution_count": 7,
     "metadata": {},
     "output_type": "execute_result"
    }
   ],
   "source": [
    "%%sql\n",
    "SELECT *\n",
    "FROM customer_orders"
   ]
  },
  {
   "cell_type": "markdown",
   "metadata": {},
   "source": [
    "Replacing with Null values with empty string"
   ]
  },
  {
   "cell_type": "code",
   "execution_count": 40,
   "metadata": {},
   "outputs": [
    {
     "name": "stdout",
     "output_type": "stream",
     "text": [
      " * sqlite:///datasets/pizza_runner.sqlite\n",
      "3 rows affected.\n"
     ]
    },
    {
     "data": {
      "text/plain": [
       "[]"
      ]
     },
     "execution_count": 40,
     "metadata": {},
     "output_type": "execute_result"
    }
   ],
   "source": [
    "%%sql\n",
    "UPDATE customer_orders\n",
    "SET extras = COALESCE(extras,'')\n",
    "WHERE extras IS NULL"
   ]
  },
  {
   "cell_type": "markdown",
   "metadata": {},
   "source": [
    "Replacing string\"null\" with empty string"
   ]
  },
  {
   "cell_type": "code",
   "execution_count": 54,
   "metadata": {},
   "outputs": [
    {
     "name": "stdout",
     "output_type": "stream",
     "text": [
      " * sqlite:///datasets/pizza_runner.sqlite\n",
      "5 rows affected.\n"
     ]
    },
    {
     "data": {
      "text/plain": [
       "[]"
      ]
     },
     "execution_count": 54,
     "metadata": {},
     "output_type": "execute_result"
    }
   ],
   "source": [
    "%%sql\n",
    "UPDATE customer_orders\n",
    "SET exclusions = ''\n",
    "WHERE exclusions = 'null'"
   ]
  },
  {
   "cell_type": "code",
   "execution_count": 56,
   "metadata": {},
   "outputs": [
    {
     "name": "stdout",
     "output_type": "stream",
     "text": [
      " * sqlite:///datasets/pizza_runner.sqlite\n",
      "0 rows affected.\n"
     ]
    },
    {
     "data": {
      "text/plain": [
       "[]"
      ]
     },
     "execution_count": 56,
     "metadata": {},
     "output_type": "execute_result"
    }
   ],
   "source": [
    "%%sql\n",
    "UPDATE customer_orders\n",
    "SET extras = ''\n",
    "WHERE extras = \"null\""
   ]
  },
  {
   "cell_type": "code",
   "execution_count": 139,
   "metadata": {},
   "outputs": [
    {
     "name": "stdout",
     "output_type": "stream",
     "text": [
      " * sqlite:///datasets/pizza_runner.sqlite\n",
      "Done.\n"
     ]
    },
    {
     "data": {
      "text/html": [
       "<table>\n",
       "    <tr>\n",
       "        <th>order_id</th>\n",
       "        <th>customer_id</th>\n",
       "        <th>pizza_id</th>\n",
       "        <th>exclusions</th>\n",
       "        <th>extras</th>\n",
       "        <th>order_time</th>\n",
       "    </tr>\n",
       "    <tr>\n",
       "        <td>1</td>\n",
       "        <td>101</td>\n",
       "        <td>1</td>\n",
       "        <td></td>\n",
       "        <td></td>\n",
       "        <td>2020-01-01 18:05:02</td>\n",
       "    </tr>\n",
       "    <tr>\n",
       "        <td>2</td>\n",
       "        <td>101</td>\n",
       "        <td>1</td>\n",
       "        <td></td>\n",
       "        <td></td>\n",
       "        <td>2020-01-01 19:00:52</td>\n",
       "    </tr>\n",
       "    <tr>\n",
       "        <td>3</td>\n",
       "        <td>102</td>\n",
       "        <td>1</td>\n",
       "        <td></td>\n",
       "        <td></td>\n",
       "        <td>2020-01-02 23:51:23</td>\n",
       "    </tr>\n",
       "    <tr>\n",
       "        <td>3</td>\n",
       "        <td>102</td>\n",
       "        <td>2</td>\n",
       "        <td></td>\n",
       "        <td></td>\n",
       "        <td>2020-01-02 23:51:23</td>\n",
       "    </tr>\n",
       "    <tr>\n",
       "        <td>4</td>\n",
       "        <td>103</td>\n",
       "        <td>1</td>\n",
       "        <td>4</td>\n",
       "        <td></td>\n",
       "        <td>2020-01-04 13:23:46</td>\n",
       "    </tr>\n",
       "    <tr>\n",
       "        <td>4</td>\n",
       "        <td>103</td>\n",
       "        <td>1</td>\n",
       "        <td>4</td>\n",
       "        <td></td>\n",
       "        <td>2020-01-04 13:23:46</td>\n",
       "    </tr>\n",
       "    <tr>\n",
       "        <td>4</td>\n",
       "        <td>103</td>\n",
       "        <td>2</td>\n",
       "        <td>4</td>\n",
       "        <td></td>\n",
       "        <td>2020-01-04 13:23:46</td>\n",
       "    </tr>\n",
       "    <tr>\n",
       "        <td>5</td>\n",
       "        <td>104</td>\n",
       "        <td>1</td>\n",
       "        <td></td>\n",
       "        <td>1</td>\n",
       "        <td>2020-01-08 21:00:29</td>\n",
       "    </tr>\n",
       "    <tr>\n",
       "        <td>6</td>\n",
       "        <td>101</td>\n",
       "        <td>2</td>\n",
       "        <td></td>\n",
       "        <td></td>\n",
       "        <td>2020-01-08 21:03:13</td>\n",
       "    </tr>\n",
       "    <tr>\n",
       "        <td>7</td>\n",
       "        <td>105</td>\n",
       "        <td>2</td>\n",
       "        <td></td>\n",
       "        <td>1</td>\n",
       "        <td>2020-01-08 21:20:29</td>\n",
       "    </tr>\n",
       "    <tr>\n",
       "        <td>8</td>\n",
       "        <td>102</td>\n",
       "        <td>1</td>\n",
       "        <td></td>\n",
       "        <td></td>\n",
       "        <td>2020-01-09 23:54:33</td>\n",
       "    </tr>\n",
       "    <tr>\n",
       "        <td>9</td>\n",
       "        <td>103</td>\n",
       "        <td>1</td>\n",
       "        <td>4</td>\n",
       "        <td>1, 5</td>\n",
       "        <td>2020-01-10 11:22:59</td>\n",
       "    </tr>\n",
       "    <tr>\n",
       "        <td>10</td>\n",
       "        <td>104</td>\n",
       "        <td>1</td>\n",
       "        <td></td>\n",
       "        <td></td>\n",
       "        <td>2020-01-11 18:34:49</td>\n",
       "    </tr>\n",
       "    <tr>\n",
       "        <td>10</td>\n",
       "        <td>104</td>\n",
       "        <td>1</td>\n",
       "        <td>2, 6</td>\n",
       "        <td>1, 4</td>\n",
       "        <td>2020-01-11 18:34:49</td>\n",
       "    </tr>\n",
       "</table>"
      ],
      "text/plain": [
       "[(1, 101, 1, '', '', '2020-01-01 18:05:02'),\n",
       " (2, 101, 1, '', '', '2020-01-01 19:00:52'),\n",
       " (3, 102, 1, '', '', '2020-01-02 23:51:23'),\n",
       " (3, 102, 2, '', '', '2020-01-02 23:51:23'),\n",
       " (4, 103, 1, '4', '', '2020-01-04 13:23:46'),\n",
       " (4, 103, 1, '4', '', '2020-01-04 13:23:46'),\n",
       " (4, 103, 2, '4', '', '2020-01-04 13:23:46'),\n",
       " (5, 104, 1, '', '1', '2020-01-08 21:00:29'),\n",
       " (6, 101, 2, '', '', '2020-01-08 21:03:13'),\n",
       " (7, 105, 2, '', '1', '2020-01-08 21:20:29'),\n",
       " (8, 102, 1, '', '', '2020-01-09 23:54:33'),\n",
       " (9, 103, 1, '4', '1, 5', '2020-01-10 11:22:59'),\n",
       " (10, 104, 1, '', '', '2020-01-11 18:34:49'),\n",
       " (10, 104, 1, '2, 6', '1, 4', '2020-01-11 18:34:49')]"
      ]
     },
     "execution_count": 139,
     "metadata": {},
     "output_type": "execute_result"
    }
   ],
   "source": [
    "%%sql\n",
    "SELECT *\n",
    "FROM customer_orders\n"
   ]
  },
  {
   "cell_type": "code",
   "execution_count": 140,
   "metadata": {},
   "outputs": [
    {
     "name": "stdout",
     "output_type": "stream",
     "text": [
      " * sqlite:///datasets/pizza_runner.sqlite\n",
      "Done.\n"
     ]
    },
    {
     "data": {
      "text/html": [
       "<table>\n",
       "    <tr>\n",
       "        <th>order_id</th>\n",
       "        <th>customer_id</th>\n",
       "        <th>pizza_id</th>\n",
       "        <th>exclusions</th>\n",
       "        <th>extras</th>\n",
       "        <th>order_time</th>\n",
       "    </tr>\n",
       "    <tr>\n",
       "        <td>1</td>\n",
       "        <td>101</td>\n",
       "        <td>1</td>\n",
       "        <td></td>\n",
       "        <td></td>\n",
       "        <td>2020-01-01 18:05:02</td>\n",
       "    </tr>\n",
       "    <tr>\n",
       "        <td>2</td>\n",
       "        <td>101</td>\n",
       "        <td>1</td>\n",
       "        <td></td>\n",
       "        <td></td>\n",
       "        <td>2020-01-01 19:00:52</td>\n",
       "    </tr>\n",
       "    <tr>\n",
       "        <td>3</td>\n",
       "        <td>102</td>\n",
       "        <td>1</td>\n",
       "        <td></td>\n",
       "        <td></td>\n",
       "        <td>2020-01-02 23:51:23</td>\n",
       "    </tr>\n",
       "    <tr>\n",
       "        <td>3</td>\n",
       "        <td>102</td>\n",
       "        <td>2</td>\n",
       "        <td></td>\n",
       "        <td></td>\n",
       "        <td>2020-01-02 23:51:23</td>\n",
       "    </tr>\n",
       "    <tr>\n",
       "        <td>5</td>\n",
       "        <td>104</td>\n",
       "        <td>1</td>\n",
       "        <td></td>\n",
       "        <td>1</td>\n",
       "        <td>2020-01-08 21:00:29</td>\n",
       "    </tr>\n",
       "    <tr>\n",
       "        <td>6</td>\n",
       "        <td>101</td>\n",
       "        <td>2</td>\n",
       "        <td></td>\n",
       "        <td></td>\n",
       "        <td>2020-01-08 21:03:13</td>\n",
       "    </tr>\n",
       "    <tr>\n",
       "        <td>7</td>\n",
       "        <td>105</td>\n",
       "        <td>2</td>\n",
       "        <td></td>\n",
       "        <td>1</td>\n",
       "        <td>2020-01-08 21:20:29</td>\n",
       "    </tr>\n",
       "    <tr>\n",
       "        <td>8</td>\n",
       "        <td>102</td>\n",
       "        <td>1</td>\n",
       "        <td></td>\n",
       "        <td></td>\n",
       "        <td>2020-01-09 23:54:33</td>\n",
       "    </tr>\n",
       "    <tr>\n",
       "        <td>10</td>\n",
       "        <td>104</td>\n",
       "        <td>1</td>\n",
       "        <td></td>\n",
       "        <td></td>\n",
       "        <td>2020-01-11 18:34:49</td>\n",
       "    </tr>\n",
       "</table>"
      ],
      "text/plain": [
       "[(1, 101, 1, '', '', '2020-01-01 18:05:02'),\n",
       " (2, 101, 1, '', '', '2020-01-01 19:00:52'),\n",
       " (3, 102, 1, '', '', '2020-01-02 23:51:23'),\n",
       " (3, 102, 2, '', '', '2020-01-02 23:51:23'),\n",
       " (5, 104, 1, '', '1', '2020-01-08 21:00:29'),\n",
       " (6, 101, 2, '', '', '2020-01-08 21:03:13'),\n",
       " (7, 105, 2, '', '1', '2020-01-08 21:20:29'),\n",
       " (8, 102, 1, '', '', '2020-01-09 23:54:33'),\n",
       " (10, 104, 1, '', '', '2020-01-11 18:34:49')]"
      ]
     },
     "execution_count": 140,
     "metadata": {},
     "output_type": "execute_result"
    }
   ],
   "source": [
    "%%sql\n",
    "SELECT *\n",
    "FROM customer_orders\n",
    "WHERE exclusions = ''\n"
   ]
  },
  {
   "cell_type": "markdown",
   "metadata": {},
   "source": [
    "### runner_orders"
   ]
  },
  {
   "cell_type": "code",
   "execution_count": 145,
   "metadata": {},
   "outputs": [
    {
     "name": "stdout",
     "output_type": "stream",
     "text": [
      " * sqlite:///datasets/pizza_runner.sqlite\n",
      "Done.\n"
     ]
    },
    {
     "data": {
      "text/html": [
       "<table>\n",
       "    <tr>\n",
       "        <th>order_id</th>\n",
       "        <th>runner_id</th>\n",
       "        <th>pickup_time</th>\n",
       "        <th>distance</th>\n",
       "        <th>duration</th>\n",
       "        <th>cancellation</th>\n",
       "    </tr>\n",
       "    <tr>\n",
       "        <td>1</td>\n",
       "        <td>1</td>\n",
       "        <td>2020-01-01 18:15:34</td>\n",
       "        <td>20km</td>\n",
       "        <td>32 minutes</td>\n",
       "        <td></td>\n",
       "    </tr>\n",
       "    <tr>\n",
       "        <td>2</td>\n",
       "        <td>1</td>\n",
       "        <td>2020-01-01 19:10:54</td>\n",
       "        <td>20km</td>\n",
       "        <td>27 minutes</td>\n",
       "        <td></td>\n",
       "    </tr>\n",
       "    <tr>\n",
       "        <td>3</td>\n",
       "        <td>1</td>\n",
       "        <td>2020-01-03 00:12:37</td>\n",
       "        <td>13.4km</td>\n",
       "        <td>20 mins</td>\n",
       "        <td>None</td>\n",
       "    </tr>\n",
       "    <tr>\n",
       "        <td>4</td>\n",
       "        <td>2</td>\n",
       "        <td>2020-01-04 13:53:03</td>\n",
       "        <td>23.4</td>\n",
       "        <td>40</td>\n",
       "        <td>None</td>\n",
       "    </tr>\n",
       "    <tr>\n",
       "        <td>5</td>\n",
       "        <td>3</td>\n",
       "        <td>2020-01-08 21:10:57</td>\n",
       "        <td>10</td>\n",
       "        <td>15</td>\n",
       "        <td>None</td>\n",
       "    </tr>\n",
       "    <tr>\n",
       "        <td>6</td>\n",
       "        <td>3</td>\n",
       "        <td>null</td>\n",
       "        <td>null</td>\n",
       "        <td>null</td>\n",
       "        <td>Restaurant Cancellation</td>\n",
       "    </tr>\n",
       "    <tr>\n",
       "        <td>7</td>\n",
       "        <td>2</td>\n",
       "        <td>2020-01-08 21:30:45</td>\n",
       "        <td>25km</td>\n",
       "        <td>25mins</td>\n",
       "        <td>null</td>\n",
       "    </tr>\n",
       "    <tr>\n",
       "        <td>8</td>\n",
       "        <td>2</td>\n",
       "        <td>2020-01-10 00:15:02</td>\n",
       "        <td>23.4 km</td>\n",
       "        <td>15 minute</td>\n",
       "        <td>null</td>\n",
       "    </tr>\n",
       "    <tr>\n",
       "        <td>9</td>\n",
       "        <td>2</td>\n",
       "        <td>null</td>\n",
       "        <td>null</td>\n",
       "        <td>null</td>\n",
       "        <td>Customer Cancellation</td>\n",
       "    </tr>\n",
       "    <tr>\n",
       "        <td>10</td>\n",
       "        <td>1</td>\n",
       "        <td>2020-01-11 18:50:20</td>\n",
       "        <td>10km</td>\n",
       "        <td>10minutes</td>\n",
       "        <td>null</td>\n",
       "    </tr>\n",
       "</table>"
      ],
      "text/plain": [
       "[(1, 1, '2020-01-01 18:15:34', '20km', '32 minutes', ''),\n",
       " (2, 1, '2020-01-01 19:10:54', '20km', '27 minutes', ''),\n",
       " (3, 1, '2020-01-03 00:12:37', '13.4km', '20 mins', None),\n",
       " (4, 2, '2020-01-04 13:53:03', '23.4', '40', None),\n",
       " (5, 3, '2020-01-08 21:10:57', '10', '15', None),\n",
       " (6, 3, 'null', 'null', 'null', 'Restaurant Cancellation'),\n",
       " (7, 2, '2020-01-08 21:30:45', '25km', '25mins', 'null'),\n",
       " (8, 2, '2020-01-10 00:15:02', '23.4 km', '15 minute', 'null'),\n",
       " (9, 2, 'null', 'null', 'null', 'Customer Cancellation'),\n",
       " (10, 1, '2020-01-11 18:50:20', '10km', '10minutes', 'null')]"
      ]
     },
     "execution_count": 145,
     "metadata": {},
     "output_type": "execute_result"
    }
   ],
   "source": [
    "%%sql\n",
    "SELECT *\n",
    "FROM runner_orders"
   ]
  },
  {
   "cell_type": "code",
   "execution_count": 146,
   "metadata": {},
   "outputs": [
    {
     "name": "stdout",
     "output_type": "stream",
     "text": [
      " * sqlite:///datasets/pizza_runner.sqlite\n",
      "Done.\n"
     ]
    },
    {
     "data": {
      "text/html": [
       "<table>\n",
       "    <tr>\n",
       "        <th>cid</th>\n",
       "        <th>name</th>\n",
       "        <th>type</th>\n",
       "        <th>notnull</th>\n",
       "        <th>dflt_value</th>\n",
       "        <th>pk</th>\n",
       "    </tr>\n",
       "    <tr>\n",
       "        <td>0</td>\n",
       "        <td>order_id</td>\n",
       "        <td>INTEGER</td>\n",
       "        <td>0</td>\n",
       "        <td>None</td>\n",
       "        <td>0</td>\n",
       "    </tr>\n",
       "    <tr>\n",
       "        <td>1</td>\n",
       "        <td>runner_id</td>\n",
       "        <td>INTEGER</td>\n",
       "        <td>0</td>\n",
       "        <td>None</td>\n",
       "        <td>0</td>\n",
       "    </tr>\n",
       "    <tr>\n",
       "        <td>2</td>\n",
       "        <td>pickup_time</td>\n",
       "        <td>VARCHAR(19)</td>\n",
       "        <td>0</td>\n",
       "        <td>None</td>\n",
       "        <td>0</td>\n",
       "    </tr>\n",
       "    <tr>\n",
       "        <td>3</td>\n",
       "        <td>distance</td>\n",
       "        <td>VARCHAR(7)</td>\n",
       "        <td>0</td>\n",
       "        <td>None</td>\n",
       "        <td>0</td>\n",
       "    </tr>\n",
       "    <tr>\n",
       "        <td>4</td>\n",
       "        <td>duration</td>\n",
       "        <td>VARCHAR(10)</td>\n",
       "        <td>0</td>\n",
       "        <td>None</td>\n",
       "        <td>0</td>\n",
       "    </tr>\n",
       "    <tr>\n",
       "        <td>5</td>\n",
       "        <td>cancellation</td>\n",
       "        <td>VARCHAR(23)</td>\n",
       "        <td>0</td>\n",
       "        <td>None</td>\n",
       "        <td>0</td>\n",
       "    </tr>\n",
       "</table>"
      ],
      "text/plain": [
       "[(0, 'order_id', 'INTEGER', 0, None, 0),\n",
       " (1, 'runner_id', 'INTEGER', 0, None, 0),\n",
       " (2, 'pickup_time', 'VARCHAR(19)', 0, None, 0),\n",
       " (3, 'distance', 'VARCHAR(7)', 0, None, 0),\n",
       " (4, 'duration', 'VARCHAR(10)', 0, None, 0),\n",
       " (5, 'cancellation', 'VARCHAR(23)', 0, None, 0)]"
      ]
     },
     "execution_count": 146,
     "metadata": {},
     "output_type": "execute_result"
    }
   ],
   "source": [
    "%%sql\n",
    "PRAGMA table_info(runner_orders)"
   ]
  },
  {
   "cell_type": "markdown",
   "metadata": {},
   "source": [
    "Replacing null with empty string under **cancellation** column"
   ]
  },
  {
   "cell_type": "code",
   "execution_count": 148,
   "metadata": {},
   "outputs": [
    {
     "name": "stdout",
     "output_type": "stream",
     "text": [
      " * sqlite:///datasets/pizza_runner.sqlite\n",
      "3 rows affected.\n"
     ]
    },
    {
     "data": {
      "text/plain": [
       "[]"
      ]
     },
     "execution_count": 148,
     "metadata": {},
     "output_type": "execute_result"
    }
   ],
   "source": [
    "%%sql\n",
    "UPDATE runner_orders\n",
    "SET cancellation = ''\n",
    "WHERE cancellation IS NULL\n"
   ]
  },
  {
   "cell_type": "markdown",
   "metadata": {},
   "source": [
    "Replacing string 'null' with empty string under **cancellation** column"
   ]
  },
  {
   "cell_type": "code",
   "execution_count": 149,
   "metadata": {},
   "outputs": [
    {
     "name": "stdout",
     "output_type": "stream",
     "text": [
      " * sqlite:///datasets/pizza_runner.sqlite\n",
      "3 rows affected.\n"
     ]
    },
    {
     "data": {
      "text/plain": [
       "[]"
      ]
     },
     "execution_count": 149,
     "metadata": {},
     "output_type": "execute_result"
    }
   ],
   "source": [
    "%%sql\n",
    "UPDATE runner_orders\n",
    "SET cancellation = ''\n",
    "WHERE cancellation = 'null'\n"
   ]
  },
  {
   "cell_type": "code",
   "execution_count": 151,
   "metadata": {},
   "outputs": [
    {
     "name": "stdout",
     "output_type": "stream",
     "text": [
      " * sqlite:///datasets/pizza_runner.sqlite\n",
      "Done.\n"
     ]
    },
    {
     "data": {
      "text/html": [
       "<table>\n",
       "    <tr>\n",
       "        <th>cancellation</th>\n",
       "    </tr>\n",
       "    <tr>\n",
       "        <td></td>\n",
       "    </tr>\n",
       "    <tr>\n",
       "        <td>Restaurant Cancellation</td>\n",
       "    </tr>\n",
       "    <tr>\n",
       "        <td>Customer Cancellation</td>\n",
       "    </tr>\n",
       "</table>"
      ],
      "text/plain": [
       "[('',), ('Restaurant Cancellation',), ('Customer Cancellation',)]"
      ]
     },
     "execution_count": 151,
     "metadata": {},
     "output_type": "execute_result"
    }
   ],
   "source": [
    "%%sql\n",
    "SELECT DISTINCT cancellation\n",
    "FROM runner_orders"
   ]
  },
  {
   "cell_type": "markdown",
   "metadata": {},
   "source": [
    "Eliminating str \"km\" from column **distance**"
   ]
  },
  {
   "cell_type": "code",
   "execution_count": 152,
   "metadata": {},
   "outputs": [
    {
     "name": "stdout",
     "output_type": "stream",
     "text": [
      " * sqlite:///datasets/pizza_runner.sqlite\n",
      "10 rows affected.\n"
     ]
    },
    {
     "data": {
      "text/plain": [
       "[]"
      ]
     },
     "execution_count": 152,
     "metadata": {},
     "output_type": "execute_result"
    }
   ],
   "source": [
    "%%sql\n",
    "UPDATE runner_orders\n",
    "SET distance = CAST(replace(distance,'km','') AS real)\n"
   ]
  },
  {
   "cell_type": "code",
   "execution_count": null,
   "metadata": {},
   "outputs": [],
   "source": []
  },
  {
   "cell_type": "code",
   "execution_count": 154,
   "metadata": {},
   "outputs": [
    {
     "name": "stdout",
     "output_type": "stream",
     "text": [
      " * sqlite:///datasets/pizza_runner.sqlite\n",
      "6 rows affected.\n",
      "3 rows affected.\n",
      "2 rows affected.\n",
      "10 rows affected.\n"
     ]
    },
    {
     "data": {
      "text/plain": [
       "[]"
      ]
     },
     "execution_count": 154,
     "metadata": {},
     "output_type": "execute_result"
    }
   ],
   "source": [
    "%%sql\n",
    "UPDATE runner_orders\n",
    "SET duration = REPLACE(duration,'minutes','')\n",
    "WHERE duration LIKE '%min%';\n",
    " \n",
    "UPDATE runner_orders\n",
    "SET duration = REPLACE(duration,'minute','')\n",
    "WHERE duration LIKE '%min%';\n",
    "\n",
    "UPDATE runner_orders\n",
    "SET duration = REPLACE(duration,'mins','')\n",
    "WHERE duration LIKE '%min%';\n",
    "\n",
    "UPDATE runner_orders\n",
    "SET duration = CAST(duration AS INTEGER) \n"
   ]
  },
  {
   "cell_type": "code",
   "execution_count": 172,
   "metadata": {},
   "outputs": [
    {
     "name": "stdout",
     "output_type": "stream",
     "text": [
      " * sqlite:///datasets/pizza_runner.sqlite\n",
      "Done.\n"
     ]
    },
    {
     "data": {
      "text/html": [
       "<table>\n",
       "    <tr>\n",
       "        <th>distance</th>\n",
       "        <th>duration</th>\n",
       "    </tr>\n",
       "    <tr>\n",
       "        <td>20.0</td>\n",
       "        <td>32</td>\n",
       "    </tr>\n",
       "    <tr>\n",
       "        <td>20.0</td>\n",
       "        <td>27</td>\n",
       "    </tr>\n",
       "    <tr>\n",
       "        <td>13.4</td>\n",
       "        <td>20</td>\n",
       "    </tr>\n",
       "    <tr>\n",
       "        <td>23.4</td>\n",
       "        <td>40</td>\n",
       "    </tr>\n",
       "    <tr>\n",
       "        <td>10.0</td>\n",
       "        <td>15</td>\n",
       "    </tr>\n",
       "    <tr>\n",
       "        <td>0.0</td>\n",
       "        <td>0</td>\n",
       "    </tr>\n",
       "    <tr>\n",
       "        <td>25.0</td>\n",
       "        <td>25</td>\n",
       "    </tr>\n",
       "    <tr>\n",
       "        <td>23.4</td>\n",
       "        <td>15</td>\n",
       "    </tr>\n",
       "    <tr>\n",
       "        <td>0.0</td>\n",
       "        <td>0</td>\n",
       "    </tr>\n",
       "    <tr>\n",
       "        <td>10.0</td>\n",
       "        <td>10</td>\n",
       "    </tr>\n",
       "</table>"
      ],
      "text/plain": [
       "[('20.0', '32'),\n",
       " ('20.0', '27'),\n",
       " ('13.4', '20'),\n",
       " ('23.4', '40'),\n",
       " ('10.0', '15'),\n",
       " ('0.0', '0'),\n",
       " ('25.0', '25'),\n",
       " ('23.4', '15'),\n",
       " ('0.0', '0'),\n",
       " ('10.0', '10')]"
      ]
     },
     "execution_count": 172,
     "metadata": {},
     "output_type": "execute_result"
    }
   ],
   "source": [
    "%%sql\n",
    "SELECT distance,duration\n",
    "FROM runner_orders"
   ]
  },
  {
   "cell_type": "code",
   "execution_count": 161,
   "metadata": {},
   "outputs": [
    {
     "name": "stdout",
     "output_type": "stream",
     "text": [
      " * sqlite:///datasets/pizza_runner.sqlite\n",
      "Done.\n"
     ]
    },
    {
     "data": {
      "text/html": [
       "<table>\n",
       "    <tr>\n",
       "        <th>datetime(pickup_time)</th>\n",
       "    </tr>\n",
       "    <tr>\n",
       "        <td>2020-01-01 18:15:34</td>\n",
       "    </tr>\n",
       "    <tr>\n",
       "        <td>2020-01-01 19:10:54</td>\n",
       "    </tr>\n",
       "    <tr>\n",
       "        <td>2020-01-03 00:12:37</td>\n",
       "    </tr>\n",
       "    <tr>\n",
       "        <td>2020-01-04 13:53:03</td>\n",
       "    </tr>\n",
       "    <tr>\n",
       "        <td>2020-01-08 21:10:57</td>\n",
       "    </tr>\n",
       "    <tr>\n",
       "        <td>None</td>\n",
       "    </tr>\n",
       "    <tr>\n",
       "        <td>2020-01-08 21:30:45</td>\n",
       "    </tr>\n",
       "    <tr>\n",
       "        <td>2020-01-10 00:15:02</td>\n",
       "    </tr>\n",
       "    <tr>\n",
       "        <td>None</td>\n",
       "    </tr>\n",
       "    <tr>\n",
       "        <td>2020-01-11 18:50:20</td>\n",
       "    </tr>\n",
       "</table>"
      ],
      "text/plain": [
       "[('2020-01-01 18:15:34',),\n",
       " ('2020-01-01 19:10:54',),\n",
       " ('2020-01-03 00:12:37',),\n",
       " ('2020-01-04 13:53:03',),\n",
       " ('2020-01-08 21:10:57',),\n",
       " (None,),\n",
       " ('2020-01-08 21:30:45',),\n",
       " ('2020-01-10 00:15:02',),\n",
       " (None,),\n",
       " ('2020-01-11 18:50:20',)]"
      ]
     },
     "execution_count": 161,
     "metadata": {},
     "output_type": "execute_result"
    }
   ],
   "source": [
    "%%sql\n",
    "\n",
    "SELECT datetime(pickup_time)\n",
    "FROM runner_orders"
   ]
  },
  {
   "cell_type": "code",
   "execution_count": 155,
   "metadata": {},
   "outputs": [
    {
     "name": "stdout",
     "output_type": "stream",
     "text": [
      " * sqlite:///datasets/pizza_runner.sqlite\n",
      "Done.\n"
     ]
    },
    {
     "data": {
      "text/html": [
       "<table>\n",
       "    <tr>\n",
       "        <th>order_id</th>\n",
       "        <th>runner_id</th>\n",
       "        <th>pickup_time</th>\n",
       "        <th>distance</th>\n",
       "        <th>duration</th>\n",
       "        <th>cancellation</th>\n",
       "    </tr>\n",
       "    <tr>\n",
       "        <td>1</td>\n",
       "        <td>1</td>\n",
       "        <td>2020-01-01 18:15:34</td>\n",
       "        <td>20.0</td>\n",
       "        <td>32</td>\n",
       "        <td></td>\n",
       "    </tr>\n",
       "    <tr>\n",
       "        <td>2</td>\n",
       "        <td>1</td>\n",
       "        <td>2020-01-01 19:10:54</td>\n",
       "        <td>20.0</td>\n",
       "        <td>27</td>\n",
       "        <td></td>\n",
       "    </tr>\n",
       "    <tr>\n",
       "        <td>3</td>\n",
       "        <td>1</td>\n",
       "        <td>2020-01-03 00:12:37</td>\n",
       "        <td>13.4</td>\n",
       "        <td>20</td>\n",
       "        <td></td>\n",
       "    </tr>\n",
       "    <tr>\n",
       "        <td>4</td>\n",
       "        <td>2</td>\n",
       "        <td>2020-01-04 13:53:03</td>\n",
       "        <td>23.4</td>\n",
       "        <td>40</td>\n",
       "        <td></td>\n",
       "    </tr>\n",
       "    <tr>\n",
       "        <td>5</td>\n",
       "        <td>3</td>\n",
       "        <td>2020-01-08 21:10:57</td>\n",
       "        <td>10.0</td>\n",
       "        <td>15</td>\n",
       "        <td></td>\n",
       "    </tr>\n",
       "    <tr>\n",
       "        <td>6</td>\n",
       "        <td>3</td>\n",
       "        <td>null</td>\n",
       "        <td>0.0</td>\n",
       "        <td>0</td>\n",
       "        <td>Restaurant Cancellation</td>\n",
       "    </tr>\n",
       "    <tr>\n",
       "        <td>7</td>\n",
       "        <td>2</td>\n",
       "        <td>2020-01-08 21:30:45</td>\n",
       "        <td>25.0</td>\n",
       "        <td>25</td>\n",
       "        <td></td>\n",
       "    </tr>\n",
       "    <tr>\n",
       "        <td>8</td>\n",
       "        <td>2</td>\n",
       "        <td>2020-01-10 00:15:02</td>\n",
       "        <td>23.4</td>\n",
       "        <td>15</td>\n",
       "        <td></td>\n",
       "    </tr>\n",
       "    <tr>\n",
       "        <td>9</td>\n",
       "        <td>2</td>\n",
       "        <td>null</td>\n",
       "        <td>0.0</td>\n",
       "        <td>0</td>\n",
       "        <td>Customer Cancellation</td>\n",
       "    </tr>\n",
       "    <tr>\n",
       "        <td>10</td>\n",
       "        <td>1</td>\n",
       "        <td>2020-01-11 18:50:20</td>\n",
       "        <td>10.0</td>\n",
       "        <td>10</td>\n",
       "        <td></td>\n",
       "    </tr>\n",
       "</table>"
      ],
      "text/plain": [
       "[(1, 1, '2020-01-01 18:15:34', '20.0', '32', ''),\n",
       " (2, 1, '2020-01-01 19:10:54', '20.0', '27', ''),\n",
       " (3, 1, '2020-01-03 00:12:37', '13.4', '20', ''),\n",
       " (4, 2, '2020-01-04 13:53:03', '23.4', '40', ''),\n",
       " (5, 3, '2020-01-08 21:10:57', '10.0', '15', ''),\n",
       " (6, 3, 'null', '0.0', '0', 'Restaurant Cancellation'),\n",
       " (7, 2, '2020-01-08 21:30:45', '25.0', '25', ''),\n",
       " (8, 2, '2020-01-10 00:15:02', '23.4', '15', ''),\n",
       " (9, 2, 'null', '0.0', '0', 'Customer Cancellation'),\n",
       " (10, 1, '2020-01-11 18:50:20', '10.0', '10', '')]"
      ]
     },
     "execution_count": 155,
     "metadata": {},
     "output_type": "execute_result"
    }
   ],
   "source": [
    "%%sql\n",
    "select *\n",
    "FROM runner_orders\n"
   ]
  },
  {
   "cell_type": "code",
   "execution_count": 93,
   "metadata": {},
   "outputs": [
    {
     "name": "stdout",
     "output_type": "stream",
     "text": [
      " * sqlite:///datasets/pizza_runner.sqlite\n",
      "Done.\n"
     ]
    },
    {
     "data": {
      "text/html": [
       "<table>\n",
       "    <tr>\n",
       "        <th>cid</th>\n",
       "        <th>name</th>\n",
       "        <th>type</th>\n",
       "        <th>notnull</th>\n",
       "        <th>dflt_value</th>\n",
       "        <th>pk</th>\n",
       "    </tr>\n",
       "    <tr>\n",
       "        <td>0</td>\n",
       "        <td>order_id</td>\n",
       "        <td>INTEGER</td>\n",
       "        <td>0</td>\n",
       "        <td>None</td>\n",
       "        <td>0</td>\n",
       "    </tr>\n",
       "    <tr>\n",
       "        <td>1</td>\n",
       "        <td>runner_id</td>\n",
       "        <td>INTEGER</td>\n",
       "        <td>0</td>\n",
       "        <td>None</td>\n",
       "        <td>0</td>\n",
       "    </tr>\n",
       "    <tr>\n",
       "        <td>2</td>\n",
       "        <td>pickup_time</td>\n",
       "        <td>VARCHAR(19)</td>\n",
       "        <td>0</td>\n",
       "        <td>None</td>\n",
       "        <td>0</td>\n",
       "    </tr>\n",
       "    <tr>\n",
       "        <td>3</td>\n",
       "        <td>distance</td>\n",
       "        <td>VARCHAR(7)</td>\n",
       "        <td>0</td>\n",
       "        <td>None</td>\n",
       "        <td>0</td>\n",
       "    </tr>\n",
       "    <tr>\n",
       "        <td>4</td>\n",
       "        <td>duration</td>\n",
       "        <td>VARCHAR(10)</td>\n",
       "        <td>0</td>\n",
       "        <td>None</td>\n",
       "        <td>0</td>\n",
       "    </tr>\n",
       "    <tr>\n",
       "        <td>5</td>\n",
       "        <td>cancellation</td>\n",
       "        <td>VARCHAR(23)</td>\n",
       "        <td>0</td>\n",
       "        <td>None</td>\n",
       "        <td>0</td>\n",
       "    </tr>\n",
       "</table>"
      ],
      "text/plain": [
       "[(0, 'order_id', 'INTEGER', 0, None, 0),\n",
       " (1, 'runner_id', 'INTEGER', 0, None, 0),\n",
       " (2, 'pickup_time', 'VARCHAR(19)', 0, None, 0),\n",
       " (3, 'distance', 'VARCHAR(7)', 0, None, 0),\n",
       " (4, 'duration', 'VARCHAR(10)', 0, None, 0),\n",
       " (5, 'cancellation', 'VARCHAR(23)', 0, None, 0)]"
      ]
     },
     "execution_count": 93,
     "metadata": {},
     "output_type": "execute_result"
    }
   ],
   "source": [
    "%%sql\n",
    "PRAGMA TABLE_INFO(runners_orders)"
   ]
  },
  {
   "cell_type": "markdown",
   "metadata": {},
   "source": [
    "### pizza_name\n",
    "\n",
    "There are only two entries for **pizza_name** with correct data type"
   ]
  },
  {
   "cell_type": "code",
   "execution_count": 164,
   "metadata": {},
   "outputs": [
    {
     "name": "stdout",
     "output_type": "stream",
     "text": [
      " * sqlite:///datasets/pizza_runner.sqlite\n",
      "Done.\n"
     ]
    },
    {
     "data": {
      "text/html": [
       "<table>\n",
       "    <tr>\n",
       "        <th>pizza_id</th>\n",
       "        <th>pizza_name</th>\n",
       "    </tr>\n",
       "    <tr>\n",
       "        <td>1</td>\n",
       "        <td>Meatlovers</td>\n",
       "    </tr>\n",
       "    <tr>\n",
       "        <td>2</td>\n",
       "        <td>Vegetarian</td>\n",
       "    </tr>\n",
       "</table>"
      ],
      "text/plain": [
       "[(1, 'Meatlovers'), (2, 'Vegetarian')]"
      ]
     },
     "execution_count": 164,
     "metadata": {},
     "output_type": "execute_result"
    }
   ],
   "source": [
    "%%sql\n",
    "SELECT *\n",
    "FROM pizza_names"
   ]
  },
  {
   "cell_type": "code",
   "execution_count": 167,
   "metadata": {},
   "outputs": [
    {
     "name": "stdout",
     "output_type": "stream",
     "text": [
      " * sqlite:///datasets/pizza_runner.sqlite\n",
      "Done.\n"
     ]
    },
    {
     "data": {
      "text/html": [
       "<table>\n",
       "    <tr>\n",
       "        <th>cid</th>\n",
       "        <th>name</th>\n",
       "        <th>type</th>\n",
       "        <th>notnull</th>\n",
       "        <th>dflt_value</th>\n",
       "        <th>pk</th>\n",
       "    </tr>\n",
       "    <tr>\n",
       "        <td>0</td>\n",
       "        <td>pizza_id</td>\n",
       "        <td>INTEGER</td>\n",
       "        <td>0</td>\n",
       "        <td>None</td>\n",
       "        <td>0</td>\n",
       "    </tr>\n",
       "    <tr>\n",
       "        <td>1</td>\n",
       "        <td>pizza_name</td>\n",
       "        <td>TEXT</td>\n",
       "        <td>0</td>\n",
       "        <td>None</td>\n",
       "        <td>0</td>\n",
       "    </tr>\n",
       "</table>"
      ],
      "text/plain": [
       "[(0, 'pizza_id', 'INTEGER', 0, None, 0), (1, 'pizza_name', 'TEXT', 0, None, 0)]"
      ]
     },
     "execution_count": 167,
     "metadata": {},
     "output_type": "execute_result"
    }
   ],
   "source": [
    "%%sql\n",
    "PRAGMA TABLE_INFO(pizza_names)"
   ]
  },
  {
   "cell_type": "markdown",
   "metadata": {},
   "source": [
    "### pizza_recipes"
   ]
  },
  {
   "cell_type": "code",
   "execution_count": 168,
   "metadata": {},
   "outputs": [
    {
     "name": "stdout",
     "output_type": "stream",
     "text": [
      " * sqlite:///datasets/pizza_runner.sqlite\n",
      "Done.\n"
     ]
    },
    {
     "data": {
      "text/html": [
       "<table>\n",
       "    <tr>\n",
       "        <th>pizza_id</th>\n",
       "        <th>toppings</th>\n",
       "    </tr>\n",
       "    <tr>\n",
       "        <td>1</td>\n",
       "        <td>1, 2, 3, 4, 5, 6, 8, 10</td>\n",
       "    </tr>\n",
       "    <tr>\n",
       "        <td>2</td>\n",
       "        <td>4, 6, 7, 9, 11, 12</td>\n",
       "    </tr>\n",
       "</table>"
      ],
      "text/plain": [
       "[(1, '1, 2, 3, 4, 5, 6, 8, 10'), (2, '4, 6, 7, 9, 11, 12')]"
      ]
     },
     "execution_count": 168,
     "metadata": {},
     "output_type": "execute_result"
    }
   ],
   "source": [
    "%%sql\n",
    "SELECT *\n",
    "FROM pizza_recipes"
   ]
  },
  {
   "cell_type": "code",
   "execution_count": 169,
   "metadata": {},
   "outputs": [
    {
     "name": "stdout",
     "output_type": "stream",
     "text": [
      " * sqlite:///datasets/pizza_runner.sqlite\n",
      "Done.\n"
     ]
    },
    {
     "data": {
      "text/html": [
       "<table>\n",
       "    <tr>\n",
       "        <th>cid</th>\n",
       "        <th>name</th>\n",
       "        <th>type</th>\n",
       "        <th>notnull</th>\n",
       "        <th>dflt_value</th>\n",
       "        <th>pk</th>\n",
       "    </tr>\n",
       "    <tr>\n",
       "        <td>0</td>\n",
       "        <td>pizza_id</td>\n",
       "        <td>INTEGER</td>\n",
       "        <td>0</td>\n",
       "        <td>None</td>\n",
       "        <td>0</td>\n",
       "    </tr>\n",
       "    <tr>\n",
       "        <td>1</td>\n",
       "        <td>toppings</td>\n",
       "        <td>TEXT</td>\n",
       "        <td>0</td>\n",
       "        <td>None</td>\n",
       "        <td>0</td>\n",
       "    </tr>\n",
       "</table>"
      ],
      "text/plain": [
       "[(0, 'pizza_id', 'INTEGER', 0, None, 0), (1, 'toppings', 'TEXT', 0, None, 0)]"
      ]
     },
     "execution_count": 169,
     "metadata": {},
     "output_type": "execute_result"
    }
   ],
   "source": [
    "%%sql\n",
    "PRAGMA TABLE_INFO(pizza_recipes)"
   ]
  },
  {
   "cell_type": "markdown",
   "metadata": {},
   "source": [
    "### pizza_toppings"
   ]
  },
  {
   "cell_type": "code",
   "execution_count": 170,
   "metadata": {},
   "outputs": [
    {
     "name": "stdout",
     "output_type": "stream",
     "text": [
      " * sqlite:///datasets/pizza_runner.sqlite\n",
      "Done.\n"
     ]
    },
    {
     "data": {
      "text/html": [
       "<table>\n",
       "    <tr>\n",
       "        <th>topping_id</th>\n",
       "        <th>topping_name</th>\n",
       "    </tr>\n",
       "    <tr>\n",
       "        <td>1</td>\n",
       "        <td>Bacon</td>\n",
       "    </tr>\n",
       "    <tr>\n",
       "        <td>2</td>\n",
       "        <td>BBQ Sauce</td>\n",
       "    </tr>\n",
       "    <tr>\n",
       "        <td>3</td>\n",
       "        <td>Beef</td>\n",
       "    </tr>\n",
       "    <tr>\n",
       "        <td>4</td>\n",
       "        <td>Cheese</td>\n",
       "    </tr>\n",
       "    <tr>\n",
       "        <td>5</td>\n",
       "        <td>Chicken</td>\n",
       "    </tr>\n",
       "    <tr>\n",
       "        <td>6</td>\n",
       "        <td>Mushrooms</td>\n",
       "    </tr>\n",
       "    <tr>\n",
       "        <td>7</td>\n",
       "        <td>Onions</td>\n",
       "    </tr>\n",
       "    <tr>\n",
       "        <td>8</td>\n",
       "        <td>Pepperoni</td>\n",
       "    </tr>\n",
       "    <tr>\n",
       "        <td>9</td>\n",
       "        <td>Peppers</td>\n",
       "    </tr>\n",
       "    <tr>\n",
       "        <td>10</td>\n",
       "        <td>Salami</td>\n",
       "    </tr>\n",
       "    <tr>\n",
       "        <td>11</td>\n",
       "        <td>Tomatoes</td>\n",
       "    </tr>\n",
       "    <tr>\n",
       "        <td>12</td>\n",
       "        <td>Tomato Sauce</td>\n",
       "    </tr>\n",
       "</table>"
      ],
      "text/plain": [
       "[(1, 'Bacon'),\n",
       " (2, 'BBQ Sauce'),\n",
       " (3, 'Beef'),\n",
       " (4, 'Cheese'),\n",
       " (5, 'Chicken'),\n",
       " (6, 'Mushrooms'),\n",
       " (7, 'Onions'),\n",
       " (8, 'Pepperoni'),\n",
       " (9, 'Peppers'),\n",
       " (10, 'Salami'),\n",
       " (11, 'Tomatoes'),\n",
       " (12, 'Tomato Sauce')]"
      ]
     },
     "execution_count": 170,
     "metadata": {},
     "output_type": "execute_result"
    }
   ],
   "source": [
    "%%sql\n",
    "SELECT *\n",
    "FROM pizza_toppings"
   ]
  },
  {
   "cell_type": "code",
   "execution_count": 171,
   "metadata": {},
   "outputs": [
    {
     "name": "stdout",
     "output_type": "stream",
     "text": [
      " * sqlite:///datasets/pizza_runner.sqlite\n",
      "Done.\n"
     ]
    },
    {
     "data": {
      "text/html": [
       "<table>\n",
       "    <tr>\n",
       "        <th>cid</th>\n",
       "        <th>name</th>\n",
       "        <th>type</th>\n",
       "        <th>notnull</th>\n",
       "        <th>dflt_value</th>\n",
       "        <th>pk</th>\n",
       "    </tr>\n",
       "    <tr>\n",
       "        <td>0</td>\n",
       "        <td>topping_id</td>\n",
       "        <td>INTEGER</td>\n",
       "        <td>0</td>\n",
       "        <td>None</td>\n",
       "        <td>0</td>\n",
       "    </tr>\n",
       "    <tr>\n",
       "        <td>1</td>\n",
       "        <td>topping_name</td>\n",
       "        <td>TEXT</td>\n",
       "        <td>0</td>\n",
       "        <td>None</td>\n",
       "        <td>0</td>\n",
       "    </tr>\n",
       "</table>"
      ],
      "text/plain": [
       "[(0, 'topping_id', 'INTEGER', 0, None, 0),\n",
       " (1, 'topping_name', 'TEXT', 0, None, 0)]"
      ]
     },
     "execution_count": 171,
     "metadata": {},
     "output_type": "execute_result"
    }
   ],
   "source": [
    "%%sql\n",
    "PRAGMA TABLE_INFO(pizza_toppings)"
   ]
  },
  {
   "cell_type": "markdown",
   "metadata": {},
   "source": [
    "#### Prev  : 🍕 <a href='case_study_2_pizza_part_1.ipynb'> Pizza Runner PART 1 </a>\n",
    "\n",
    "#### Next : 🍕 <a href='case_study_2_pizza_part_3.ipynb'> Pizza Runner PART 3 </a>\n",
    "\n",
    "#### Back to : <a href='https://github.com/sumedhadewan/test-repo' target='_blank'>Project Table of Content</a>"
   ]
  },
  {
   "cell_type": "code",
   "execution_count": null,
   "metadata": {},
   "outputs": [],
   "source": []
  }
 ],
 "metadata": {
  "kernelspec": {
   "display_name": "Python 3",
   "language": "python",
   "name": "python3"
  },
  "language_info": {
   "codemirror_mode": {
    "name": "ipython",
    "version": 3
   },
   "file_extension": ".py",
   "mimetype": "text/x-python",
   "name": "python",
   "nbconvert_exporter": "python",
   "pygments_lexer": "ipython3",
   "version": "3.8.5"
  }
 },
 "nbformat": 4,
 "nbformat_minor": 4
}
